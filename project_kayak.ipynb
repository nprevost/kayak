{
  "cells": [
    {
      "cell_type": "code",
      "execution_count": 1,
      "metadata": {
        "colab": {
          "base_uri": "https://localhost:8080/"
        },
        "id": "fSNAWoqnjUFx",
        "outputId": "52e430ac-ebe6-4f54-8c98-12ed13446473"
      },
      "outputs": [
        {
          "name": "stdout",
          "output_type": "stream",
          "text": [
            "Requirement already satisfied: Scrapy in c:\\users\\dell\\anaconda3\\lib\\site-packages (2.11.1)\n",
            "Requirement already satisfied: Twisted>=18.9.0 in c:\\users\\dell\\anaconda3\\lib\\site-packages (from Scrapy) (23.10.0)\n",
            "Requirement already satisfied: cryptography>=36.0.0 in c:\\users\\dell\\anaconda3\\lib\\site-packages (from Scrapy) (42.0.5)\n",
            "Requirement already satisfied: cssselect>=0.9.1 in c:\\users\\dell\\anaconda3\\lib\\site-packages (from Scrapy) (1.2.0)\n",
            "Requirement already satisfied: itemloaders>=1.0.1 in c:\\users\\dell\\anaconda3\\lib\\site-packages (from Scrapy) (1.1.0)\n",
            "Requirement already satisfied: parsel>=1.5.0 in c:\\users\\dell\\anaconda3\\lib\\site-packages (from Scrapy) (1.8.1)\n",
            "Requirement already satisfied: pyOpenSSL>=21.0.0 in c:\\users\\dell\\anaconda3\\lib\\site-packages (from Scrapy) (24.0.0)\n",
            "Requirement already satisfied: queuelib>=1.4.2 in c:\\users\\dell\\anaconda3\\lib\\site-packages (from Scrapy) (1.6.2)\n",
            "Requirement already satisfied: service-identity>=18.1.0 in c:\\users\\dell\\anaconda3\\lib\\site-packages (from Scrapy) (18.1.0)\n",
            "Requirement already satisfied: w3lib>=1.17.0 in c:\\users\\dell\\anaconda3\\lib\\site-packages (from Scrapy) (2.1.2)\n",
            "Requirement already satisfied: zope.interface>=5.1.0 in c:\\users\\dell\\anaconda3\\lib\\site-packages (from Scrapy) (5.4.0)\n",
            "Requirement already satisfied: protego>=0.1.15 in c:\\users\\dell\\anaconda3\\lib\\site-packages (from Scrapy) (0.1.16)\n",
            "Requirement already satisfied: itemadapter>=0.1.0 in c:\\users\\dell\\anaconda3\\lib\\site-packages (from Scrapy) (0.3.0)\n",
            "Requirement already satisfied: setuptools in c:\\users\\dell\\anaconda3\\lib\\site-packages (from Scrapy) (69.5.1)\n",
            "Requirement already satisfied: packaging in c:\\users\\dell\\anaconda3\\lib\\site-packages (from Scrapy) (23.2)\n",
            "Requirement already satisfied: tldextract in c:\\users\\dell\\anaconda3\\lib\\site-packages (from Scrapy) (3.2.0)\n",
            "Requirement already satisfied: lxml>=4.4.1 in c:\\users\\dell\\anaconda3\\lib\\site-packages (from Scrapy) (5.2.1)\n",
            "Requirement already satisfied: PyDispatcher>=2.0.5 in c:\\users\\dell\\anaconda3\\lib\\site-packages (from Scrapy) (2.0.5)\n",
            "Requirement already satisfied: cffi>=1.12 in c:\\users\\dell\\anaconda3\\lib\\site-packages (from cryptography>=36.0.0->Scrapy) (1.16.0)\n",
            "Requirement already satisfied: jmespath>=0.9.5 in c:\\users\\dell\\anaconda3\\lib\\site-packages (from itemloaders>=1.0.1->Scrapy) (1.0.1)\n",
            "Requirement already satisfied: six in c:\\users\\dell\\anaconda3\\lib\\site-packages (from protego>=0.1.15->Scrapy) (1.16.0)\n",
            "Requirement already satisfied: attrs>=16.0.0 in c:\\users\\dell\\anaconda3\\lib\\site-packages (from service-identity>=18.1.0->Scrapy) (23.1.0)\n",
            "Requirement already satisfied: pyasn1-modules in c:\\users\\dell\\anaconda3\\lib\\site-packages (from service-identity>=18.1.0->Scrapy) (0.2.8)\n",
            "Requirement already satisfied: pyasn1 in c:\\users\\dell\\anaconda3\\lib\\site-packages (from service-identity>=18.1.0->Scrapy) (0.4.8)\n",
            "Requirement already satisfied: automat>=0.8.0 in c:\\users\\dell\\anaconda3\\lib\\site-packages (from Twisted>=18.9.0->Scrapy) (20.2.0)\n",
            "Requirement already satisfied: constantly>=15.1 in c:\\users\\dell\\anaconda3\\lib\\site-packages (from Twisted>=18.9.0->Scrapy) (23.10.4)\n",
            "Requirement already satisfied: hyperlink>=17.1.1 in c:\\users\\dell\\anaconda3\\lib\\site-packages (from Twisted>=18.9.0->Scrapy) (21.0.0)\n",
            "Requirement already satisfied: incremental>=22.10.0 in c:\\users\\dell\\anaconda3\\lib\\site-packages (from Twisted>=18.9.0->Scrapy) (22.10.0)\n",
            "Requirement already satisfied: twisted-iocpsupport<2,>=1.0.2 in c:\\users\\dell\\anaconda3\\lib\\site-packages (from Twisted>=18.9.0->Scrapy) (1.0.2)\n",
            "Requirement already satisfied: typing-extensions>=4.2.0 in c:\\users\\dell\\anaconda3\\lib\\site-packages (from Twisted>=18.9.0->Scrapy) (4.11.0)\n",
            "Requirement already satisfied: idna in c:\\users\\dell\\anaconda3\\lib\\site-packages (from tldextract->Scrapy) (3.7)\n",
            "Requirement already satisfied: requests>=2.1.0 in c:\\users\\dell\\anaconda3\\lib\\site-packages (from tldextract->Scrapy) (2.32.2)\n",
            "Requirement already satisfied: requests-file>=1.4 in c:\\users\\dell\\anaconda3\\lib\\site-packages (from tldextract->Scrapy) (1.5.1)\n",
            "Requirement already satisfied: filelock>=3.0.8 in c:\\users\\dell\\anaconda3\\lib\\site-packages (from tldextract->Scrapy) (3.13.1)\n",
            "Requirement already satisfied: pycparser in c:\\users\\dell\\anaconda3\\lib\\site-packages (from cffi>=1.12->cryptography>=36.0.0->Scrapy) (2.21)\n",
            "Requirement already satisfied: charset-normalizer<4,>=2 in c:\\users\\dell\\anaconda3\\lib\\site-packages (from requests>=2.1.0->tldextract->Scrapy) (2.0.4)\n",
            "Requirement already satisfied: urllib3<3,>=1.21.1 in c:\\users\\dell\\anaconda3\\lib\\site-packages (from requests>=2.1.0->tldextract->Scrapy) (2.2.2)\n",
            "Requirement already satisfied: certifi>=2017.4.17 in c:\\users\\dell\\anaconda3\\lib\\site-packages (from requests>=2.1.0->tldextract->Scrapy) (2024.8.30)\n"
          ]
        }
      ],
      "source": [
        "!pip install Scrapy"
      ]
    },
    {
      "cell_type": "code",
      "execution_count": 2,
      "metadata": {
        "colab": {
          "base_uri": "https://localhost:8080/"
        },
        "id": "_qrl80PE1S05",
        "outputId": "e22476b4-be07-48bb-8a32-90c8ffb24eae"
      },
      "outputs": [
        {
          "name": "stdout",
          "output_type": "stream",
          "text": [
            "Collecting Boto3\n",
            "  Downloading boto3-1.35.92-py3-none-any.whl.metadata (6.7 kB)\n",
            "Collecting botocore<1.36.0,>=1.35.92 (from Boto3)\n",
            "  Downloading botocore-1.35.92-py3-none-any.whl.metadata (5.7 kB)\n",
            "Requirement already satisfied: jmespath<2.0.0,>=0.7.1 in c:\\users\\dell\\anaconda3\\lib\\site-packages (from Boto3) (1.0.1)\n",
            "Collecting s3transfer<0.11.0,>=0.10.0 (from Boto3)\n",
            "  Downloading s3transfer-0.10.4-py3-none-any.whl.metadata (1.7 kB)\n",
            "Requirement already satisfied: python-dateutil<3.0.0,>=2.1 in c:\\users\\dell\\anaconda3\\lib\\site-packages (from botocore<1.36.0,>=1.35.92->Boto3) (2.9.0.post0)\n",
            "Requirement already satisfied: urllib3!=2.2.0,<3,>=1.25.4 in c:\\users\\dell\\anaconda3\\lib\\site-packages (from botocore<1.36.0,>=1.35.92->Boto3) (2.2.2)\n",
            "Requirement already satisfied: six>=1.5 in c:\\users\\dell\\anaconda3\\lib\\site-packages (from python-dateutil<3.0.0,>=2.1->botocore<1.36.0,>=1.35.92->Boto3) (1.16.0)\n",
            "Downloading boto3-1.35.92-py3-none-any.whl (139 kB)\n",
            "   ---------------------------------------- 0.0/139.2 kB ? eta -:--:--\n",
            "   ----------- --------------------------- 41.0/139.2 kB 991.0 kB/s eta 0:00:01\n",
            "   ---------------------------------------- 139.2/139.2 kB 2.8 MB/s eta 0:00:00\n",
            "Downloading botocore-1.35.92-py3-none-any.whl (13.3 MB)\n",
            "   ---------------------------------------- 0.0/13.3 MB ? eta -:--:--\n",
            "   -- ------------------------------------- 0.9/13.3 MB 28.7 MB/s eta 0:00:01\n",
            "   -------- ------------------------------- 2.8/13.3 MB 29.9 MB/s eta 0:00:01\n",
            "   ------------- -------------------------- 4.6/13.3 MB 36.5 MB/s eta 0:00:01\n",
            "   --------------------- ------------------ 7.2/13.3 MB 38.6 MB/s eta 0:00:01\n",
            "   --------------------------- ------------ 9.1/13.3 MB 41.6 MB/s eta 0:00:01\n",
            "   ------------------------------ --------- 10.0/13.3 MB 42.7 MB/s eta 0:00:01\n",
            "   ------------------------------ --------- 10.0/13.3 MB 42.7 MB/s eta 0:00:01\n",
            "   ------------------------------------- -- 12.6/13.3 MB 36.4 MB/s eta 0:00:01\n",
            "   ---------------------------------------  13.3/13.3 MB 36.3 MB/s eta 0:00:01\n",
            "   ---------------------------------------- 13.3/13.3 MB 31.1 MB/s eta 0:00:00\n",
            "Downloading s3transfer-0.10.4-py3-none-any.whl (83 kB)\n",
            "   ---------------------------------------- 0.0/83.2 kB ? eta -:--:--\n",
            "   ---------------------------------------- 83.2/83.2 kB 4.6 MB/s eta 0:00:00\n",
            "Installing collected packages: botocore, s3transfer, Boto3\n",
            "  Attempting uninstall: botocore\n",
            "    Found existing installation: botocore 1.34.69\n",
            "    Uninstalling botocore-1.34.69:\n",
            "      Successfully uninstalled botocore-1.34.69\n",
            "Successfully installed Boto3-1.35.92 botocore-1.35.92 s3transfer-0.10.4\n"
          ]
        },
        {
          "name": "stderr",
          "output_type": "stream",
          "text": [
            "ERROR: pip's dependency resolver does not currently take into account all the packages that are installed. This behaviour is the source of the following dependency conflicts.\n",
            "aiobotocore 2.12.3 requires botocore<1.34.70,>=1.34.41, but you have botocore 1.35.92 which is incompatible.\n"
          ]
        }
      ],
      "source": [
        "!pip install Boto3"
      ]
    },
    {
      "cell_type": "code",
      "execution_count": 3,
      "metadata": {
        "id": "xI6vvI_9bOhH"
      },
      "outputs": [],
      "source": [
        "import requests\n",
        "import time\n",
        "import pandas as pd\n",
        "import json\n",
        "import plotly.express as px\n",
        "\n",
        "from bs4 import BeautifulSoup\n",
        "\n",
        "import scrapy\n",
        "from scrapy.crawler import CrawlerProcess\n",
        "\n",
        "import logging\n",
        "\n",
        "import boto3"
      ]
    },
    {
      "cell_type": "code",
      "execution_count": 4,
      "metadata": {
        "id": "-25OnC30aqlL"
      },
      "outputs": [],
      "source": [
        "cities = [\"Mont Saint Michel\",\n",
        "\"St Malo\",\n",
        "\"Bayeux\",\n",
        "\"Le Havre\",\n",
        "\"Rouen\",\n",
        "\"Paris\",\n",
        "\"Amiens\",\n",
        "\"Lille\",\n",
        "\"Strasbourg\",\n",
        "\"Chateau du Haut Koenigsbourg\",\n",
        "\"Colmar\",\n",
        "\"Eguisheim\",\n",
        "\"Besancon\",\n",
        "\"Dijon\",\n",
        "\"Annecy\",\n",
        "\"Grenoble\",\n",
        "\"Lyon\",\n",
        "\"Gorges du Verdon\",\n",
        "\"Bormes les Mimosas\",\n",
        "\"Cassis\",\n",
        "\"Marseille\",\n",
        "\"Aix en Provence\",\n",
        "\"Avignon\",\n",
        "\"Uzes\",\n",
        "\"Nimes\",\n",
        "\"Aigues Mortes\",\n",
        "\"Saintes Maries de la mer\",\n",
        "\"Collioure\",\n",
        "\"Carcassonne\",\n",
        "\"Ariege\",\n",
        "\"Toulouse\",\n",
        "\"Montauban\",\n",
        "\"Biarritz\",\n",
        "\"Bayonne\",\n",
        "\"La Rochelle\"]\n",
        "\n",
        "url_nominatim = \"https://nominatim.openstreetmap.org\""
      ]
    },
    {
      "cell_type": "code",
      "execution_count": 5,
      "metadata": {
        "colab": {
          "base_uri": "https://localhost:8080/",
          "height": 206
        },
        "id": "FY9BZeweDnS_",
        "outputId": "e19bb2ea-e9da-4708-c563-7bc20e02d522"
      },
      "outputs": [
        {
          "data": {
            "text/html": [
              "<div>\n",
              "<style scoped>\n",
              "    .dataframe tbody tr th:only-of-type {\n",
              "        vertical-align: middle;\n",
              "    }\n",
              "\n",
              "    .dataframe tbody tr th {\n",
              "        vertical-align: top;\n",
              "    }\n",
              "\n",
              "    .dataframe thead th {\n",
              "        text-align: right;\n",
              "    }\n",
              "</style>\n",
              "<table border=\"1\" class=\"dataframe\">\n",
              "  <thead>\n",
              "    <tr style=\"text-align: right;\">\n",
              "      <th></th>\n",
              "      <th>city</th>\n",
              "    </tr>\n",
              "  </thead>\n",
              "  <tbody>\n",
              "    <tr>\n",
              "      <th>0</th>\n",
              "      <td>Mont Saint Michel</td>\n",
              "    </tr>\n",
              "    <tr>\n",
              "      <th>1</th>\n",
              "      <td>St Malo</td>\n",
              "    </tr>\n",
              "    <tr>\n",
              "      <th>2</th>\n",
              "      <td>Bayeux</td>\n",
              "    </tr>\n",
              "    <tr>\n",
              "      <th>3</th>\n",
              "      <td>Le Havre</td>\n",
              "    </tr>\n",
              "    <tr>\n",
              "      <th>4</th>\n",
              "      <td>Rouen</td>\n",
              "    </tr>\n",
              "  </tbody>\n",
              "</table>\n",
              "</div>"
            ],
            "text/plain": [
              "                city\n",
              "0  Mont Saint Michel\n",
              "1            St Malo\n",
              "2             Bayeux\n",
              "3           Le Havre\n",
              "4              Rouen"
            ]
          },
          "execution_count": 5,
          "metadata": {},
          "output_type": "execute_result"
        }
      ],
      "source": [
        "df_cities = pd.DataFrame(cities, columns = [\"city\"])\n",
        "df_cities.head()"
      ]
    },
    {
      "cell_type": "code",
      "execution_count": 6,
      "metadata": {
        "colab": {
          "base_uri": "https://localhost:8080/",
          "height": 206
        },
        "id": "u8rCwsaZbTWu",
        "outputId": "612f9b87-ddae-43a8-e062-96c1b1780154"
      },
      "outputs": [
        {
          "data": {
            "text/html": [
              "<div>\n",
              "<style scoped>\n",
              "    .dataframe tbody tr th:only-of-type {\n",
              "        vertical-align: middle;\n",
              "    }\n",
              "\n",
              "    .dataframe tbody tr th {\n",
              "        vertical-align: top;\n",
              "    }\n",
              "\n",
              "    .dataframe thead th {\n",
              "        text-align: right;\n",
              "    }\n",
              "</style>\n",
              "<table border=\"1\" class=\"dataframe\">\n",
              "  <thead>\n",
              "    <tr style=\"text-align: right;\">\n",
              "      <th></th>\n",
              "      <th>city</th>\n",
              "      <th>lat</th>\n",
              "      <th>lon</th>\n",
              "      <th>place_id</th>\n",
              "    </tr>\n",
              "  </thead>\n",
              "  <tbody>\n",
              "    <tr>\n",
              "      <th>0</th>\n",
              "      <td>Mont Saint Michel</td>\n",
              "      <td>48.6359541</td>\n",
              "      <td>-1.511459954959514</td>\n",
              "      <td>263784110.0</td>\n",
              "    </tr>\n",
              "    <tr>\n",
              "      <th>1</th>\n",
              "      <td>St Malo</td>\n",
              "      <td>48.649518</td>\n",
              "      <td>-2.0260409</td>\n",
              "      <td>263088376.0</td>\n",
              "    </tr>\n",
              "    <tr>\n",
              "      <th>2</th>\n",
              "      <td>Bayeux</td>\n",
              "      <td>49.2764624</td>\n",
              "      <td>-0.7024738</td>\n",
              "      <td>262975271.0</td>\n",
              "    </tr>\n",
              "    <tr>\n",
              "      <th>3</th>\n",
              "      <td>Le Havre</td>\n",
              "      <td>49.4938975</td>\n",
              "      <td>0.1079732</td>\n",
              "      <td>89704449.0</td>\n",
              "    </tr>\n",
              "    <tr>\n",
              "      <th>4</th>\n",
              "      <td>Rouen</td>\n",
              "      <td>49.4404591</td>\n",
              "      <td>1.0939658</td>\n",
              "      <td>90829492.0</td>\n",
              "    </tr>\n",
              "  </tbody>\n",
              "</table>\n",
              "</div>"
            ],
            "text/plain": [
              "                city         lat                 lon     place_id\n",
              "0  Mont Saint Michel  48.6359541  -1.511459954959514  263784110.0\n",
              "1            St Malo   48.649518          -2.0260409  263088376.0\n",
              "2             Bayeux  49.2764624          -0.7024738  262975271.0\n",
              "3           Le Havre  49.4938975           0.1079732   89704449.0\n",
              "4              Rouen  49.4404591           1.0939658   90829492.0"
            ]
          },
          "execution_count": 6,
          "metadata": {},
          "output_type": "execute_result"
        }
      ],
      "source": [
        "df_cities = pd.DataFrame(cities, columns = [\"city\"])\n",
        "\n",
        "headers = {'User-Agent': 'Mozilla/5.0 (Windows NT 10.0; Win64; x64)'}\n",
        "\n",
        "i = 0\n",
        "\n",
        "for city in cities:\n",
        "  payload = {\n",
        "      \"q\": city,\n",
        "      \"format\": \"jsonv2\",\n",
        "      \"limit\": 1\n",
        "      }\n",
        "\n",
        "  response = requests.get(url_nominatim+\"/search\", headers=headers, params=payload)\n",
        "  df_cities.loc[i, \"lat\"] = response.json()[0][\"lat\"]\n",
        "  df_cities.loc[i, \"lon\"] = response.json()[0][\"lon\"]\n",
        "  df_cities.loc[i, \"place_id\"] = response.json()[0][\"place_id\"]\n",
        "\n",
        "  i += 1\n",
        "  time.sleep(1)\n",
        "\n",
        "df_cities.head()"
      ]
    },
    {
      "cell_type": "code",
      "execution_count": 8,
      "metadata": {
        "id": "67j-lMF269mn"
      },
      "outputs": [],
      "source": [
        "df_cities.to_csv(\"data/cities_location.csv\")"
      ]
    },
    {
      "cell_type": "code",
      "execution_count": 9,
      "metadata": {
        "colab": {
          "base_uri": "https://localhost:8080/",
          "height": 206
        },
        "id": "Of2fX0iI7L12",
        "outputId": "2c8a92aa-c66c-43c5-9008-69b87c02dac9"
      },
      "outputs": [
        {
          "data": {
            "text/html": [
              "<div>\n",
              "<style scoped>\n",
              "    .dataframe tbody tr th:only-of-type {\n",
              "        vertical-align: middle;\n",
              "    }\n",
              "\n",
              "    .dataframe tbody tr th {\n",
              "        vertical-align: top;\n",
              "    }\n",
              "\n",
              "    .dataframe thead th {\n",
              "        text-align: right;\n",
              "    }\n",
              "</style>\n",
              "<table border=\"1\" class=\"dataframe\">\n",
              "  <thead>\n",
              "    <tr style=\"text-align: right;\">\n",
              "      <th></th>\n",
              "      <th>Unnamed: 0</th>\n",
              "      <th>city</th>\n",
              "      <th>lat</th>\n",
              "      <th>lon</th>\n",
              "      <th>place_id</th>\n",
              "    </tr>\n",
              "  </thead>\n",
              "  <tbody>\n",
              "    <tr>\n",
              "      <th>0</th>\n",
              "      <td>0</td>\n",
              "      <td>Mont Saint Michel</td>\n",
              "      <td>48.635954</td>\n",
              "      <td>-1.511460</td>\n",
              "      <td>263784110.0</td>\n",
              "    </tr>\n",
              "    <tr>\n",
              "      <th>1</th>\n",
              "      <td>1</td>\n",
              "      <td>St Malo</td>\n",
              "      <td>48.649518</td>\n",
              "      <td>-2.026041</td>\n",
              "      <td>263088376.0</td>\n",
              "    </tr>\n",
              "    <tr>\n",
              "      <th>2</th>\n",
              "      <td>2</td>\n",
              "      <td>Bayeux</td>\n",
              "      <td>49.276462</td>\n",
              "      <td>-0.702474</td>\n",
              "      <td>262975271.0</td>\n",
              "    </tr>\n",
              "    <tr>\n",
              "      <th>3</th>\n",
              "      <td>3</td>\n",
              "      <td>Le Havre</td>\n",
              "      <td>49.493898</td>\n",
              "      <td>0.107973</td>\n",
              "      <td>89704449.0</td>\n",
              "    </tr>\n",
              "    <tr>\n",
              "      <th>4</th>\n",
              "      <td>4</td>\n",
              "      <td>Rouen</td>\n",
              "      <td>49.440459</td>\n",
              "      <td>1.093966</td>\n",
              "      <td>90829492.0</td>\n",
              "    </tr>\n",
              "  </tbody>\n",
              "</table>\n",
              "</div>"
            ],
            "text/plain": [
              "   Unnamed: 0               city        lat       lon     place_id\n",
              "0           0  Mont Saint Michel  48.635954 -1.511460  263784110.0\n",
              "1           1            St Malo  48.649518 -2.026041  263088376.0\n",
              "2           2             Bayeux  49.276462 -0.702474  262975271.0\n",
              "3           3           Le Havre  49.493898  0.107973   89704449.0\n",
              "4           4              Rouen  49.440459  1.093966   90829492.0"
            ]
          },
          "execution_count": 9,
          "metadata": {},
          "output_type": "execute_result"
        }
      ],
      "source": [
        "df_cities = pd.read_csv(\"data/cities_location.csv\")\n",
        "df_cities.head()"
      ]
    },
    {
      "cell_type": "markdown",
      "metadata": {
        "id": "uIbZ5hBtYADh"
      },
      "source": [
        "Appel de l'api openweathermap et récupération des infos importantes"
      ]
    },
    {
      "cell_type": "code",
      "execution_count": 10,
      "metadata": {
        "id": "OZlIzndlG1hn"
      },
      "outputs": [],
      "source": [
        "api_key = open(\"data/api_key.txt\", \"r\").readlines()\n",
        "\n",
        "api_key[0]\n",
        "\n",
        "df_weather = pd.DataFrame()\n",
        "\n",
        "def get_weather(df_weather, city, json_object):\n",
        "  for i in range(1, 8):\n",
        "    if(\"rain\" in json_object[\"daily\"][i]):\n",
        "      rain = json_object[\"daily\"][i][\"rain\"] * json_object[\"daily\"][i][\"pop\"]\n",
        "    else:\n",
        "      rain = 0\n",
        "\n",
        "    list_tmp = [city, json_object[\"daily\"][i][\"dt\"],\n",
        "                json_object[\"daily\"][i][\"feels_like\"][\"day\"],\n",
        "                json_object[\"daily\"][i][\"humidity\"],\n",
        "                rain\n",
        "                ]\n",
        "    df_tmp = pd.DataFrame([list_tmp], columns=[\"city\", \"timestamp\", \"feels_like\", \"humidity\", \"rain\"])\n",
        "    df_weather = pd.concat([df_weather, df_tmp])\n",
        "\n",
        "  return df_weather\n",
        "\n",
        "for i in df_cities.index:\n",
        "  url = \"https://api.openweathermap.org/data/3.0/onecall?lat={}&lon={}&APPID={}&exclude={}&units={}\".format(\n",
        "      df_cities.loc[i, \"lat\"],\n",
        "      df_cities.loc[i, \"lon\"],\n",
        "      api_key[0],\n",
        "      'hourly',\n",
        "      \"metric\")\n",
        "\n",
        "  response_weather = requests.get(url)\n",
        "\n",
        "  df_weather = get_weather(df_weather, df_cities.loc[i, \"city\"], response_weather.json())"
      ]
    },
    {
      "cell_type": "code",
      "execution_count": 11,
      "metadata": {
        "colab": {
          "base_uri": "https://localhost:8080/",
          "height": 424
        },
        "id": "ch03C9xqXWig",
        "outputId": "e9b3c16d-dd56-46e8-e167-edb938840d0e"
      },
      "outputs": [
        {
          "data": {
            "text/html": [
              "<div>\n",
              "<style scoped>\n",
              "    .dataframe tbody tr th:only-of-type {\n",
              "        vertical-align: middle;\n",
              "    }\n",
              "\n",
              "    .dataframe tbody tr th {\n",
              "        vertical-align: top;\n",
              "    }\n",
              "\n",
              "    .dataframe thead th {\n",
              "        text-align: right;\n",
              "    }\n",
              "</style>\n",
              "<table border=\"1\" class=\"dataframe\">\n",
              "  <thead>\n",
              "    <tr style=\"text-align: right;\">\n",
              "      <th></th>\n",
              "      <th>city</th>\n",
              "      <th>timestamp</th>\n",
              "      <th>feels_like</th>\n",
              "      <th>humidity</th>\n",
              "      <th>rain</th>\n",
              "    </tr>\n",
              "  </thead>\n",
              "  <tbody>\n",
              "    <tr>\n",
              "      <th>0</th>\n",
              "      <td>Mont Saint Michel</td>\n",
              "      <td>1736164800</td>\n",
              "      <td>4.36</td>\n",
              "      <td>66</td>\n",
              "      <td>6.9600</td>\n",
              "    </tr>\n",
              "    <tr>\n",
              "      <th>0</th>\n",
              "      <td>Mont Saint Michel</td>\n",
              "      <td>1736251200</td>\n",
              "      <td>3.02</td>\n",
              "      <td>69</td>\n",
              "      <td>2.8300</td>\n",
              "    </tr>\n",
              "    <tr>\n",
              "      <th>0</th>\n",
              "      <td>Mont Saint Michel</td>\n",
              "      <td>1736337600</td>\n",
              "      <td>-2.07</td>\n",
              "      <td>95</td>\n",
              "      <td>21.5100</td>\n",
              "    </tr>\n",
              "    <tr>\n",
              "      <th>0</th>\n",
              "      <td>Mont Saint Michel</td>\n",
              "      <td>1736424000</td>\n",
              "      <td>1.76</td>\n",
              "      <td>68</td>\n",
              "      <td>6.6300</td>\n",
              "    </tr>\n",
              "    <tr>\n",
              "      <th>0</th>\n",
              "      <td>Mont Saint Michel</td>\n",
              "      <td>1736510400</td>\n",
              "      <td>1.91</td>\n",
              "      <td>80</td>\n",
              "      <td>0.1207</td>\n",
              "    </tr>\n",
              "    <tr>\n",
              "      <th>...</th>\n",
              "      <td>...</td>\n",
              "      <td>...</td>\n",
              "      <td>...</td>\n",
              "      <td>...</td>\n",
              "      <td>...</td>\n",
              "    </tr>\n",
              "    <tr>\n",
              "      <th>0</th>\n",
              "      <td>La Rochelle</td>\n",
              "      <td>1736337600</td>\n",
              "      <td>11.94</td>\n",
              "      <td>85</td>\n",
              "      <td>12.1000</td>\n",
              "    </tr>\n",
              "    <tr>\n",
              "      <th>0</th>\n",
              "      <td>La Rochelle</td>\n",
              "      <td>1736424000</td>\n",
              "      <td>9.89</td>\n",
              "      <td>92</td>\n",
              "      <td>8.5200</td>\n",
              "    </tr>\n",
              "    <tr>\n",
              "      <th>0</th>\n",
              "      <td>La Rochelle</td>\n",
              "      <td>1736510400</td>\n",
              "      <td>1.86</td>\n",
              "      <td>79</td>\n",
              "      <td>2.6400</td>\n",
              "    </tr>\n",
              "    <tr>\n",
              "      <th>0</th>\n",
              "      <td>La Rochelle</td>\n",
              "      <td>1736596800</td>\n",
              "      <td>0.61</td>\n",
              "      <td>70</td>\n",
              "      <td>0.0000</td>\n",
              "    </tr>\n",
              "    <tr>\n",
              "      <th>0</th>\n",
              "      <td>La Rochelle</td>\n",
              "      <td>1736683200</td>\n",
              "      <td>1.65</td>\n",
              "      <td>72</td>\n",
              "      <td>0.0000</td>\n",
              "    </tr>\n",
              "  </tbody>\n",
              "</table>\n",
              "<p>245 rows × 5 columns</p>\n",
              "</div>"
            ],
            "text/plain": [
              "                 city   timestamp  feels_like  humidity     rain\n",
              "0   Mont Saint Michel  1736164800        4.36        66   6.9600\n",
              "0   Mont Saint Michel  1736251200        3.02        69   2.8300\n",
              "0   Mont Saint Michel  1736337600       -2.07        95  21.5100\n",
              "0   Mont Saint Michel  1736424000        1.76        68   6.6300\n",
              "0   Mont Saint Michel  1736510400        1.91        80   0.1207\n",
              "..                ...         ...         ...       ...      ...\n",
              "0         La Rochelle  1736337600       11.94        85  12.1000\n",
              "0         La Rochelle  1736424000        9.89        92   8.5200\n",
              "0         La Rochelle  1736510400        1.86        79   2.6400\n",
              "0         La Rochelle  1736596800        0.61        70   0.0000\n",
              "0         La Rochelle  1736683200        1.65        72   0.0000\n",
              "\n",
              "[245 rows x 5 columns]"
            ]
          },
          "metadata": {},
          "output_type": "display_data"
        }
      ],
      "source": [
        "display(df_weather)"
      ]
    },
    {
      "cell_type": "markdown",
      "metadata": {
        "id": "e6HJoY1IPaop"
      },
      "source": [
        "main => feels_like\n",
        "\n",
        "weather => main\n",
        "\n",
        "pop"
      ]
    },
    {
      "cell_type": "code",
      "execution_count": 12,
      "metadata": {
        "colab": {
          "base_uri": "https://localhost:8080/",
          "height": 424
        },
        "id": "Z7HNDCatUruh",
        "outputId": "93039938-2acc-4ce3-cd59-2e76384e7995"
      },
      "outputs": [
        {
          "data": {
            "text/html": [
              "<div>\n",
              "<style scoped>\n",
              "    .dataframe tbody tr th:only-of-type {\n",
              "        vertical-align: middle;\n",
              "    }\n",
              "\n",
              "    .dataframe tbody tr th {\n",
              "        vertical-align: top;\n",
              "    }\n",
              "\n",
              "    .dataframe thead th {\n",
              "        text-align: right;\n",
              "    }\n",
              "</style>\n",
              "<table border=\"1\" class=\"dataframe\">\n",
              "  <thead>\n",
              "    <tr style=\"text-align: right;\">\n",
              "      <th></th>\n",
              "      <th>id_city</th>\n",
              "      <th>city</th>\n",
              "      <th>lat</th>\n",
              "      <th>lon</th>\n",
              "      <th>place_id</th>\n",
              "      <th>timestamp</th>\n",
              "      <th>feels_like</th>\n",
              "      <th>humidity</th>\n",
              "      <th>rain</th>\n",
              "    </tr>\n",
              "  </thead>\n",
              "  <tbody>\n",
              "    <tr>\n",
              "      <th>0</th>\n",
              "      <td>0</td>\n",
              "      <td>Mont Saint Michel</td>\n",
              "      <td>48.635954</td>\n",
              "      <td>-1.511460</td>\n",
              "      <td>263784110.0</td>\n",
              "      <td>1736164800</td>\n",
              "      <td>4.36</td>\n",
              "      <td>66</td>\n",
              "      <td>6.9600</td>\n",
              "    </tr>\n",
              "    <tr>\n",
              "      <th>1</th>\n",
              "      <td>0</td>\n",
              "      <td>Mont Saint Michel</td>\n",
              "      <td>48.635954</td>\n",
              "      <td>-1.511460</td>\n",
              "      <td>263784110.0</td>\n",
              "      <td>1736251200</td>\n",
              "      <td>3.02</td>\n",
              "      <td>69</td>\n",
              "      <td>2.8300</td>\n",
              "    </tr>\n",
              "    <tr>\n",
              "      <th>2</th>\n",
              "      <td>0</td>\n",
              "      <td>Mont Saint Michel</td>\n",
              "      <td>48.635954</td>\n",
              "      <td>-1.511460</td>\n",
              "      <td>263784110.0</td>\n",
              "      <td>1736337600</td>\n",
              "      <td>-2.07</td>\n",
              "      <td>95</td>\n",
              "      <td>21.5100</td>\n",
              "    </tr>\n",
              "    <tr>\n",
              "      <th>3</th>\n",
              "      <td>0</td>\n",
              "      <td>Mont Saint Michel</td>\n",
              "      <td>48.635954</td>\n",
              "      <td>-1.511460</td>\n",
              "      <td>263784110.0</td>\n",
              "      <td>1736424000</td>\n",
              "      <td>1.76</td>\n",
              "      <td>68</td>\n",
              "      <td>6.6300</td>\n",
              "    </tr>\n",
              "    <tr>\n",
              "      <th>4</th>\n",
              "      <td>0</td>\n",
              "      <td>Mont Saint Michel</td>\n",
              "      <td>48.635954</td>\n",
              "      <td>-1.511460</td>\n",
              "      <td>263784110.0</td>\n",
              "      <td>1736510400</td>\n",
              "      <td>1.91</td>\n",
              "      <td>80</td>\n",
              "      <td>0.1207</td>\n",
              "    </tr>\n",
              "    <tr>\n",
              "      <th>...</th>\n",
              "      <td>...</td>\n",
              "      <td>...</td>\n",
              "      <td>...</td>\n",
              "      <td>...</td>\n",
              "      <td>...</td>\n",
              "      <td>...</td>\n",
              "      <td>...</td>\n",
              "      <td>...</td>\n",
              "      <td>...</td>\n",
              "    </tr>\n",
              "    <tr>\n",
              "      <th>240</th>\n",
              "      <td>34</td>\n",
              "      <td>La Rochelle</td>\n",
              "      <td>46.159732</td>\n",
              "      <td>-1.151595</td>\n",
              "      <td>266833066.0</td>\n",
              "      <td>1736337600</td>\n",
              "      <td>11.94</td>\n",
              "      <td>85</td>\n",
              "      <td>12.1000</td>\n",
              "    </tr>\n",
              "    <tr>\n",
              "      <th>241</th>\n",
              "      <td>34</td>\n",
              "      <td>La Rochelle</td>\n",
              "      <td>46.159732</td>\n",
              "      <td>-1.151595</td>\n",
              "      <td>266833066.0</td>\n",
              "      <td>1736424000</td>\n",
              "      <td>9.89</td>\n",
              "      <td>92</td>\n",
              "      <td>8.5200</td>\n",
              "    </tr>\n",
              "    <tr>\n",
              "      <th>242</th>\n",
              "      <td>34</td>\n",
              "      <td>La Rochelle</td>\n",
              "      <td>46.159732</td>\n",
              "      <td>-1.151595</td>\n",
              "      <td>266833066.0</td>\n",
              "      <td>1736510400</td>\n",
              "      <td>1.86</td>\n",
              "      <td>79</td>\n",
              "      <td>2.6400</td>\n",
              "    </tr>\n",
              "    <tr>\n",
              "      <th>243</th>\n",
              "      <td>34</td>\n",
              "      <td>La Rochelle</td>\n",
              "      <td>46.159732</td>\n",
              "      <td>-1.151595</td>\n",
              "      <td>266833066.0</td>\n",
              "      <td>1736596800</td>\n",
              "      <td>0.61</td>\n",
              "      <td>70</td>\n",
              "      <td>0.0000</td>\n",
              "    </tr>\n",
              "    <tr>\n",
              "      <th>244</th>\n",
              "      <td>34</td>\n",
              "      <td>La Rochelle</td>\n",
              "      <td>46.159732</td>\n",
              "      <td>-1.151595</td>\n",
              "      <td>266833066.0</td>\n",
              "      <td>1736683200</td>\n",
              "      <td>1.65</td>\n",
              "      <td>72</td>\n",
              "      <td>0.0000</td>\n",
              "    </tr>\n",
              "  </tbody>\n",
              "</table>\n",
              "<p>245 rows × 9 columns</p>\n",
              "</div>"
            ],
            "text/plain": [
              "     id_city               city        lat       lon     place_id   timestamp  \\\n",
              "0          0  Mont Saint Michel  48.635954 -1.511460  263784110.0  1736164800   \n",
              "1          0  Mont Saint Michel  48.635954 -1.511460  263784110.0  1736251200   \n",
              "2          0  Mont Saint Michel  48.635954 -1.511460  263784110.0  1736337600   \n",
              "3          0  Mont Saint Michel  48.635954 -1.511460  263784110.0  1736424000   \n",
              "4          0  Mont Saint Michel  48.635954 -1.511460  263784110.0  1736510400   \n",
              "..       ...                ...        ...       ...          ...         ...   \n",
              "240       34        La Rochelle  46.159732 -1.151595  266833066.0  1736337600   \n",
              "241       34        La Rochelle  46.159732 -1.151595  266833066.0  1736424000   \n",
              "242       34        La Rochelle  46.159732 -1.151595  266833066.0  1736510400   \n",
              "243       34        La Rochelle  46.159732 -1.151595  266833066.0  1736596800   \n",
              "244       34        La Rochelle  46.159732 -1.151595  266833066.0  1736683200   \n",
              "\n",
              "     feels_like  humidity     rain  \n",
              "0          4.36        66   6.9600  \n",
              "1          3.02        69   2.8300  \n",
              "2         -2.07        95  21.5100  \n",
              "3          1.76        68   6.6300  \n",
              "4          1.91        80   0.1207  \n",
              "..          ...       ...      ...  \n",
              "240       11.94        85  12.1000  \n",
              "241        9.89        92   8.5200  \n",
              "242        1.86        79   2.6400  \n",
              "243        0.61        70   0.0000  \n",
              "244        1.65        72   0.0000  \n",
              "\n",
              "[245 rows x 9 columns]"
            ]
          },
          "metadata": {},
          "output_type": "display_data"
        }
      ],
      "source": [
        "df_cities_weather = df_cities.merge(df_weather, on=\"city\")\n",
        "\n",
        "df_cities_weather.reset_index(drop=True, inplace=True)\n",
        "df_cities_weather.rename(columns={\"Unnamed: 0\": \"id_city\"}, inplace=True)\n",
        "\n",
        "display(df_cities_weather)"
      ]
    },
    {
      "cell_type": "code",
      "execution_count": 13,
      "metadata": {
        "colab": {
          "base_uri": "https://localhost:8080/",
          "height": 363
        },
        "id": "65qyBn4degvx",
        "outputId": "feafed52-9877-4a4c-e4e7-f56ba30735eb"
      },
      "outputs": [
        {
          "data": {
            "text/html": [
              "<div>\n",
              "<style scoped>\n",
              "    .dataframe tbody tr th:only-of-type {\n",
              "        vertical-align: middle;\n",
              "    }\n",
              "\n",
              "    .dataframe tbody tr th {\n",
              "        vertical-align: top;\n",
              "    }\n",
              "\n",
              "    .dataframe thead th {\n",
              "        text-align: right;\n",
              "    }\n",
              "</style>\n",
              "<table border=\"1\" class=\"dataframe\">\n",
              "  <thead>\n",
              "    <tr style=\"text-align: right;\">\n",
              "      <th></th>\n",
              "      <th>id_city</th>\n",
              "      <th>city</th>\n",
              "      <th>lat</th>\n",
              "      <th>lon</th>\n",
              "      <th>place_id</th>\n",
              "      <th>timestamp</th>\n",
              "      <th>feels_like</th>\n",
              "      <th>humidity</th>\n",
              "      <th>rain</th>\n",
              "      <th>date</th>\n",
              "    </tr>\n",
              "  </thead>\n",
              "  <tbody>\n",
              "    <tr>\n",
              "      <th>0</th>\n",
              "      <td>0</td>\n",
              "      <td>Mont Saint Michel</td>\n",
              "      <td>48.635954</td>\n",
              "      <td>-1.511460</td>\n",
              "      <td>263784110.0</td>\n",
              "      <td>1736164800</td>\n",
              "      <td>4.36</td>\n",
              "      <td>66</td>\n",
              "      <td>6.9600</td>\n",
              "      <td>2025-01-06</td>\n",
              "    </tr>\n",
              "    <tr>\n",
              "      <th>1</th>\n",
              "      <td>0</td>\n",
              "      <td>Mont Saint Michel</td>\n",
              "      <td>48.635954</td>\n",
              "      <td>-1.511460</td>\n",
              "      <td>263784110.0</td>\n",
              "      <td>1736251200</td>\n",
              "      <td>3.02</td>\n",
              "      <td>69</td>\n",
              "      <td>2.8300</td>\n",
              "      <td>2025-01-07</td>\n",
              "    </tr>\n",
              "    <tr>\n",
              "      <th>2</th>\n",
              "      <td>0</td>\n",
              "      <td>Mont Saint Michel</td>\n",
              "      <td>48.635954</td>\n",
              "      <td>-1.511460</td>\n",
              "      <td>263784110.0</td>\n",
              "      <td>1736337600</td>\n",
              "      <td>-2.07</td>\n",
              "      <td>95</td>\n",
              "      <td>21.5100</td>\n",
              "      <td>2025-01-08</td>\n",
              "    </tr>\n",
              "    <tr>\n",
              "      <th>3</th>\n",
              "      <td>0</td>\n",
              "      <td>Mont Saint Michel</td>\n",
              "      <td>48.635954</td>\n",
              "      <td>-1.511460</td>\n",
              "      <td>263784110.0</td>\n",
              "      <td>1736424000</td>\n",
              "      <td>1.76</td>\n",
              "      <td>68</td>\n",
              "      <td>6.6300</td>\n",
              "      <td>2025-01-09</td>\n",
              "    </tr>\n",
              "    <tr>\n",
              "      <th>4</th>\n",
              "      <td>0</td>\n",
              "      <td>Mont Saint Michel</td>\n",
              "      <td>48.635954</td>\n",
              "      <td>-1.511460</td>\n",
              "      <td>263784110.0</td>\n",
              "      <td>1736510400</td>\n",
              "      <td>1.91</td>\n",
              "      <td>80</td>\n",
              "      <td>0.1207</td>\n",
              "      <td>2025-01-10</td>\n",
              "    </tr>\n",
              "    <tr>\n",
              "      <th>5</th>\n",
              "      <td>0</td>\n",
              "      <td>Mont Saint Michel</td>\n",
              "      <td>48.635954</td>\n",
              "      <td>-1.511460</td>\n",
              "      <td>263784110.0</td>\n",
              "      <td>1736596800</td>\n",
              "      <td>2.07</td>\n",
              "      <td>74</td>\n",
              "      <td>0.0000</td>\n",
              "      <td>2025-01-11</td>\n",
              "    </tr>\n",
              "    <tr>\n",
              "      <th>6</th>\n",
              "      <td>0</td>\n",
              "      <td>Mont Saint Michel</td>\n",
              "      <td>48.635954</td>\n",
              "      <td>-1.511460</td>\n",
              "      <td>263784110.0</td>\n",
              "      <td>1736683200</td>\n",
              "      <td>3.93</td>\n",
              "      <td>69</td>\n",
              "      <td>0.0000</td>\n",
              "      <td>2025-01-12</td>\n",
              "    </tr>\n",
              "    <tr>\n",
              "      <th>7</th>\n",
              "      <td>1</td>\n",
              "      <td>St Malo</td>\n",
              "      <td>48.649518</td>\n",
              "      <td>-2.026041</td>\n",
              "      <td>263088376.0</td>\n",
              "      <td>1736164800</td>\n",
              "      <td>4.75</td>\n",
              "      <td>65</td>\n",
              "      <td>6.0800</td>\n",
              "      <td>2025-01-06</td>\n",
              "    </tr>\n",
              "    <tr>\n",
              "      <th>8</th>\n",
              "      <td>1</td>\n",
              "      <td>St Malo</td>\n",
              "      <td>48.649518</td>\n",
              "      <td>-2.026041</td>\n",
              "      <td>263088376.0</td>\n",
              "      <td>1736251200</td>\n",
              "      <td>3.62</td>\n",
              "      <td>64</td>\n",
              "      <td>2.4200</td>\n",
              "      <td>2025-01-07</td>\n",
              "    </tr>\n",
              "    <tr>\n",
              "      <th>9</th>\n",
              "      <td>1</td>\n",
              "      <td>St Malo</td>\n",
              "      <td>48.649518</td>\n",
              "      <td>-2.026041</td>\n",
              "      <td>263088376.0</td>\n",
              "      <td>1736337600</td>\n",
              "      <td>-1.86</td>\n",
              "      <td>96</td>\n",
              "      <td>23.0900</td>\n",
              "      <td>2025-01-08</td>\n",
              "    </tr>\n",
              "  </tbody>\n",
              "</table>\n",
              "</div>"
            ],
            "text/plain": [
              "   id_city               city        lat       lon     place_id   timestamp  \\\n",
              "0        0  Mont Saint Michel  48.635954 -1.511460  263784110.0  1736164800   \n",
              "1        0  Mont Saint Michel  48.635954 -1.511460  263784110.0  1736251200   \n",
              "2        0  Mont Saint Michel  48.635954 -1.511460  263784110.0  1736337600   \n",
              "3        0  Mont Saint Michel  48.635954 -1.511460  263784110.0  1736424000   \n",
              "4        0  Mont Saint Michel  48.635954 -1.511460  263784110.0  1736510400   \n",
              "5        0  Mont Saint Michel  48.635954 -1.511460  263784110.0  1736596800   \n",
              "6        0  Mont Saint Michel  48.635954 -1.511460  263784110.0  1736683200   \n",
              "7        1            St Malo  48.649518 -2.026041  263088376.0  1736164800   \n",
              "8        1            St Malo  48.649518 -2.026041  263088376.0  1736251200   \n",
              "9        1            St Malo  48.649518 -2.026041  263088376.0  1736337600   \n",
              "\n",
              "   feels_like  humidity     rain        date  \n",
              "0        4.36        66   6.9600  2025-01-06  \n",
              "1        3.02        69   2.8300  2025-01-07  \n",
              "2       -2.07        95  21.5100  2025-01-08  \n",
              "3        1.76        68   6.6300  2025-01-09  \n",
              "4        1.91        80   0.1207  2025-01-10  \n",
              "5        2.07        74   0.0000  2025-01-11  \n",
              "6        3.93        69   0.0000  2025-01-12  \n",
              "7        4.75        65   6.0800  2025-01-06  \n",
              "8        3.62        64   2.4200  2025-01-07  \n",
              "9       -1.86        96  23.0900  2025-01-08  "
            ]
          },
          "execution_count": 13,
          "metadata": {},
          "output_type": "execute_result"
        }
      ],
      "source": [
        "df_cities_weather[\"date\"] = pd.to_datetime(df_cities_weather[\"timestamp\"], unit=\"s\").dt.date\n",
        "\n",
        "df_cities_weather.head(10)"
      ]
    },
    {
      "cell_type": "code",
      "execution_count": 14,
      "metadata": {
        "colab": {
          "base_uri": "https://localhost:8080/",
          "height": 542
        },
        "id": "uvN075lZjwG8",
        "outputId": "dcb81d0e-ad18-41f2-e9f4-6c6931e954b2"
      },
      "outputs": [
        {
          "data": {
            "application/vnd.plotly.v1+json": {
              "config": {
                "plotlyServerURL": "https://plot.ly"
              },
              "data": [
                {
                  "hovertemplate": "<b>%{hovertext}</b><br><br>date=2025-01-06<br>lat=%{lat}<br>lon=%{lon}<br>feels_like=%{marker.color}<extra></extra>",
                  "hovertext": [
                    "Mont Saint Michel",
                    "St Malo",
                    "Bayeux",
                    "Le Havre",
                    "Rouen",
                    "Paris",
                    "Amiens",
                    "Lille",
                    "Strasbourg",
                    "Chateau du Haut Koenigsbourg",
                    "Colmar",
                    "Eguisheim",
                    "Besancon",
                    "Dijon",
                    "Annecy",
                    "Grenoble",
                    "Lyon",
                    "Gorges du Verdon",
                    "Bormes les Mimosas",
                    "Cassis",
                    "Marseille",
                    "Aix en Provence",
                    "Avignon",
                    "Uzes",
                    "Nimes",
                    "Aigues Mortes",
                    "Saintes Maries de la mer",
                    "Collioure",
                    "Carcassonne",
                    "Ariege",
                    "Toulouse",
                    "Montauban",
                    "Biarritz",
                    "Bayonne",
                    "La Rochelle"
                  ],
                  "lat": [
                    48.6359541,
                    48.649518,
                    49.2764624,
                    49.4938975,
                    49.4404591,
                    48.8534951,
                    49.8941708,
                    50.6365654,
                    48.584614,
                    48.24941075,
                    48.0777517,
                    48.0447968,
                    47.2380222,
                    47.3215806,
                    45.8992348,
                    45.1875602,
                    45.7578137,
                    43.7496562,
                    43.1506968,
                    43.2140359,
                    43.2961743,
                    43.5298424,
                    43.9492493,
                    44.0121279,
                    43.8374249,
                    43.5661521,
                    43.4515922,
                    42.52505,
                    43.2130358,
                    42.9455368,
                    43.6044622,
                    44.0175835,
                    43.47114375,
                    43.4945144,
                    46.159732
                  ],
                  "legendgroup": "",
                  "lon": [
                    -1.511459954959514,
                    -2.0260409,
                    -0.7024738,
                    0.1079732,
                    1.0939658,
                    2.3483915,
                    2.2956951,
                    3.0635282,
                    7.7507127,
                    7.344320233724503,
                    7.3579641,
                    7.3079618,
                    6.0243622,
                    5.0414701,
                    6.1288847,
                    5.7357819,
                    4.8320114,
                    6.3285616,
                    6.3419285,
                    5.5396318,
                    5.3699525,
                    5.4474738,
                    4.8059012,
                    4.4196718,
                    4.3600687,
                    4.19154,
                    4.4277202,
                    3.0831554,
                    2.3491069,
                    1.4065544156065486,
                    1.4442469,
                    1.3549991,
                    -1.552726590666314,
                    -1.4736657,
                    -1.1515951
                  ],
                  "marker": {
                    "color": [
                      4.36,
                      4.75,
                      1.71,
                      3,
                      2.67,
                      5.85,
                      3.94,
                      9.35,
                      5.77,
                      6.65,
                      11.3,
                      11.21,
                      11.21,
                      10.78,
                      6.4,
                      11.08,
                      11.35,
                      3.93,
                      12.65,
                      12.74,
                      13.74,
                      11.44,
                      14.41,
                      12.77,
                      13.46,
                      12.51,
                      13.53,
                      13.35,
                      11.92,
                      4.09,
                      9.21,
                      6.74,
                      9.99,
                      9.8,
                      8.99
                    ],
                    "coloraxis": "coloraxis"
                  },
                  "mode": "markers",
                  "name": "",
                  "showlegend": false,
                  "subplot": "mapbox",
                  "type": "scattermapbox"
                }
              ],
              "frames": [
                {
                  "data": [
                    {
                      "hovertemplate": "<b>%{hovertext}</b><br><br>date=2025-01-06<br>lat=%{lat}<br>lon=%{lon}<br>feels_like=%{marker.color}<extra></extra>",
                      "hovertext": [
                        "Mont Saint Michel",
                        "St Malo",
                        "Bayeux",
                        "Le Havre",
                        "Rouen",
                        "Paris",
                        "Amiens",
                        "Lille",
                        "Strasbourg",
                        "Chateau du Haut Koenigsbourg",
                        "Colmar",
                        "Eguisheim",
                        "Besancon",
                        "Dijon",
                        "Annecy",
                        "Grenoble",
                        "Lyon",
                        "Gorges du Verdon",
                        "Bormes les Mimosas",
                        "Cassis",
                        "Marseille",
                        "Aix en Provence",
                        "Avignon",
                        "Uzes",
                        "Nimes",
                        "Aigues Mortes",
                        "Saintes Maries de la mer",
                        "Collioure",
                        "Carcassonne",
                        "Ariege",
                        "Toulouse",
                        "Montauban",
                        "Biarritz",
                        "Bayonne",
                        "La Rochelle"
                      ],
                      "lat": [
                        48.6359541,
                        48.649518,
                        49.2764624,
                        49.4938975,
                        49.4404591,
                        48.8534951,
                        49.8941708,
                        50.6365654,
                        48.584614,
                        48.24941075,
                        48.0777517,
                        48.0447968,
                        47.2380222,
                        47.3215806,
                        45.8992348,
                        45.1875602,
                        45.7578137,
                        43.7496562,
                        43.1506968,
                        43.2140359,
                        43.2961743,
                        43.5298424,
                        43.9492493,
                        44.0121279,
                        43.8374249,
                        43.5661521,
                        43.4515922,
                        42.52505,
                        43.2130358,
                        42.9455368,
                        43.6044622,
                        44.0175835,
                        43.47114375,
                        43.4945144,
                        46.159732
                      ],
                      "legendgroup": "",
                      "lon": [
                        -1.511459954959514,
                        -2.0260409,
                        -0.7024738,
                        0.1079732,
                        1.0939658,
                        2.3483915,
                        2.2956951,
                        3.0635282,
                        7.7507127,
                        7.344320233724503,
                        7.3579641,
                        7.3079618,
                        6.0243622,
                        5.0414701,
                        6.1288847,
                        5.7357819,
                        4.8320114,
                        6.3285616,
                        6.3419285,
                        5.5396318,
                        5.3699525,
                        5.4474738,
                        4.8059012,
                        4.4196718,
                        4.3600687,
                        4.19154,
                        4.4277202,
                        3.0831554,
                        2.3491069,
                        1.4065544156065486,
                        1.4442469,
                        1.3549991,
                        -1.552726590666314,
                        -1.4736657,
                        -1.1515951
                      ],
                      "marker": {
                        "color": [
                          4.36,
                          4.75,
                          1.71,
                          3,
                          2.67,
                          5.85,
                          3.94,
                          9.35,
                          5.77,
                          6.65,
                          11.3,
                          11.21,
                          11.21,
                          10.78,
                          6.4,
                          11.08,
                          11.35,
                          3.93,
                          12.65,
                          12.74,
                          13.74,
                          11.44,
                          14.41,
                          12.77,
                          13.46,
                          12.51,
                          13.53,
                          13.35,
                          11.92,
                          4.09,
                          9.21,
                          6.74,
                          9.99,
                          9.8,
                          8.99
                        ],
                        "coloraxis": "coloraxis"
                      },
                      "mode": "markers",
                      "name": "",
                      "showlegend": false,
                      "subplot": "mapbox",
                      "type": "scattermapbox"
                    }
                  ],
                  "name": "2025-01-06"
                },
                {
                  "data": [
                    {
                      "hovertemplate": "<b>%{hovertext}</b><br><br>date=2025-01-07<br>lat=%{lat}<br>lon=%{lon}<br>feels_like=%{marker.color}<extra></extra>",
                      "hovertext": [
                        "Mont Saint Michel",
                        "St Malo",
                        "Bayeux",
                        "Le Havre",
                        "Rouen",
                        "Paris",
                        "Amiens",
                        "Lille",
                        "Strasbourg",
                        "Chateau du Haut Koenigsbourg",
                        "Colmar",
                        "Eguisheim",
                        "Besancon",
                        "Dijon",
                        "Annecy",
                        "Grenoble",
                        "Lyon",
                        "Gorges du Verdon",
                        "Bormes les Mimosas",
                        "Cassis",
                        "Marseille",
                        "Aix en Provence",
                        "Avignon",
                        "Uzes",
                        "Nimes",
                        "Aigues Mortes",
                        "Saintes Maries de la mer",
                        "Collioure",
                        "Carcassonne",
                        "Ariege",
                        "Toulouse",
                        "Montauban",
                        "Biarritz",
                        "Bayonne",
                        "La Rochelle"
                      ],
                      "lat": [
                        48.6359541,
                        48.649518,
                        49.2764624,
                        49.4938975,
                        49.4404591,
                        48.8534951,
                        49.8941708,
                        50.6365654,
                        48.584614,
                        48.24941075,
                        48.0777517,
                        48.0447968,
                        47.2380222,
                        47.3215806,
                        45.8992348,
                        45.1875602,
                        45.7578137,
                        43.7496562,
                        43.1506968,
                        43.2140359,
                        43.2961743,
                        43.5298424,
                        43.9492493,
                        44.0121279,
                        43.8374249,
                        43.5661521,
                        43.4515922,
                        42.52505,
                        43.2130358,
                        42.9455368,
                        43.6044622,
                        44.0175835,
                        43.47114375,
                        43.4945144,
                        46.159732
                      ],
                      "legendgroup": "",
                      "lon": [
                        -1.511459954959514,
                        -2.0260409,
                        -0.7024738,
                        0.1079732,
                        1.0939658,
                        2.3483915,
                        2.2956951,
                        3.0635282,
                        7.7507127,
                        7.344320233724503,
                        7.3579641,
                        7.3079618,
                        6.0243622,
                        5.0414701,
                        6.1288847,
                        5.7357819,
                        4.8320114,
                        6.3285616,
                        6.3419285,
                        5.5396318,
                        5.3699525,
                        5.4474738,
                        4.8059012,
                        4.4196718,
                        4.3600687,
                        4.19154,
                        4.4277202,
                        3.0831554,
                        2.3491069,
                        1.4065544156065486,
                        1.4442469,
                        1.3549991,
                        -1.552726590666314,
                        -1.4736657,
                        -1.1515951
                      ],
                      "marker": {
                        "color": [
                          3.02,
                          3.62,
                          1.7,
                          2.26,
                          0.79,
                          1.87,
                          -1.44,
                          -2.68,
                          2.43,
                          -1.55,
                          2.21,
                          1.63,
                          0.43,
                          1.4,
                          4.07,
                          7.58,
                          6.67,
                          -0.37,
                          9.43,
                          8.75,
                          9.74,
                          6.31,
                          9.69,
                          7.3,
                          7.2,
                          9.98,
                          10.11,
                          11.4,
                          9.04,
                          6.2,
                          7.75,
                          6.7,
                          10.66,
                          10.28,
                          9.25
                        ],
                        "coloraxis": "coloraxis"
                      },
                      "mode": "markers",
                      "name": "",
                      "showlegend": false,
                      "subplot": "mapbox",
                      "type": "scattermapbox"
                    }
                  ],
                  "name": "2025-01-07"
                },
                {
                  "data": [
                    {
                      "hovertemplate": "<b>%{hovertext}</b><br><br>date=2025-01-08<br>lat=%{lat}<br>lon=%{lon}<br>feels_like=%{marker.color}<extra></extra>",
                      "hovertext": [
                        "Mont Saint Michel",
                        "St Malo",
                        "Bayeux",
                        "Le Havre",
                        "Rouen",
                        "Paris",
                        "Amiens",
                        "Lille",
                        "Strasbourg",
                        "Chateau du Haut Koenigsbourg",
                        "Colmar",
                        "Eguisheim",
                        "Besancon",
                        "Dijon",
                        "Annecy",
                        "Grenoble",
                        "Lyon",
                        "Gorges du Verdon",
                        "Bormes les Mimosas",
                        "Cassis",
                        "Marseille",
                        "Aix en Provence",
                        "Avignon",
                        "Uzes",
                        "Nimes",
                        "Aigues Mortes",
                        "Saintes Maries de la mer",
                        "Collioure",
                        "Carcassonne",
                        "Ariege",
                        "Toulouse",
                        "Montauban",
                        "Biarritz",
                        "Bayonne",
                        "La Rochelle"
                      ],
                      "lat": [
                        48.6359541,
                        48.649518,
                        49.2764624,
                        49.4938975,
                        49.4404591,
                        48.8534951,
                        49.8941708,
                        50.6365654,
                        48.584614,
                        48.24941075,
                        48.0777517,
                        48.0447968,
                        47.2380222,
                        47.3215806,
                        45.8992348,
                        45.1875602,
                        45.7578137,
                        43.7496562,
                        43.1506968,
                        43.2140359,
                        43.2961743,
                        43.5298424,
                        43.9492493,
                        44.0121279,
                        43.8374249,
                        43.5661521,
                        43.4515922,
                        42.52505,
                        43.2130358,
                        42.9455368,
                        43.6044622,
                        44.0175835,
                        43.47114375,
                        43.4945144,
                        46.159732
                      ],
                      "legendgroup": "",
                      "lon": [
                        -1.511459954959514,
                        -2.0260409,
                        -0.7024738,
                        0.1079732,
                        1.0939658,
                        2.3483915,
                        2.2956951,
                        3.0635282,
                        7.7507127,
                        7.344320233724503,
                        7.3579641,
                        7.3079618,
                        6.0243622,
                        5.0414701,
                        6.1288847,
                        5.7357819,
                        4.8320114,
                        6.3285616,
                        6.3419285,
                        5.5396318,
                        5.3699525,
                        5.4474738,
                        4.8059012,
                        4.4196718,
                        4.3600687,
                        4.19154,
                        4.4277202,
                        3.0831554,
                        2.3491069,
                        1.4065544156065486,
                        1.4442469,
                        1.3549991,
                        -1.552726590666314,
                        -1.4736657,
                        -1.1515951
                      ],
                      "marker": {
                        "color": [
                          -2.07,
                          -1.86,
                          -2.28,
                          -0.74,
                          -0.28,
                          1.59,
                          2.35,
                          1.73,
                          -1.91,
                          -2.71,
                          -0.24,
                          -0.1,
                          9.54,
                          11.13,
                          4.93,
                          7.19,
                          9.97,
                          7.3,
                          12.26,
                          11.62,
                          11.9,
                          10.36,
                          10,
                          9.5,
                          9.96,
                          10.67,
                          11.08,
                          14.45,
                          11.48,
                          11.37,
                          13.58,
                          13.99,
                          13.06,
                          13.65,
                          11.94
                        ],
                        "coloraxis": "coloraxis"
                      },
                      "mode": "markers",
                      "name": "",
                      "showlegend": false,
                      "subplot": "mapbox",
                      "type": "scattermapbox"
                    }
                  ],
                  "name": "2025-01-08"
                },
                {
                  "data": [
                    {
                      "hovertemplate": "<b>%{hovertext}</b><br><br>date=2025-01-09<br>lat=%{lat}<br>lon=%{lon}<br>feels_like=%{marker.color}<extra></extra>",
                      "hovertext": [
                        "Mont Saint Michel",
                        "St Malo",
                        "Bayeux",
                        "Le Havre",
                        "Rouen",
                        "Paris",
                        "Amiens",
                        "Lille",
                        "Strasbourg",
                        "Chateau du Haut Koenigsbourg",
                        "Colmar",
                        "Eguisheim",
                        "Besancon",
                        "Dijon",
                        "Annecy",
                        "Grenoble",
                        "Lyon",
                        "Gorges du Verdon",
                        "Bormes les Mimosas",
                        "Cassis",
                        "Marseille",
                        "Aix en Provence",
                        "Avignon",
                        "Uzes",
                        "Nimes",
                        "Aigues Mortes",
                        "Saintes Maries de la mer",
                        "Collioure",
                        "Carcassonne",
                        "Ariege",
                        "Toulouse",
                        "Montauban",
                        "Biarritz",
                        "Bayonne",
                        "La Rochelle"
                      ],
                      "lat": [
                        48.6359541,
                        48.649518,
                        49.2764624,
                        49.4938975,
                        49.4404591,
                        48.8534951,
                        49.8941708,
                        50.6365654,
                        48.584614,
                        48.24941075,
                        48.0777517,
                        48.0447968,
                        47.2380222,
                        47.3215806,
                        45.8992348,
                        45.1875602,
                        45.7578137,
                        43.7496562,
                        43.1506968,
                        43.2140359,
                        43.2961743,
                        43.5298424,
                        43.9492493,
                        44.0121279,
                        43.8374249,
                        43.5661521,
                        43.4515922,
                        42.52505,
                        43.2130358,
                        42.9455368,
                        43.6044622,
                        44.0175835,
                        43.47114375,
                        43.4945144,
                        46.159732
                      ],
                      "legendgroup": "",
                      "lon": [
                        -1.511459954959514,
                        -2.0260409,
                        -0.7024738,
                        0.1079732,
                        1.0939658,
                        2.3483915,
                        2.2956951,
                        3.0635282,
                        7.7507127,
                        7.344320233724503,
                        7.3579641,
                        7.3079618,
                        6.0243622,
                        5.0414701,
                        6.1288847,
                        5.7357819,
                        4.8320114,
                        6.3285616,
                        6.3419285,
                        5.5396318,
                        5.3699525,
                        5.4474738,
                        4.8059012,
                        4.4196718,
                        4.3600687,
                        4.19154,
                        4.4277202,
                        3.0831554,
                        2.3491069,
                        1.4065544156065486,
                        1.4442469,
                        1.3549991,
                        -1.552726590666314,
                        -1.4736657,
                        -1.1515951
                      ],
                      "marker": {
                        "color": [
                          1.76,
                          2.52,
                          1.31,
                          1.49,
                          -0.38,
                          -0.48,
                          -2.19,
                          1.42,
                          6.54,
                          4.23,
                          9.42,
                          7.01,
                          9.89,
                          10.47,
                          6.03,
                          11.19,
                          11.48,
                          5.81,
                          12.75,
                          11.81,
                          12.74,
                          11.23,
                          12.84,
                          12.05,
                          12.43,
                          12.43,
                          12.5,
                          15.13,
                          11.29,
                          5.73,
                          7.18,
                          10.43,
                          11.94,
                          11.91,
                          9.89
                        ],
                        "coloraxis": "coloraxis"
                      },
                      "mode": "markers",
                      "name": "",
                      "showlegend": false,
                      "subplot": "mapbox",
                      "type": "scattermapbox"
                    }
                  ],
                  "name": "2025-01-09"
                },
                {
                  "data": [
                    {
                      "hovertemplate": "<b>%{hovertext}</b><br><br>date=2025-01-10<br>lat=%{lat}<br>lon=%{lon}<br>feels_like=%{marker.color}<extra></extra>",
                      "hovertext": [
                        "Mont Saint Michel",
                        "St Malo",
                        "Bayeux",
                        "Le Havre",
                        "Rouen",
                        "Paris",
                        "Amiens",
                        "Lille",
                        "Strasbourg",
                        "Chateau du Haut Koenigsbourg",
                        "Colmar",
                        "Eguisheim",
                        "Besancon",
                        "Dijon",
                        "Annecy",
                        "Grenoble",
                        "Lyon",
                        "Gorges du Verdon",
                        "Bormes les Mimosas",
                        "Cassis",
                        "Marseille",
                        "Aix en Provence",
                        "Avignon",
                        "Uzes",
                        "Nimes",
                        "Aigues Mortes",
                        "Saintes Maries de la mer",
                        "Collioure",
                        "Carcassonne",
                        "Ariege",
                        "Toulouse",
                        "Montauban",
                        "Biarritz",
                        "Bayonne",
                        "La Rochelle"
                      ],
                      "lat": [
                        48.6359541,
                        48.649518,
                        49.2764624,
                        49.4938975,
                        49.4404591,
                        48.8534951,
                        49.8941708,
                        50.6365654,
                        48.584614,
                        48.24941075,
                        48.0777517,
                        48.0447968,
                        47.2380222,
                        47.3215806,
                        45.8992348,
                        45.1875602,
                        45.7578137,
                        43.7496562,
                        43.1506968,
                        43.2140359,
                        43.2961743,
                        43.5298424,
                        43.9492493,
                        44.0121279,
                        43.8374249,
                        43.5661521,
                        43.4515922,
                        42.52505,
                        43.2130358,
                        42.9455368,
                        43.6044622,
                        44.0175835,
                        43.47114375,
                        43.4945144,
                        46.159732
                      ],
                      "legendgroup": "",
                      "lon": [
                        -1.511459954959514,
                        -2.0260409,
                        -0.7024738,
                        0.1079732,
                        1.0939658,
                        2.3483915,
                        2.2956951,
                        3.0635282,
                        7.7507127,
                        7.344320233724503,
                        7.3579641,
                        7.3079618,
                        6.0243622,
                        5.0414701,
                        6.1288847,
                        5.7357819,
                        4.8320114,
                        6.3285616,
                        6.3419285,
                        5.5396318,
                        5.3699525,
                        5.4474738,
                        4.8059012,
                        4.4196718,
                        4.3600687,
                        4.19154,
                        4.4277202,
                        3.0831554,
                        2.3491069,
                        1.4065544156065486,
                        1.4442469,
                        1.3549991,
                        -1.552726590666314,
                        -1.4736657,
                        -1.1515951
                      ],
                      "marker": {
                        "color": [
                          1.91,
                          1.42,
                          2.78,
                          3.13,
                          3.15,
                          3.41,
                          -0.52,
                          0.45,
                          -0.14,
                          -1.37,
                          4.21,
                          4.03,
                          -0.2,
                          2.97,
                          -0.35,
                          -0.72,
                          -0.21,
                          0.14,
                          3.95,
                          -0.22,
                          0.2,
                          0.15,
                          1.17,
                          3.78,
                          5.28,
                          6.18,
                          5.08,
                          5.52,
                          3.09,
                          2.98,
                          5.11,
                          4.42,
                          7.23,
                          6.49,
                          1.86
                        ],
                        "coloraxis": "coloraxis"
                      },
                      "mode": "markers",
                      "name": "",
                      "showlegend": false,
                      "subplot": "mapbox",
                      "type": "scattermapbox"
                    }
                  ],
                  "name": "2025-01-10"
                },
                {
                  "data": [
                    {
                      "hovertemplate": "<b>%{hovertext}</b><br><br>date=2025-01-11<br>lat=%{lat}<br>lon=%{lon}<br>feels_like=%{marker.color}<extra></extra>",
                      "hovertext": [
                        "Mont Saint Michel",
                        "St Malo",
                        "Bayeux",
                        "Le Havre",
                        "Rouen",
                        "Paris",
                        "Amiens",
                        "Lille",
                        "Strasbourg",
                        "Chateau du Haut Koenigsbourg",
                        "Colmar",
                        "Eguisheim",
                        "Besancon",
                        "Dijon",
                        "Annecy",
                        "Grenoble",
                        "Lyon",
                        "Gorges du Verdon",
                        "Bormes les Mimosas",
                        "Cassis",
                        "Marseille",
                        "Aix en Provence",
                        "Avignon",
                        "Uzes",
                        "Nimes",
                        "Aigues Mortes",
                        "Saintes Maries de la mer",
                        "Collioure",
                        "Carcassonne",
                        "Ariege",
                        "Toulouse",
                        "Montauban",
                        "Biarritz",
                        "Bayonne",
                        "La Rochelle"
                      ],
                      "lat": [
                        48.6359541,
                        48.649518,
                        49.2764624,
                        49.4938975,
                        49.4404591,
                        48.8534951,
                        49.8941708,
                        50.6365654,
                        48.584614,
                        48.24941075,
                        48.0777517,
                        48.0447968,
                        47.2380222,
                        47.3215806,
                        45.8992348,
                        45.1875602,
                        45.7578137,
                        43.7496562,
                        43.1506968,
                        43.2140359,
                        43.2961743,
                        43.5298424,
                        43.9492493,
                        44.0121279,
                        43.8374249,
                        43.5661521,
                        43.4515922,
                        42.52505,
                        43.2130358,
                        42.9455368,
                        43.6044622,
                        44.0175835,
                        43.47114375,
                        43.4945144,
                        46.159732
                      ],
                      "legendgroup": "",
                      "lon": [
                        -1.511459954959514,
                        -2.0260409,
                        -0.7024738,
                        0.1079732,
                        1.0939658,
                        2.3483915,
                        2.2956951,
                        3.0635282,
                        7.7507127,
                        7.344320233724503,
                        7.3579641,
                        7.3079618,
                        6.0243622,
                        5.0414701,
                        6.1288847,
                        5.7357819,
                        4.8320114,
                        6.3285616,
                        6.3419285,
                        5.5396318,
                        5.3699525,
                        5.4474738,
                        4.8059012,
                        4.4196718,
                        4.3600687,
                        4.19154,
                        4.4277202,
                        3.0831554,
                        2.3491069,
                        1.4065544156065486,
                        1.4442469,
                        1.3549991,
                        -1.552726590666314,
                        -1.4736657,
                        -1.1515951
                      ],
                      "marker": {
                        "color": [
                          2.07,
                          1.52,
                          0.44,
                          0.6,
                          0.55,
                          1.42,
                          -0.4,
                          3.48,
                          0.4,
                          -0.69,
                          -0.02,
                          -0.68,
                          -1.7,
                          -1.61,
                          -0.03,
                          0.8,
                          0.46,
                          3.21,
                          8.54,
                          7.75,
                          6.62,
                          6.75,
                          0.97,
                          1.6,
                          3.04,
                          4.79,
                          2.96,
                          8.2,
                          7.03,
                          6.11,
                          5.95,
                          6.21,
                          11.03,
                          10.89,
                          0.61
                        ],
                        "coloraxis": "coloraxis"
                      },
                      "mode": "markers",
                      "name": "",
                      "showlegend": false,
                      "subplot": "mapbox",
                      "type": "scattermapbox"
                    }
                  ],
                  "name": "2025-01-11"
                },
                {
                  "data": [
                    {
                      "hovertemplate": "<b>%{hovertext}</b><br><br>date=2025-01-12<br>lat=%{lat}<br>lon=%{lon}<br>feels_like=%{marker.color}<extra></extra>",
                      "hovertext": [
                        "Mont Saint Michel",
                        "St Malo",
                        "Bayeux",
                        "Le Havre",
                        "Rouen",
                        "Paris",
                        "Amiens",
                        "Lille",
                        "Strasbourg",
                        "Chateau du Haut Koenigsbourg",
                        "Colmar",
                        "Eguisheim",
                        "Besancon",
                        "Dijon",
                        "Annecy",
                        "Grenoble",
                        "Lyon",
                        "Gorges du Verdon",
                        "Bormes les Mimosas",
                        "Cassis",
                        "Marseille",
                        "Aix en Provence",
                        "Avignon",
                        "Uzes",
                        "Nimes",
                        "Aigues Mortes",
                        "Saintes Maries de la mer",
                        "Collioure",
                        "Carcassonne",
                        "Ariege",
                        "Toulouse",
                        "Montauban",
                        "Biarritz",
                        "Bayonne",
                        "La Rochelle"
                      ],
                      "lat": [
                        48.6359541,
                        48.649518,
                        49.2764624,
                        49.4938975,
                        49.4404591,
                        48.8534951,
                        49.8941708,
                        50.6365654,
                        48.584614,
                        48.24941075,
                        48.0777517,
                        48.0447968,
                        47.2380222,
                        47.3215806,
                        45.8992348,
                        45.1875602,
                        45.7578137,
                        43.7496562,
                        43.1506968,
                        43.2140359,
                        43.2961743,
                        43.5298424,
                        43.9492493,
                        44.0121279,
                        43.8374249,
                        43.5661521,
                        43.4515922,
                        42.52505,
                        43.2130358,
                        42.9455368,
                        43.6044622,
                        44.0175835,
                        43.47114375,
                        43.4945144,
                        46.159732
                      ],
                      "legendgroup": "",
                      "lon": [
                        -1.511459954959514,
                        -2.0260409,
                        -0.7024738,
                        0.1079732,
                        1.0939658,
                        2.3483915,
                        2.2956951,
                        3.0635282,
                        7.7507127,
                        7.344320233724503,
                        7.3579641,
                        7.3079618,
                        6.0243622,
                        5.0414701,
                        6.1288847,
                        5.7357819,
                        4.8320114,
                        6.3285616,
                        6.3419285,
                        5.5396318,
                        5.3699525,
                        5.4474738,
                        4.8059012,
                        4.4196718,
                        4.3600687,
                        4.19154,
                        4.4277202,
                        3.0831554,
                        2.3491069,
                        1.4065544156065486,
                        1.4442469,
                        1.3549991,
                        -1.552726590666314,
                        -1.4736657,
                        -1.1515951
                      ],
                      "marker": {
                        "color": [
                          3.93,
                          4.4,
                          3.14,
                          2.97,
                          1.76,
                          -0.56,
                          1.17,
                          1.62,
                          -3.1,
                          -4.96,
                          -2.06,
                          -2.13,
                          -2.79,
                          -3.23,
                          -2.73,
                          -2.6,
                          -1.16,
                          -1.86,
                          3.09,
                          2.34,
                          2.4,
                          2.55,
                          -1.27,
                          -1.07,
                          -0.02,
                          1.88,
                          -0.49,
                          2.78,
                          -0.63,
                          -4.02,
                          0.71,
                          1.3,
                          2.98,
                          3.29,
                          1.65
                        ],
                        "coloraxis": "coloraxis"
                      },
                      "mode": "markers",
                      "name": "",
                      "showlegend": false,
                      "subplot": "mapbox",
                      "type": "scattermapbox"
                    }
                  ],
                  "name": "2025-01-12"
                }
              ],
              "layout": {
                "coloraxis": {
                  "colorbar": {
                    "title": {
                      "text": "feels_like"
                    }
                  },
                  "colorscale": [
                    [
                      0,
                      "#0d0887"
                    ],
                    [
                      0.1111111111111111,
                      "#46039f"
                    ],
                    [
                      0.2222222222222222,
                      "#7201a8"
                    ],
                    [
                      0.3333333333333333,
                      "#9c179e"
                    ],
                    [
                      0.4444444444444444,
                      "#bd3786"
                    ],
                    [
                      0.5555555555555556,
                      "#d8576b"
                    ],
                    [
                      0.6666666666666666,
                      "#ed7953"
                    ],
                    [
                      0.7777777777777778,
                      "#fb9f3a"
                    ],
                    [
                      0.8888888888888888,
                      "#fdca26"
                    ],
                    [
                      1,
                      "#f0f921"
                    ]
                  ]
                },
                "legend": {
                  "tracegroupgap": 0
                },
                "mapbox": {
                  "center": {
                    "lat": 45.84083764571429,
                    "lon": 3.396730677248721
                  },
                  "domain": {
                    "x": [
                      0,
                      1
                    ],
                    "y": [
                      0,
                      1
                    ]
                  },
                  "style": "carto-positron",
                  "zoom": 4
                },
                "margin": {
                  "t": 60
                },
                "sliders": [
                  {
                    "active": 0,
                    "currentvalue": {
                      "prefix": "date="
                    },
                    "len": 0.9,
                    "pad": {
                      "b": 10,
                      "t": 60
                    },
                    "steps": [
                      {
                        "args": [
                          [
                            "2025-01-06"
                          ],
                          {
                            "frame": {
                              "duration": 0,
                              "redraw": true
                            },
                            "fromcurrent": true,
                            "mode": "immediate",
                            "transition": {
                              "duration": 0,
                              "easing": "linear"
                            }
                          }
                        ],
                        "label": "2025-01-06",
                        "method": "animate"
                      },
                      {
                        "args": [
                          [
                            "2025-01-07"
                          ],
                          {
                            "frame": {
                              "duration": 0,
                              "redraw": true
                            },
                            "fromcurrent": true,
                            "mode": "immediate",
                            "transition": {
                              "duration": 0,
                              "easing": "linear"
                            }
                          }
                        ],
                        "label": "2025-01-07",
                        "method": "animate"
                      },
                      {
                        "args": [
                          [
                            "2025-01-08"
                          ],
                          {
                            "frame": {
                              "duration": 0,
                              "redraw": true
                            },
                            "fromcurrent": true,
                            "mode": "immediate",
                            "transition": {
                              "duration": 0,
                              "easing": "linear"
                            }
                          }
                        ],
                        "label": "2025-01-08",
                        "method": "animate"
                      },
                      {
                        "args": [
                          [
                            "2025-01-09"
                          ],
                          {
                            "frame": {
                              "duration": 0,
                              "redraw": true
                            },
                            "fromcurrent": true,
                            "mode": "immediate",
                            "transition": {
                              "duration": 0,
                              "easing": "linear"
                            }
                          }
                        ],
                        "label": "2025-01-09",
                        "method": "animate"
                      },
                      {
                        "args": [
                          [
                            "2025-01-10"
                          ],
                          {
                            "frame": {
                              "duration": 0,
                              "redraw": true
                            },
                            "fromcurrent": true,
                            "mode": "immediate",
                            "transition": {
                              "duration": 0,
                              "easing": "linear"
                            }
                          }
                        ],
                        "label": "2025-01-10",
                        "method": "animate"
                      },
                      {
                        "args": [
                          [
                            "2025-01-11"
                          ],
                          {
                            "frame": {
                              "duration": 0,
                              "redraw": true
                            },
                            "fromcurrent": true,
                            "mode": "immediate",
                            "transition": {
                              "duration": 0,
                              "easing": "linear"
                            }
                          }
                        ],
                        "label": "2025-01-11",
                        "method": "animate"
                      },
                      {
                        "args": [
                          [
                            "2025-01-12"
                          ],
                          {
                            "frame": {
                              "duration": 0,
                              "redraw": true
                            },
                            "fromcurrent": true,
                            "mode": "immediate",
                            "transition": {
                              "duration": 0,
                              "easing": "linear"
                            }
                          }
                        ],
                        "label": "2025-01-12",
                        "method": "animate"
                      }
                    ],
                    "x": 0.1,
                    "xanchor": "left",
                    "y": 0,
                    "yanchor": "top"
                  }
                ],
                "template": {
                  "data": {
                    "bar": [
                      {
                        "error_x": {
                          "color": "#2a3f5f"
                        },
                        "error_y": {
                          "color": "#2a3f5f"
                        },
                        "marker": {
                          "line": {
                            "color": "#E5ECF6",
                            "width": 0.5
                          },
                          "pattern": {
                            "fillmode": "overlay",
                            "size": 10,
                            "solidity": 0.2
                          }
                        },
                        "type": "bar"
                      }
                    ],
                    "barpolar": [
                      {
                        "marker": {
                          "line": {
                            "color": "#E5ECF6",
                            "width": 0.5
                          },
                          "pattern": {
                            "fillmode": "overlay",
                            "size": 10,
                            "solidity": 0.2
                          }
                        },
                        "type": "barpolar"
                      }
                    ],
                    "carpet": [
                      {
                        "aaxis": {
                          "endlinecolor": "#2a3f5f",
                          "gridcolor": "white",
                          "linecolor": "white",
                          "minorgridcolor": "white",
                          "startlinecolor": "#2a3f5f"
                        },
                        "baxis": {
                          "endlinecolor": "#2a3f5f",
                          "gridcolor": "white",
                          "linecolor": "white",
                          "minorgridcolor": "white",
                          "startlinecolor": "#2a3f5f"
                        },
                        "type": "carpet"
                      }
                    ],
                    "choropleth": [
                      {
                        "colorbar": {
                          "outlinewidth": 0,
                          "ticks": ""
                        },
                        "type": "choropleth"
                      }
                    ],
                    "contour": [
                      {
                        "colorbar": {
                          "outlinewidth": 0,
                          "ticks": ""
                        },
                        "colorscale": [
                          [
                            0,
                            "#0d0887"
                          ],
                          [
                            0.1111111111111111,
                            "#46039f"
                          ],
                          [
                            0.2222222222222222,
                            "#7201a8"
                          ],
                          [
                            0.3333333333333333,
                            "#9c179e"
                          ],
                          [
                            0.4444444444444444,
                            "#bd3786"
                          ],
                          [
                            0.5555555555555556,
                            "#d8576b"
                          ],
                          [
                            0.6666666666666666,
                            "#ed7953"
                          ],
                          [
                            0.7777777777777778,
                            "#fb9f3a"
                          ],
                          [
                            0.8888888888888888,
                            "#fdca26"
                          ],
                          [
                            1,
                            "#f0f921"
                          ]
                        ],
                        "type": "contour"
                      }
                    ],
                    "contourcarpet": [
                      {
                        "colorbar": {
                          "outlinewidth": 0,
                          "ticks": ""
                        },
                        "type": "contourcarpet"
                      }
                    ],
                    "heatmap": [
                      {
                        "colorbar": {
                          "outlinewidth": 0,
                          "ticks": ""
                        },
                        "colorscale": [
                          [
                            0,
                            "#0d0887"
                          ],
                          [
                            0.1111111111111111,
                            "#46039f"
                          ],
                          [
                            0.2222222222222222,
                            "#7201a8"
                          ],
                          [
                            0.3333333333333333,
                            "#9c179e"
                          ],
                          [
                            0.4444444444444444,
                            "#bd3786"
                          ],
                          [
                            0.5555555555555556,
                            "#d8576b"
                          ],
                          [
                            0.6666666666666666,
                            "#ed7953"
                          ],
                          [
                            0.7777777777777778,
                            "#fb9f3a"
                          ],
                          [
                            0.8888888888888888,
                            "#fdca26"
                          ],
                          [
                            1,
                            "#f0f921"
                          ]
                        ],
                        "type": "heatmap"
                      }
                    ],
                    "heatmapgl": [
                      {
                        "colorbar": {
                          "outlinewidth": 0,
                          "ticks": ""
                        },
                        "colorscale": [
                          [
                            0,
                            "#0d0887"
                          ],
                          [
                            0.1111111111111111,
                            "#46039f"
                          ],
                          [
                            0.2222222222222222,
                            "#7201a8"
                          ],
                          [
                            0.3333333333333333,
                            "#9c179e"
                          ],
                          [
                            0.4444444444444444,
                            "#bd3786"
                          ],
                          [
                            0.5555555555555556,
                            "#d8576b"
                          ],
                          [
                            0.6666666666666666,
                            "#ed7953"
                          ],
                          [
                            0.7777777777777778,
                            "#fb9f3a"
                          ],
                          [
                            0.8888888888888888,
                            "#fdca26"
                          ],
                          [
                            1,
                            "#f0f921"
                          ]
                        ],
                        "type": "heatmapgl"
                      }
                    ],
                    "histogram": [
                      {
                        "marker": {
                          "pattern": {
                            "fillmode": "overlay",
                            "size": 10,
                            "solidity": 0.2
                          }
                        },
                        "type": "histogram"
                      }
                    ],
                    "histogram2d": [
                      {
                        "colorbar": {
                          "outlinewidth": 0,
                          "ticks": ""
                        },
                        "colorscale": [
                          [
                            0,
                            "#0d0887"
                          ],
                          [
                            0.1111111111111111,
                            "#46039f"
                          ],
                          [
                            0.2222222222222222,
                            "#7201a8"
                          ],
                          [
                            0.3333333333333333,
                            "#9c179e"
                          ],
                          [
                            0.4444444444444444,
                            "#bd3786"
                          ],
                          [
                            0.5555555555555556,
                            "#d8576b"
                          ],
                          [
                            0.6666666666666666,
                            "#ed7953"
                          ],
                          [
                            0.7777777777777778,
                            "#fb9f3a"
                          ],
                          [
                            0.8888888888888888,
                            "#fdca26"
                          ],
                          [
                            1,
                            "#f0f921"
                          ]
                        ],
                        "type": "histogram2d"
                      }
                    ],
                    "histogram2dcontour": [
                      {
                        "colorbar": {
                          "outlinewidth": 0,
                          "ticks": ""
                        },
                        "colorscale": [
                          [
                            0,
                            "#0d0887"
                          ],
                          [
                            0.1111111111111111,
                            "#46039f"
                          ],
                          [
                            0.2222222222222222,
                            "#7201a8"
                          ],
                          [
                            0.3333333333333333,
                            "#9c179e"
                          ],
                          [
                            0.4444444444444444,
                            "#bd3786"
                          ],
                          [
                            0.5555555555555556,
                            "#d8576b"
                          ],
                          [
                            0.6666666666666666,
                            "#ed7953"
                          ],
                          [
                            0.7777777777777778,
                            "#fb9f3a"
                          ],
                          [
                            0.8888888888888888,
                            "#fdca26"
                          ],
                          [
                            1,
                            "#f0f921"
                          ]
                        ],
                        "type": "histogram2dcontour"
                      }
                    ],
                    "mesh3d": [
                      {
                        "colorbar": {
                          "outlinewidth": 0,
                          "ticks": ""
                        },
                        "type": "mesh3d"
                      }
                    ],
                    "parcoords": [
                      {
                        "line": {
                          "colorbar": {
                            "outlinewidth": 0,
                            "ticks": ""
                          }
                        },
                        "type": "parcoords"
                      }
                    ],
                    "pie": [
                      {
                        "automargin": true,
                        "type": "pie"
                      }
                    ],
                    "scatter": [
                      {
                        "fillpattern": {
                          "fillmode": "overlay",
                          "size": 10,
                          "solidity": 0.2
                        },
                        "type": "scatter"
                      }
                    ],
                    "scatter3d": [
                      {
                        "line": {
                          "colorbar": {
                            "outlinewidth": 0,
                            "ticks": ""
                          }
                        },
                        "marker": {
                          "colorbar": {
                            "outlinewidth": 0,
                            "ticks": ""
                          }
                        },
                        "type": "scatter3d"
                      }
                    ],
                    "scattercarpet": [
                      {
                        "marker": {
                          "colorbar": {
                            "outlinewidth": 0,
                            "ticks": ""
                          }
                        },
                        "type": "scattercarpet"
                      }
                    ],
                    "scattergeo": [
                      {
                        "marker": {
                          "colorbar": {
                            "outlinewidth": 0,
                            "ticks": ""
                          }
                        },
                        "type": "scattergeo"
                      }
                    ],
                    "scattergl": [
                      {
                        "marker": {
                          "colorbar": {
                            "outlinewidth": 0,
                            "ticks": ""
                          }
                        },
                        "type": "scattergl"
                      }
                    ],
                    "scattermapbox": [
                      {
                        "marker": {
                          "colorbar": {
                            "outlinewidth": 0,
                            "ticks": ""
                          }
                        },
                        "type": "scattermapbox"
                      }
                    ],
                    "scatterpolar": [
                      {
                        "marker": {
                          "colorbar": {
                            "outlinewidth": 0,
                            "ticks": ""
                          }
                        },
                        "type": "scatterpolar"
                      }
                    ],
                    "scatterpolargl": [
                      {
                        "marker": {
                          "colorbar": {
                            "outlinewidth": 0,
                            "ticks": ""
                          }
                        },
                        "type": "scatterpolargl"
                      }
                    ],
                    "scatterternary": [
                      {
                        "marker": {
                          "colorbar": {
                            "outlinewidth": 0,
                            "ticks": ""
                          }
                        },
                        "type": "scatterternary"
                      }
                    ],
                    "surface": [
                      {
                        "colorbar": {
                          "outlinewidth": 0,
                          "ticks": ""
                        },
                        "colorscale": [
                          [
                            0,
                            "#0d0887"
                          ],
                          [
                            0.1111111111111111,
                            "#46039f"
                          ],
                          [
                            0.2222222222222222,
                            "#7201a8"
                          ],
                          [
                            0.3333333333333333,
                            "#9c179e"
                          ],
                          [
                            0.4444444444444444,
                            "#bd3786"
                          ],
                          [
                            0.5555555555555556,
                            "#d8576b"
                          ],
                          [
                            0.6666666666666666,
                            "#ed7953"
                          ],
                          [
                            0.7777777777777778,
                            "#fb9f3a"
                          ],
                          [
                            0.8888888888888888,
                            "#fdca26"
                          ],
                          [
                            1,
                            "#f0f921"
                          ]
                        ],
                        "type": "surface"
                      }
                    ],
                    "table": [
                      {
                        "cells": {
                          "fill": {
                            "color": "#EBF0F8"
                          },
                          "line": {
                            "color": "white"
                          }
                        },
                        "header": {
                          "fill": {
                            "color": "#C8D4E3"
                          },
                          "line": {
                            "color": "white"
                          }
                        },
                        "type": "table"
                      }
                    ]
                  },
                  "layout": {
                    "annotationdefaults": {
                      "arrowcolor": "#2a3f5f",
                      "arrowhead": 0,
                      "arrowwidth": 1
                    },
                    "autotypenumbers": "strict",
                    "coloraxis": {
                      "colorbar": {
                        "outlinewidth": 0,
                        "ticks": ""
                      }
                    },
                    "colorscale": {
                      "diverging": [
                        [
                          0,
                          "#8e0152"
                        ],
                        [
                          0.1,
                          "#c51b7d"
                        ],
                        [
                          0.2,
                          "#de77ae"
                        ],
                        [
                          0.3,
                          "#f1b6da"
                        ],
                        [
                          0.4,
                          "#fde0ef"
                        ],
                        [
                          0.5,
                          "#f7f7f7"
                        ],
                        [
                          0.6,
                          "#e6f5d0"
                        ],
                        [
                          0.7,
                          "#b8e186"
                        ],
                        [
                          0.8,
                          "#7fbc41"
                        ],
                        [
                          0.9,
                          "#4d9221"
                        ],
                        [
                          1,
                          "#276419"
                        ]
                      ],
                      "sequential": [
                        [
                          0,
                          "#0d0887"
                        ],
                        [
                          0.1111111111111111,
                          "#46039f"
                        ],
                        [
                          0.2222222222222222,
                          "#7201a8"
                        ],
                        [
                          0.3333333333333333,
                          "#9c179e"
                        ],
                        [
                          0.4444444444444444,
                          "#bd3786"
                        ],
                        [
                          0.5555555555555556,
                          "#d8576b"
                        ],
                        [
                          0.6666666666666666,
                          "#ed7953"
                        ],
                        [
                          0.7777777777777778,
                          "#fb9f3a"
                        ],
                        [
                          0.8888888888888888,
                          "#fdca26"
                        ],
                        [
                          1,
                          "#f0f921"
                        ]
                      ],
                      "sequentialminus": [
                        [
                          0,
                          "#0d0887"
                        ],
                        [
                          0.1111111111111111,
                          "#46039f"
                        ],
                        [
                          0.2222222222222222,
                          "#7201a8"
                        ],
                        [
                          0.3333333333333333,
                          "#9c179e"
                        ],
                        [
                          0.4444444444444444,
                          "#bd3786"
                        ],
                        [
                          0.5555555555555556,
                          "#d8576b"
                        ],
                        [
                          0.6666666666666666,
                          "#ed7953"
                        ],
                        [
                          0.7777777777777778,
                          "#fb9f3a"
                        ],
                        [
                          0.8888888888888888,
                          "#fdca26"
                        ],
                        [
                          1,
                          "#f0f921"
                        ]
                      ]
                    },
                    "colorway": [
                      "#636efa",
                      "#EF553B",
                      "#00cc96",
                      "#ab63fa",
                      "#FFA15A",
                      "#19d3f3",
                      "#FF6692",
                      "#B6E880",
                      "#FF97FF",
                      "#FECB52"
                    ],
                    "font": {
                      "color": "#2a3f5f"
                    },
                    "geo": {
                      "bgcolor": "white",
                      "lakecolor": "white",
                      "landcolor": "#E5ECF6",
                      "showlakes": true,
                      "showland": true,
                      "subunitcolor": "white"
                    },
                    "hoverlabel": {
                      "align": "left"
                    },
                    "hovermode": "closest",
                    "mapbox": {
                      "style": "light"
                    },
                    "paper_bgcolor": "white",
                    "plot_bgcolor": "#E5ECF6",
                    "polar": {
                      "angularaxis": {
                        "gridcolor": "white",
                        "linecolor": "white",
                        "ticks": ""
                      },
                      "bgcolor": "#E5ECF6",
                      "radialaxis": {
                        "gridcolor": "white",
                        "linecolor": "white",
                        "ticks": ""
                      }
                    },
                    "scene": {
                      "xaxis": {
                        "backgroundcolor": "#E5ECF6",
                        "gridcolor": "white",
                        "gridwidth": 2,
                        "linecolor": "white",
                        "showbackground": true,
                        "ticks": "",
                        "zerolinecolor": "white"
                      },
                      "yaxis": {
                        "backgroundcolor": "#E5ECF6",
                        "gridcolor": "white",
                        "gridwidth": 2,
                        "linecolor": "white",
                        "showbackground": true,
                        "ticks": "",
                        "zerolinecolor": "white"
                      },
                      "zaxis": {
                        "backgroundcolor": "#E5ECF6",
                        "gridcolor": "white",
                        "gridwidth": 2,
                        "linecolor": "white",
                        "showbackground": true,
                        "ticks": "",
                        "zerolinecolor": "white"
                      }
                    },
                    "shapedefaults": {
                      "line": {
                        "color": "#2a3f5f"
                      }
                    },
                    "ternary": {
                      "aaxis": {
                        "gridcolor": "white",
                        "linecolor": "white",
                        "ticks": ""
                      },
                      "baxis": {
                        "gridcolor": "white",
                        "linecolor": "white",
                        "ticks": ""
                      },
                      "bgcolor": "#E5ECF6",
                      "caxis": {
                        "gridcolor": "white",
                        "linecolor": "white",
                        "ticks": ""
                      }
                    },
                    "title": {
                      "x": 0.05
                    },
                    "xaxis": {
                      "automargin": true,
                      "gridcolor": "white",
                      "linecolor": "white",
                      "ticks": "",
                      "title": {
                        "standoff": 15
                      },
                      "zerolinecolor": "white",
                      "zerolinewidth": 2
                    },
                    "yaxis": {
                      "automargin": true,
                      "gridcolor": "white",
                      "linecolor": "white",
                      "ticks": "",
                      "title": {
                        "standoff": 15
                      },
                      "zerolinecolor": "white",
                      "zerolinewidth": 2
                    }
                  }
                },
                "updatemenus": [
                  {
                    "buttons": [
                      {
                        "args": [
                          null,
                          {
                            "frame": {
                              "duration": 500,
                              "redraw": true
                            },
                            "fromcurrent": true,
                            "mode": "immediate",
                            "transition": {
                              "duration": 500,
                              "easing": "linear"
                            }
                          }
                        ],
                        "label": "&#9654;",
                        "method": "animate"
                      },
                      {
                        "args": [
                          [
                            null
                          ],
                          {
                            "frame": {
                              "duration": 0,
                              "redraw": true
                            },
                            "fromcurrent": true,
                            "mode": "immediate",
                            "transition": {
                              "duration": 0,
                              "easing": "linear"
                            }
                          }
                        ],
                        "label": "&#9724;",
                        "method": "animate"
                      }
                    ],
                    "direction": "left",
                    "pad": {
                      "r": 10,
                      "t": 70
                    },
                    "showactive": false,
                    "type": "buttons",
                    "x": 0.1,
                    "xanchor": "right",
                    "y": 0,
                    "yanchor": "top"
                  }
                ]
              }
            }
          },
          "metadata": {},
          "output_type": "display_data"
        }
      ],
      "source": [
        "fig = px.scatter_mapbox(df_cities_weather, lat=\"lat\", lon=\"lon\", color=\"feels_like\",\n",
        "                        zoom=4, mapbox_style=\"carto-positron\", animation_frame = \"date\",\n",
        "                        hover_name='city'\n",
        "                        )\n",
        "fig.write_html('data/feels_like.html')\n",
        "fig.show()"
      ]
    },
    {
      "cell_type": "code",
      "execution_count": 15,
      "metadata": {
        "colab": {
          "base_uri": "https://localhost:8080/",
          "height": 542
        },
        "id": "EtnKhHtiYuGC",
        "outputId": "1301acc0-1442-4ea6-debc-15cedc2ee47e"
      },
      "outputs": [
        {
          "data": {
            "application/vnd.plotly.v1+json": {
              "config": {
                "plotlyServerURL": "https://plot.ly"
              },
              "data": [
                {
                  "hovertemplate": "<b>%{hovertext}</b><br><br>lat=%{lat}<br>lon=%{lon}<br>feels_like_mean=%{marker.color}<extra></extra>",
                  "hovertext": [
                    "Mont Saint Michel",
                    "Mont Saint Michel",
                    "Mont Saint Michel",
                    "Mont Saint Michel",
                    "Mont Saint Michel",
                    "Mont Saint Michel",
                    "Mont Saint Michel",
                    "St Malo",
                    "St Malo",
                    "St Malo",
                    "St Malo",
                    "St Malo",
                    "St Malo",
                    "St Malo",
                    "Bayeux",
                    "Bayeux",
                    "Bayeux",
                    "Bayeux",
                    "Bayeux",
                    "Bayeux",
                    "Bayeux",
                    "Le Havre",
                    "Le Havre",
                    "Le Havre",
                    "Le Havre",
                    "Le Havre",
                    "Le Havre",
                    "Le Havre",
                    "Rouen",
                    "Rouen",
                    "Rouen",
                    "Rouen",
                    "Rouen",
                    "Rouen",
                    "Rouen",
                    "Paris",
                    "Paris",
                    "Paris",
                    "Paris",
                    "Paris",
                    "Paris",
                    "Paris",
                    "Amiens",
                    "Amiens",
                    "Amiens",
                    "Amiens",
                    "Amiens",
                    "Amiens",
                    "Amiens",
                    "Lille",
                    "Lille",
                    "Lille",
                    "Lille",
                    "Lille",
                    "Lille",
                    "Lille",
                    "Strasbourg",
                    "Strasbourg",
                    "Strasbourg",
                    "Strasbourg",
                    "Strasbourg",
                    "Strasbourg",
                    "Strasbourg",
                    "Chateau du Haut Koenigsbourg",
                    "Chateau du Haut Koenigsbourg",
                    "Chateau du Haut Koenigsbourg",
                    "Chateau du Haut Koenigsbourg",
                    "Chateau du Haut Koenigsbourg",
                    "Chateau du Haut Koenigsbourg",
                    "Chateau du Haut Koenigsbourg",
                    "Colmar",
                    "Colmar",
                    "Colmar",
                    "Colmar",
                    "Colmar",
                    "Colmar",
                    "Colmar",
                    "Eguisheim",
                    "Eguisheim",
                    "Eguisheim",
                    "Eguisheim",
                    "Eguisheim",
                    "Eguisheim",
                    "Eguisheim",
                    "Besancon",
                    "Besancon",
                    "Besancon",
                    "Besancon",
                    "Besancon",
                    "Besancon",
                    "Besancon",
                    "Dijon",
                    "Dijon",
                    "Dijon",
                    "Dijon",
                    "Dijon",
                    "Dijon",
                    "Dijon",
                    "Annecy",
                    "Annecy",
                    "Annecy",
                    "Annecy",
                    "Annecy",
                    "Annecy",
                    "Annecy",
                    "Grenoble",
                    "Grenoble",
                    "Grenoble",
                    "Grenoble",
                    "Grenoble",
                    "Grenoble",
                    "Grenoble",
                    "Lyon",
                    "Lyon",
                    "Lyon",
                    "Lyon",
                    "Lyon",
                    "Lyon",
                    "Lyon",
                    "Gorges du Verdon",
                    "Gorges du Verdon",
                    "Gorges du Verdon",
                    "Gorges du Verdon",
                    "Gorges du Verdon",
                    "Gorges du Verdon",
                    "Gorges du Verdon",
                    "Bormes les Mimosas",
                    "Bormes les Mimosas",
                    "Bormes les Mimosas",
                    "Bormes les Mimosas",
                    "Bormes les Mimosas",
                    "Bormes les Mimosas",
                    "Bormes les Mimosas",
                    "Cassis",
                    "Cassis",
                    "Cassis",
                    "Cassis",
                    "Cassis",
                    "Cassis",
                    "Cassis",
                    "Marseille",
                    "Marseille",
                    "Marseille",
                    "Marseille",
                    "Marseille",
                    "Marseille",
                    "Marseille",
                    "Aix en Provence",
                    "Aix en Provence",
                    "Aix en Provence",
                    "Aix en Provence",
                    "Aix en Provence",
                    "Aix en Provence",
                    "Aix en Provence",
                    "Avignon",
                    "Avignon",
                    "Avignon",
                    "Avignon",
                    "Avignon",
                    "Avignon",
                    "Avignon",
                    "Uzes",
                    "Uzes",
                    "Uzes",
                    "Uzes",
                    "Uzes",
                    "Uzes",
                    "Uzes",
                    "Nimes",
                    "Nimes",
                    "Nimes",
                    "Nimes",
                    "Nimes",
                    "Nimes",
                    "Nimes",
                    "Aigues Mortes",
                    "Aigues Mortes",
                    "Aigues Mortes",
                    "Aigues Mortes",
                    "Aigues Mortes",
                    "Aigues Mortes",
                    "Aigues Mortes",
                    "Saintes Maries de la mer",
                    "Saintes Maries de la mer",
                    "Saintes Maries de la mer",
                    "Saintes Maries de la mer",
                    "Saintes Maries de la mer",
                    "Saintes Maries de la mer",
                    "Saintes Maries de la mer",
                    "Collioure",
                    "Collioure",
                    "Collioure",
                    "Collioure",
                    "Collioure",
                    "Collioure",
                    "Collioure",
                    "Carcassonne",
                    "Carcassonne",
                    "Carcassonne",
                    "Carcassonne",
                    "Carcassonne",
                    "Carcassonne",
                    "Carcassonne",
                    "Ariege",
                    "Ariege",
                    "Ariege",
                    "Ariege",
                    "Ariege",
                    "Ariege",
                    "Ariege",
                    "Toulouse",
                    "Toulouse",
                    "Toulouse",
                    "Toulouse",
                    "Toulouse",
                    "Toulouse",
                    "Toulouse",
                    "Montauban",
                    "Montauban",
                    "Montauban",
                    "Montauban",
                    "Montauban",
                    "Montauban",
                    "Montauban",
                    "Biarritz",
                    "Biarritz",
                    "Biarritz",
                    "Biarritz",
                    "Biarritz",
                    "Biarritz",
                    "Biarritz",
                    "Bayonne",
                    "Bayonne",
                    "Bayonne",
                    "Bayonne",
                    "Bayonne",
                    "Bayonne",
                    "Bayonne",
                    "La Rochelle",
                    "La Rochelle",
                    "La Rochelle",
                    "La Rochelle",
                    "La Rochelle",
                    "La Rochelle",
                    "La Rochelle"
                  ],
                  "lat": [
                    48.6359541,
                    48.6359541,
                    48.6359541,
                    48.6359541,
                    48.6359541,
                    48.6359541,
                    48.6359541,
                    48.649518,
                    48.649518,
                    48.649518,
                    48.649518,
                    48.649518,
                    48.649518,
                    48.649518,
                    49.2764624,
                    49.2764624,
                    49.2764624,
                    49.2764624,
                    49.2764624,
                    49.2764624,
                    49.2764624,
                    49.4938975,
                    49.4938975,
                    49.4938975,
                    49.4938975,
                    49.4938975,
                    49.4938975,
                    49.4938975,
                    49.4404591,
                    49.4404591,
                    49.4404591,
                    49.4404591,
                    49.4404591,
                    49.4404591,
                    49.4404591,
                    48.8534951,
                    48.8534951,
                    48.8534951,
                    48.8534951,
                    48.8534951,
                    48.8534951,
                    48.8534951,
                    49.8941708,
                    49.8941708,
                    49.8941708,
                    49.8941708,
                    49.8941708,
                    49.8941708,
                    49.8941708,
                    50.6365654,
                    50.6365654,
                    50.6365654,
                    50.6365654,
                    50.6365654,
                    50.6365654,
                    50.6365654,
                    48.584614,
                    48.584614,
                    48.584614,
                    48.584614,
                    48.584614,
                    48.584614,
                    48.584614,
                    48.24941075,
                    48.24941075,
                    48.24941075,
                    48.24941075,
                    48.24941075,
                    48.24941075,
                    48.24941075,
                    48.0777517,
                    48.0777517,
                    48.0777517,
                    48.0777517,
                    48.0777517,
                    48.0777517,
                    48.0777517,
                    48.0447968,
                    48.0447968,
                    48.0447968,
                    48.0447968,
                    48.0447968,
                    48.0447968,
                    48.0447968,
                    47.2380222,
                    47.2380222,
                    47.2380222,
                    47.2380222,
                    47.2380222,
                    47.2380222,
                    47.2380222,
                    47.3215806,
                    47.3215806,
                    47.3215806,
                    47.3215806,
                    47.3215806,
                    47.3215806,
                    47.3215806,
                    45.8992348,
                    45.8992348,
                    45.8992348,
                    45.8992348,
                    45.8992348,
                    45.8992348,
                    45.8992348,
                    45.1875602,
                    45.1875602,
                    45.1875602,
                    45.1875602,
                    45.1875602,
                    45.1875602,
                    45.1875602,
                    45.7578137,
                    45.7578137,
                    45.7578137,
                    45.7578137,
                    45.7578137,
                    45.7578137,
                    45.7578137,
                    43.7496562,
                    43.7496562,
                    43.7496562,
                    43.7496562,
                    43.7496562,
                    43.7496562,
                    43.7496562,
                    43.1506968,
                    43.1506968,
                    43.1506968,
                    43.1506968,
                    43.1506968,
                    43.1506968,
                    43.1506968,
                    43.2140359,
                    43.2140359,
                    43.2140359,
                    43.2140359,
                    43.2140359,
                    43.2140359,
                    43.2140359,
                    43.2961743,
                    43.2961743,
                    43.2961743,
                    43.2961743,
                    43.2961743,
                    43.2961743,
                    43.2961743,
                    43.5298424,
                    43.5298424,
                    43.5298424,
                    43.5298424,
                    43.5298424,
                    43.5298424,
                    43.5298424,
                    43.9492493,
                    43.9492493,
                    43.9492493,
                    43.9492493,
                    43.9492493,
                    43.9492493,
                    43.9492493,
                    44.0121279,
                    44.0121279,
                    44.0121279,
                    44.0121279,
                    44.0121279,
                    44.0121279,
                    44.0121279,
                    43.8374249,
                    43.8374249,
                    43.8374249,
                    43.8374249,
                    43.8374249,
                    43.8374249,
                    43.8374249,
                    43.5661521,
                    43.5661521,
                    43.5661521,
                    43.5661521,
                    43.5661521,
                    43.5661521,
                    43.5661521,
                    43.4515922,
                    43.4515922,
                    43.4515922,
                    43.4515922,
                    43.4515922,
                    43.4515922,
                    43.4515922,
                    42.52505,
                    42.52505,
                    42.52505,
                    42.52505,
                    42.52505,
                    42.52505,
                    42.52505,
                    43.2130358,
                    43.2130358,
                    43.2130358,
                    43.2130358,
                    43.2130358,
                    43.2130358,
                    43.2130358,
                    42.9455368,
                    42.9455368,
                    42.9455368,
                    42.9455368,
                    42.9455368,
                    42.9455368,
                    42.9455368,
                    43.6044622,
                    43.6044622,
                    43.6044622,
                    43.6044622,
                    43.6044622,
                    43.6044622,
                    43.6044622,
                    44.0175835,
                    44.0175835,
                    44.0175835,
                    44.0175835,
                    44.0175835,
                    44.0175835,
                    44.0175835,
                    43.47114375,
                    43.47114375,
                    43.47114375,
                    43.47114375,
                    43.47114375,
                    43.47114375,
                    43.47114375,
                    43.4945144,
                    43.4945144,
                    43.4945144,
                    43.4945144,
                    43.4945144,
                    43.4945144,
                    43.4945144,
                    46.159732,
                    46.159732,
                    46.159732,
                    46.159732,
                    46.159732,
                    46.159732,
                    46.159732
                  ],
                  "legendgroup": "",
                  "lon": [
                    -1.511459954959514,
                    -1.511459954959514,
                    -1.511459954959514,
                    -1.511459954959514,
                    -1.511459954959514,
                    -1.511459954959514,
                    -1.511459954959514,
                    -2.0260409,
                    -2.0260409,
                    -2.0260409,
                    -2.0260409,
                    -2.0260409,
                    -2.0260409,
                    -2.0260409,
                    -0.7024738,
                    -0.7024738,
                    -0.7024738,
                    -0.7024738,
                    -0.7024738,
                    -0.7024738,
                    -0.7024738,
                    0.1079732,
                    0.1079732,
                    0.1079732,
                    0.1079732,
                    0.1079732,
                    0.1079732,
                    0.1079732,
                    1.0939658,
                    1.0939658,
                    1.0939658,
                    1.0939658,
                    1.0939658,
                    1.0939658,
                    1.0939658,
                    2.3483915,
                    2.3483915,
                    2.3483915,
                    2.3483915,
                    2.3483915,
                    2.3483915,
                    2.3483915,
                    2.2956951,
                    2.2956951,
                    2.2956951,
                    2.2956951,
                    2.2956951,
                    2.2956951,
                    2.2956951,
                    3.0635282,
                    3.0635282,
                    3.0635282,
                    3.0635282,
                    3.0635282,
                    3.0635282,
                    3.0635282,
                    7.7507127,
                    7.7507127,
                    7.7507127,
                    7.7507127,
                    7.7507127,
                    7.7507127,
                    7.7507127,
                    7.344320233724503,
                    7.344320233724503,
                    7.344320233724503,
                    7.344320233724503,
                    7.344320233724503,
                    7.344320233724503,
                    7.344320233724503,
                    7.3579641,
                    7.3579641,
                    7.3579641,
                    7.3579641,
                    7.3579641,
                    7.3579641,
                    7.3579641,
                    7.3079618,
                    7.3079618,
                    7.3079618,
                    7.3079618,
                    7.3079618,
                    7.3079618,
                    7.3079618,
                    6.0243622,
                    6.0243622,
                    6.0243622,
                    6.0243622,
                    6.0243622,
                    6.0243622,
                    6.0243622,
                    5.0414701,
                    5.0414701,
                    5.0414701,
                    5.0414701,
                    5.0414701,
                    5.0414701,
                    5.0414701,
                    6.1288847,
                    6.1288847,
                    6.1288847,
                    6.1288847,
                    6.1288847,
                    6.1288847,
                    6.1288847,
                    5.7357819,
                    5.7357819,
                    5.7357819,
                    5.7357819,
                    5.7357819,
                    5.7357819,
                    5.7357819,
                    4.8320114,
                    4.8320114,
                    4.8320114,
                    4.8320114,
                    4.8320114,
                    4.8320114,
                    4.8320114,
                    6.3285616,
                    6.3285616,
                    6.3285616,
                    6.3285616,
                    6.3285616,
                    6.3285616,
                    6.3285616,
                    6.3419285,
                    6.3419285,
                    6.3419285,
                    6.3419285,
                    6.3419285,
                    6.3419285,
                    6.3419285,
                    5.5396318,
                    5.5396318,
                    5.5396318,
                    5.5396318,
                    5.5396318,
                    5.5396318,
                    5.5396318,
                    5.3699525,
                    5.3699525,
                    5.3699525,
                    5.3699525,
                    5.3699525,
                    5.3699525,
                    5.3699525,
                    5.4474738,
                    5.4474738,
                    5.4474738,
                    5.4474738,
                    5.4474738,
                    5.4474738,
                    5.4474738,
                    4.8059012,
                    4.8059012,
                    4.8059012,
                    4.8059012,
                    4.8059012,
                    4.8059012,
                    4.8059012,
                    4.4196718,
                    4.4196718,
                    4.4196718,
                    4.4196718,
                    4.4196718,
                    4.4196718,
                    4.4196718,
                    4.3600687,
                    4.3600687,
                    4.3600687,
                    4.3600687,
                    4.3600687,
                    4.3600687,
                    4.3600687,
                    4.19154,
                    4.19154,
                    4.19154,
                    4.19154,
                    4.19154,
                    4.19154,
                    4.19154,
                    4.4277202,
                    4.4277202,
                    4.4277202,
                    4.4277202,
                    4.4277202,
                    4.4277202,
                    4.4277202,
                    3.0831554,
                    3.0831554,
                    3.0831554,
                    3.0831554,
                    3.0831554,
                    3.0831554,
                    3.0831554,
                    2.3491069,
                    2.3491069,
                    2.3491069,
                    2.3491069,
                    2.3491069,
                    2.3491069,
                    2.3491069,
                    1.4065544156065486,
                    1.4065544156065486,
                    1.4065544156065486,
                    1.4065544156065486,
                    1.4065544156065486,
                    1.4065544156065486,
                    1.4065544156065486,
                    1.4442469,
                    1.4442469,
                    1.4442469,
                    1.4442469,
                    1.4442469,
                    1.4442469,
                    1.4442469,
                    1.3549991,
                    1.3549991,
                    1.3549991,
                    1.3549991,
                    1.3549991,
                    1.3549991,
                    1.3549991,
                    -1.552726590666314,
                    -1.552726590666314,
                    -1.552726590666314,
                    -1.552726590666314,
                    -1.552726590666314,
                    -1.552726590666314,
                    -1.552726590666314,
                    -1.4736657,
                    -1.4736657,
                    -1.4736657,
                    -1.4736657,
                    -1.4736657,
                    -1.4736657,
                    -1.4736657,
                    -1.1515951,
                    -1.1515951,
                    -1.1515951,
                    -1.1515951,
                    -1.1515951,
                    -1.1515951,
                    -1.1515951
                  ],
                  "marker": {
                    "color": [
                      2.14,
                      2.14,
                      2.14,
                      2.14,
                      2.14,
                      2.14,
                      2.14,
                      2.3385714285714285,
                      2.3385714285714285,
                      2.3385714285714285,
                      2.3385714285714285,
                      2.3385714285714285,
                      2.3385714285714285,
                      2.3385714285714285,
                      1.2571428571428573,
                      1.2571428571428573,
                      1.2571428571428573,
                      1.2571428571428573,
                      1.2571428571428573,
                      1.2571428571428573,
                      1.2571428571428573,
                      1.8157142857142858,
                      1.8157142857142858,
                      1.8157142857142858,
                      1.8157142857142858,
                      1.8157142857142858,
                      1.8157142857142858,
                      1.8157142857142858,
                      1.18,
                      1.18,
                      1.18,
                      1.18,
                      1.18,
                      1.18,
                      1.18,
                      1.8714285714285714,
                      1.8714285714285714,
                      1.8714285714285714,
                      1.8714285714285714,
                      1.8714285714285714,
                      1.8714285714285714,
                      1.8714285714285714,
                      0.41571428571428576,
                      0.41571428571428576,
                      0.41571428571428576,
                      0.41571428571428576,
                      0.41571428571428576,
                      0.41571428571428576,
                      0.41571428571428576,
                      2.1957142857142857,
                      2.1957142857142857,
                      2.1957142857142857,
                      2.1957142857142857,
                      2.1957142857142857,
                      2.1957142857142857,
                      2.1957142857142857,
                      1.4271428571428573,
                      1.4271428571428573,
                      1.4271428571428573,
                      1.4271428571428573,
                      1.4271428571428573,
                      1.4271428571428573,
                      1.4271428571428573,
                      -0.05714285714285694,
                      -0.05714285714285694,
                      -0.05714285714285694,
                      -0.05714285714285694,
                      -0.05714285714285694,
                      -0.05714285714285694,
                      -0.05714285714285694,
                      3.545714285714286,
                      3.545714285714286,
                      3.545714285714286,
                      3.545714285714286,
                      3.545714285714286,
                      3.545714285714286,
                      3.545714285714286,
                      2.995714285714286,
                      2.995714285714286,
                      2.995714285714286,
                      2.995714285714286,
                      2.995714285714286,
                      2.995714285714286,
                      2.995714285714286,
                      3.7685714285714282,
                      3.7685714285714282,
                      3.7685714285714282,
                      3.7685714285714282,
                      3.7685714285714282,
                      3.7685714285714282,
                      3.7685714285714282,
                      4.558571428571429,
                      4.558571428571429,
                      4.558571428571429,
                      4.558571428571429,
                      4.558571428571429,
                      4.558571428571429,
                      4.558571428571429,
                      2.617142857142857,
                      2.617142857142857,
                      2.617142857142857,
                      2.617142857142857,
                      2.617142857142857,
                      2.617142857142857,
                      2.617142857142857,
                      4.931428571428571,
                      4.931428571428571,
                      4.931428571428571,
                      4.931428571428571,
                      4.931428571428571,
                      4.931428571428571,
                      4.931428571428571,
                      5.508571428571429,
                      5.508571428571429,
                      5.508571428571429,
                      5.508571428571429,
                      5.508571428571429,
                      5.508571428571429,
                      5.508571428571429,
                      2.5942857142857143,
                      2.5942857142857143,
                      2.5942857142857143,
                      2.5942857142857143,
                      2.5942857142857143,
                      2.5942857142857143,
                      2.5942857142857143,
                      8.952857142857143,
                      8.952857142857143,
                      8.952857142857143,
                      8.952857142857143,
                      8.952857142857143,
                      8.952857142857143,
                      8.952857142857143,
                      7.827142857142857,
                      7.827142857142857,
                      7.827142857142857,
                      7.827142857142857,
                      7.827142857142857,
                      7.827142857142857,
                      7.827142857142857,
                      8.191428571428572,
                      8.191428571428572,
                      8.191428571428572,
                      8.191428571428572,
                      8.191428571428572,
                      8.191428571428572,
                      8.191428571428572,
                      6.97,
                      6.97,
                      6.97,
                      6.97,
                      6.97,
                      6.97,
                      6.97,
                      6.83,
                      6.83,
                      6.83,
                      6.83,
                      6.83,
                      6.83,
                      6.83,
                      6.561428571428571,
                      6.561428571428571,
                      6.561428571428571,
                      6.561428571428571,
                      6.561428571428571,
                      6.561428571428571,
                      6.561428571428571,
                      7.335714285714286,
                      7.335714285714286,
                      7.335714285714286,
                      7.335714285714286,
                      7.335714285714286,
                      7.335714285714286,
                      7.335714285714286,
                      8.348571428571429,
                      8.348571428571429,
                      8.348571428571429,
                      8.348571428571429,
                      8.348571428571429,
                      8.348571428571429,
                      8.348571428571429,
                      7.824285714285714,
                      7.824285714285714,
                      7.824285714285714,
                      7.824285714285714,
                      7.824285714285714,
                      7.824285714285714,
                      7.824285714285714,
                      10.118571428571428,
                      10.118571428571428,
                      10.118571428571428,
                      10.118571428571428,
                      10.118571428571428,
                      10.118571428571428,
                      10.118571428571428,
                      7.602857142857142,
                      7.602857142857142,
                      7.602857142857142,
                      7.602857142857142,
                      7.602857142857142,
                      7.602857142857142,
                      7.602857142857142,
                      4.637142857142857,
                      4.637142857142857,
                      4.637142857142857,
                      4.637142857142857,
                      4.637142857142857,
                      4.637142857142857,
                      4.637142857142857,
                      7.07,
                      7.07,
                      7.07,
                      7.07,
                      7.07,
                      7.07,
                      7.07,
                      7.112857142857143,
                      7.112857142857143,
                      7.112857142857143,
                      7.112857142857143,
                      7.112857142857143,
                      7.112857142857143,
                      7.112857142857143,
                      9.555714285714286,
                      9.555714285714286,
                      9.555714285714286,
                      9.555714285714286,
                      9.555714285714286,
                      9.555714285714286,
                      9.555714285714286,
                      9.472857142857142,
                      9.472857142857142,
                      9.472857142857142,
                      9.472857142857142,
                      9.472857142857142,
                      9.472857142857142,
                      9.472857142857142,
                      6.312857142857142,
                      6.312857142857142,
                      6.312857142857142,
                      6.312857142857142,
                      6.312857142857142,
                      6.312857142857142,
                      6.312857142857142
                    ],
                    "coloraxis": "coloraxis"
                  },
                  "mode": "markers",
                  "name": "",
                  "showlegend": false,
                  "subplot": "mapbox",
                  "type": "scattermapbox"
                }
              ],
              "layout": {
                "coloraxis": {
                  "colorbar": {
                    "title": {
                      "text": "feels_like_mean"
                    }
                  },
                  "colorscale": [
                    [
                      0,
                      "#0d0887"
                    ],
                    [
                      0.1111111111111111,
                      "#46039f"
                    ],
                    [
                      0.2222222222222222,
                      "#7201a8"
                    ],
                    [
                      0.3333333333333333,
                      "#9c179e"
                    ],
                    [
                      0.4444444444444444,
                      "#bd3786"
                    ],
                    [
                      0.5555555555555556,
                      "#d8576b"
                    ],
                    [
                      0.6666666666666666,
                      "#ed7953"
                    ],
                    [
                      0.7777777777777778,
                      "#fb9f3a"
                    ],
                    [
                      0.8888888888888888,
                      "#fdca26"
                    ],
                    [
                      1,
                      "#f0f921"
                    ]
                  ]
                },
                "legend": {
                  "tracegroupgap": 0
                },
                "mapbox": {
                  "center": {
                    "lat": 45.84083764571429,
                    "lon": 3.396730677248721
                  },
                  "domain": {
                    "x": [
                      0,
                      1
                    ],
                    "y": [
                      0,
                      1
                    ]
                  },
                  "style": "carto-positron",
                  "zoom": 4
                },
                "margin": {
                  "t": 60
                },
                "template": {
                  "data": {
                    "bar": [
                      {
                        "error_x": {
                          "color": "#2a3f5f"
                        },
                        "error_y": {
                          "color": "#2a3f5f"
                        },
                        "marker": {
                          "line": {
                            "color": "#E5ECF6",
                            "width": 0.5
                          },
                          "pattern": {
                            "fillmode": "overlay",
                            "size": 10,
                            "solidity": 0.2
                          }
                        },
                        "type": "bar"
                      }
                    ],
                    "barpolar": [
                      {
                        "marker": {
                          "line": {
                            "color": "#E5ECF6",
                            "width": 0.5
                          },
                          "pattern": {
                            "fillmode": "overlay",
                            "size": 10,
                            "solidity": 0.2
                          }
                        },
                        "type": "barpolar"
                      }
                    ],
                    "carpet": [
                      {
                        "aaxis": {
                          "endlinecolor": "#2a3f5f",
                          "gridcolor": "white",
                          "linecolor": "white",
                          "minorgridcolor": "white",
                          "startlinecolor": "#2a3f5f"
                        },
                        "baxis": {
                          "endlinecolor": "#2a3f5f",
                          "gridcolor": "white",
                          "linecolor": "white",
                          "minorgridcolor": "white",
                          "startlinecolor": "#2a3f5f"
                        },
                        "type": "carpet"
                      }
                    ],
                    "choropleth": [
                      {
                        "colorbar": {
                          "outlinewidth": 0,
                          "ticks": ""
                        },
                        "type": "choropleth"
                      }
                    ],
                    "contour": [
                      {
                        "colorbar": {
                          "outlinewidth": 0,
                          "ticks": ""
                        },
                        "colorscale": [
                          [
                            0,
                            "#0d0887"
                          ],
                          [
                            0.1111111111111111,
                            "#46039f"
                          ],
                          [
                            0.2222222222222222,
                            "#7201a8"
                          ],
                          [
                            0.3333333333333333,
                            "#9c179e"
                          ],
                          [
                            0.4444444444444444,
                            "#bd3786"
                          ],
                          [
                            0.5555555555555556,
                            "#d8576b"
                          ],
                          [
                            0.6666666666666666,
                            "#ed7953"
                          ],
                          [
                            0.7777777777777778,
                            "#fb9f3a"
                          ],
                          [
                            0.8888888888888888,
                            "#fdca26"
                          ],
                          [
                            1,
                            "#f0f921"
                          ]
                        ],
                        "type": "contour"
                      }
                    ],
                    "contourcarpet": [
                      {
                        "colorbar": {
                          "outlinewidth": 0,
                          "ticks": ""
                        },
                        "type": "contourcarpet"
                      }
                    ],
                    "heatmap": [
                      {
                        "colorbar": {
                          "outlinewidth": 0,
                          "ticks": ""
                        },
                        "colorscale": [
                          [
                            0,
                            "#0d0887"
                          ],
                          [
                            0.1111111111111111,
                            "#46039f"
                          ],
                          [
                            0.2222222222222222,
                            "#7201a8"
                          ],
                          [
                            0.3333333333333333,
                            "#9c179e"
                          ],
                          [
                            0.4444444444444444,
                            "#bd3786"
                          ],
                          [
                            0.5555555555555556,
                            "#d8576b"
                          ],
                          [
                            0.6666666666666666,
                            "#ed7953"
                          ],
                          [
                            0.7777777777777778,
                            "#fb9f3a"
                          ],
                          [
                            0.8888888888888888,
                            "#fdca26"
                          ],
                          [
                            1,
                            "#f0f921"
                          ]
                        ],
                        "type": "heatmap"
                      }
                    ],
                    "heatmapgl": [
                      {
                        "colorbar": {
                          "outlinewidth": 0,
                          "ticks": ""
                        },
                        "colorscale": [
                          [
                            0,
                            "#0d0887"
                          ],
                          [
                            0.1111111111111111,
                            "#46039f"
                          ],
                          [
                            0.2222222222222222,
                            "#7201a8"
                          ],
                          [
                            0.3333333333333333,
                            "#9c179e"
                          ],
                          [
                            0.4444444444444444,
                            "#bd3786"
                          ],
                          [
                            0.5555555555555556,
                            "#d8576b"
                          ],
                          [
                            0.6666666666666666,
                            "#ed7953"
                          ],
                          [
                            0.7777777777777778,
                            "#fb9f3a"
                          ],
                          [
                            0.8888888888888888,
                            "#fdca26"
                          ],
                          [
                            1,
                            "#f0f921"
                          ]
                        ],
                        "type": "heatmapgl"
                      }
                    ],
                    "histogram": [
                      {
                        "marker": {
                          "pattern": {
                            "fillmode": "overlay",
                            "size": 10,
                            "solidity": 0.2
                          }
                        },
                        "type": "histogram"
                      }
                    ],
                    "histogram2d": [
                      {
                        "colorbar": {
                          "outlinewidth": 0,
                          "ticks": ""
                        },
                        "colorscale": [
                          [
                            0,
                            "#0d0887"
                          ],
                          [
                            0.1111111111111111,
                            "#46039f"
                          ],
                          [
                            0.2222222222222222,
                            "#7201a8"
                          ],
                          [
                            0.3333333333333333,
                            "#9c179e"
                          ],
                          [
                            0.4444444444444444,
                            "#bd3786"
                          ],
                          [
                            0.5555555555555556,
                            "#d8576b"
                          ],
                          [
                            0.6666666666666666,
                            "#ed7953"
                          ],
                          [
                            0.7777777777777778,
                            "#fb9f3a"
                          ],
                          [
                            0.8888888888888888,
                            "#fdca26"
                          ],
                          [
                            1,
                            "#f0f921"
                          ]
                        ],
                        "type": "histogram2d"
                      }
                    ],
                    "histogram2dcontour": [
                      {
                        "colorbar": {
                          "outlinewidth": 0,
                          "ticks": ""
                        },
                        "colorscale": [
                          [
                            0,
                            "#0d0887"
                          ],
                          [
                            0.1111111111111111,
                            "#46039f"
                          ],
                          [
                            0.2222222222222222,
                            "#7201a8"
                          ],
                          [
                            0.3333333333333333,
                            "#9c179e"
                          ],
                          [
                            0.4444444444444444,
                            "#bd3786"
                          ],
                          [
                            0.5555555555555556,
                            "#d8576b"
                          ],
                          [
                            0.6666666666666666,
                            "#ed7953"
                          ],
                          [
                            0.7777777777777778,
                            "#fb9f3a"
                          ],
                          [
                            0.8888888888888888,
                            "#fdca26"
                          ],
                          [
                            1,
                            "#f0f921"
                          ]
                        ],
                        "type": "histogram2dcontour"
                      }
                    ],
                    "mesh3d": [
                      {
                        "colorbar": {
                          "outlinewidth": 0,
                          "ticks": ""
                        },
                        "type": "mesh3d"
                      }
                    ],
                    "parcoords": [
                      {
                        "line": {
                          "colorbar": {
                            "outlinewidth": 0,
                            "ticks": ""
                          }
                        },
                        "type": "parcoords"
                      }
                    ],
                    "pie": [
                      {
                        "automargin": true,
                        "type": "pie"
                      }
                    ],
                    "scatter": [
                      {
                        "fillpattern": {
                          "fillmode": "overlay",
                          "size": 10,
                          "solidity": 0.2
                        },
                        "type": "scatter"
                      }
                    ],
                    "scatter3d": [
                      {
                        "line": {
                          "colorbar": {
                            "outlinewidth": 0,
                            "ticks": ""
                          }
                        },
                        "marker": {
                          "colorbar": {
                            "outlinewidth": 0,
                            "ticks": ""
                          }
                        },
                        "type": "scatter3d"
                      }
                    ],
                    "scattercarpet": [
                      {
                        "marker": {
                          "colorbar": {
                            "outlinewidth": 0,
                            "ticks": ""
                          }
                        },
                        "type": "scattercarpet"
                      }
                    ],
                    "scattergeo": [
                      {
                        "marker": {
                          "colorbar": {
                            "outlinewidth": 0,
                            "ticks": ""
                          }
                        },
                        "type": "scattergeo"
                      }
                    ],
                    "scattergl": [
                      {
                        "marker": {
                          "colorbar": {
                            "outlinewidth": 0,
                            "ticks": ""
                          }
                        },
                        "type": "scattergl"
                      }
                    ],
                    "scattermapbox": [
                      {
                        "marker": {
                          "colorbar": {
                            "outlinewidth": 0,
                            "ticks": ""
                          }
                        },
                        "type": "scattermapbox"
                      }
                    ],
                    "scatterpolar": [
                      {
                        "marker": {
                          "colorbar": {
                            "outlinewidth": 0,
                            "ticks": ""
                          }
                        },
                        "type": "scatterpolar"
                      }
                    ],
                    "scatterpolargl": [
                      {
                        "marker": {
                          "colorbar": {
                            "outlinewidth": 0,
                            "ticks": ""
                          }
                        },
                        "type": "scatterpolargl"
                      }
                    ],
                    "scatterternary": [
                      {
                        "marker": {
                          "colorbar": {
                            "outlinewidth": 0,
                            "ticks": ""
                          }
                        },
                        "type": "scatterternary"
                      }
                    ],
                    "surface": [
                      {
                        "colorbar": {
                          "outlinewidth": 0,
                          "ticks": ""
                        },
                        "colorscale": [
                          [
                            0,
                            "#0d0887"
                          ],
                          [
                            0.1111111111111111,
                            "#46039f"
                          ],
                          [
                            0.2222222222222222,
                            "#7201a8"
                          ],
                          [
                            0.3333333333333333,
                            "#9c179e"
                          ],
                          [
                            0.4444444444444444,
                            "#bd3786"
                          ],
                          [
                            0.5555555555555556,
                            "#d8576b"
                          ],
                          [
                            0.6666666666666666,
                            "#ed7953"
                          ],
                          [
                            0.7777777777777778,
                            "#fb9f3a"
                          ],
                          [
                            0.8888888888888888,
                            "#fdca26"
                          ],
                          [
                            1,
                            "#f0f921"
                          ]
                        ],
                        "type": "surface"
                      }
                    ],
                    "table": [
                      {
                        "cells": {
                          "fill": {
                            "color": "#EBF0F8"
                          },
                          "line": {
                            "color": "white"
                          }
                        },
                        "header": {
                          "fill": {
                            "color": "#C8D4E3"
                          },
                          "line": {
                            "color": "white"
                          }
                        },
                        "type": "table"
                      }
                    ]
                  },
                  "layout": {
                    "annotationdefaults": {
                      "arrowcolor": "#2a3f5f",
                      "arrowhead": 0,
                      "arrowwidth": 1
                    },
                    "autotypenumbers": "strict",
                    "coloraxis": {
                      "colorbar": {
                        "outlinewidth": 0,
                        "ticks": ""
                      }
                    },
                    "colorscale": {
                      "diverging": [
                        [
                          0,
                          "#8e0152"
                        ],
                        [
                          0.1,
                          "#c51b7d"
                        ],
                        [
                          0.2,
                          "#de77ae"
                        ],
                        [
                          0.3,
                          "#f1b6da"
                        ],
                        [
                          0.4,
                          "#fde0ef"
                        ],
                        [
                          0.5,
                          "#f7f7f7"
                        ],
                        [
                          0.6,
                          "#e6f5d0"
                        ],
                        [
                          0.7,
                          "#b8e186"
                        ],
                        [
                          0.8,
                          "#7fbc41"
                        ],
                        [
                          0.9,
                          "#4d9221"
                        ],
                        [
                          1,
                          "#276419"
                        ]
                      ],
                      "sequential": [
                        [
                          0,
                          "#0d0887"
                        ],
                        [
                          0.1111111111111111,
                          "#46039f"
                        ],
                        [
                          0.2222222222222222,
                          "#7201a8"
                        ],
                        [
                          0.3333333333333333,
                          "#9c179e"
                        ],
                        [
                          0.4444444444444444,
                          "#bd3786"
                        ],
                        [
                          0.5555555555555556,
                          "#d8576b"
                        ],
                        [
                          0.6666666666666666,
                          "#ed7953"
                        ],
                        [
                          0.7777777777777778,
                          "#fb9f3a"
                        ],
                        [
                          0.8888888888888888,
                          "#fdca26"
                        ],
                        [
                          1,
                          "#f0f921"
                        ]
                      ],
                      "sequentialminus": [
                        [
                          0,
                          "#0d0887"
                        ],
                        [
                          0.1111111111111111,
                          "#46039f"
                        ],
                        [
                          0.2222222222222222,
                          "#7201a8"
                        ],
                        [
                          0.3333333333333333,
                          "#9c179e"
                        ],
                        [
                          0.4444444444444444,
                          "#bd3786"
                        ],
                        [
                          0.5555555555555556,
                          "#d8576b"
                        ],
                        [
                          0.6666666666666666,
                          "#ed7953"
                        ],
                        [
                          0.7777777777777778,
                          "#fb9f3a"
                        ],
                        [
                          0.8888888888888888,
                          "#fdca26"
                        ],
                        [
                          1,
                          "#f0f921"
                        ]
                      ]
                    },
                    "colorway": [
                      "#636efa",
                      "#EF553B",
                      "#00cc96",
                      "#ab63fa",
                      "#FFA15A",
                      "#19d3f3",
                      "#FF6692",
                      "#B6E880",
                      "#FF97FF",
                      "#FECB52"
                    ],
                    "font": {
                      "color": "#2a3f5f"
                    },
                    "geo": {
                      "bgcolor": "white",
                      "lakecolor": "white",
                      "landcolor": "#E5ECF6",
                      "showlakes": true,
                      "showland": true,
                      "subunitcolor": "white"
                    },
                    "hoverlabel": {
                      "align": "left"
                    },
                    "hovermode": "closest",
                    "mapbox": {
                      "style": "light"
                    },
                    "paper_bgcolor": "white",
                    "plot_bgcolor": "#E5ECF6",
                    "polar": {
                      "angularaxis": {
                        "gridcolor": "white",
                        "linecolor": "white",
                        "ticks": ""
                      },
                      "bgcolor": "#E5ECF6",
                      "radialaxis": {
                        "gridcolor": "white",
                        "linecolor": "white",
                        "ticks": ""
                      }
                    },
                    "scene": {
                      "xaxis": {
                        "backgroundcolor": "#E5ECF6",
                        "gridcolor": "white",
                        "gridwidth": 2,
                        "linecolor": "white",
                        "showbackground": true,
                        "ticks": "",
                        "zerolinecolor": "white"
                      },
                      "yaxis": {
                        "backgroundcolor": "#E5ECF6",
                        "gridcolor": "white",
                        "gridwidth": 2,
                        "linecolor": "white",
                        "showbackground": true,
                        "ticks": "",
                        "zerolinecolor": "white"
                      },
                      "zaxis": {
                        "backgroundcolor": "#E5ECF6",
                        "gridcolor": "white",
                        "gridwidth": 2,
                        "linecolor": "white",
                        "showbackground": true,
                        "ticks": "",
                        "zerolinecolor": "white"
                      }
                    },
                    "shapedefaults": {
                      "line": {
                        "color": "#2a3f5f"
                      }
                    },
                    "ternary": {
                      "aaxis": {
                        "gridcolor": "white",
                        "linecolor": "white",
                        "ticks": ""
                      },
                      "baxis": {
                        "gridcolor": "white",
                        "linecolor": "white",
                        "ticks": ""
                      },
                      "bgcolor": "#E5ECF6",
                      "caxis": {
                        "gridcolor": "white",
                        "linecolor": "white",
                        "ticks": ""
                      }
                    },
                    "title": {
                      "x": 0.05
                    },
                    "xaxis": {
                      "automargin": true,
                      "gridcolor": "white",
                      "linecolor": "white",
                      "ticks": "",
                      "title": {
                        "standoff": 15
                      },
                      "zerolinecolor": "white",
                      "zerolinewidth": 2
                    },
                    "yaxis": {
                      "automargin": true,
                      "gridcolor": "white",
                      "linecolor": "white",
                      "ticks": "",
                      "title": {
                        "standoff": 15
                      },
                      "zerolinecolor": "white",
                      "zerolinewidth": 2
                    }
                  }
                }
              }
            }
          },
          "metadata": {},
          "output_type": "display_data"
        }
      ],
      "source": [
        "df_cities_weather[\"feels_like_mean\"] = df_cities_weather[\"feels_like\"].groupby(df_cities_weather[\"city\"]).transform(\"mean\")\n",
        "\n",
        "fig = px.scatter_mapbox(df_cities_weather, lat=\"lat\", lon=\"lon\", color=\"feels_like_mean\",\n",
        "                        zoom=4, mapbox_style=\"carto-positron\",\n",
        "                        hover_name='city'\n",
        "                        )\n",
        "fig.write_html('data/feels_like_mean.html')\n",
        "fig.show()"
      ]
    },
    {
      "cell_type": "code",
      "execution_count": 16,
      "metadata": {
        "colab": {
          "base_uri": "https://localhost:8080/",
          "height": 542
        },
        "id": "TBrhuZg7nep7",
        "outputId": "e050c3be-cebe-4728-db90-552ac4df2576"
      },
      "outputs": [
        {
          "data": {
            "application/vnd.plotly.v1+json": {
              "config": {
                "plotlyServerURL": "https://plot.ly"
              },
              "data": [
                {
                  "hovertemplate": "<b>%{hovertext}</b><br><br>lat=%{lat}<br>lon=%{lon}<br>rain_mean=%{marker.color}<extra></extra>",
                  "hovertext": [
                    "Mont Saint Michel",
                    "Mont Saint Michel",
                    "Mont Saint Michel",
                    "Mont Saint Michel",
                    "Mont Saint Michel",
                    "Mont Saint Michel",
                    "Mont Saint Michel",
                    "St Malo",
                    "St Malo",
                    "St Malo",
                    "St Malo",
                    "St Malo",
                    "St Malo",
                    "St Malo",
                    "Bayeux",
                    "Bayeux",
                    "Bayeux",
                    "Bayeux",
                    "Bayeux",
                    "Bayeux",
                    "Bayeux",
                    "Le Havre",
                    "Le Havre",
                    "Le Havre",
                    "Le Havre",
                    "Le Havre",
                    "Le Havre",
                    "Le Havre",
                    "Rouen",
                    "Rouen",
                    "Rouen",
                    "Rouen",
                    "Rouen",
                    "Rouen",
                    "Rouen",
                    "Paris",
                    "Paris",
                    "Paris",
                    "Paris",
                    "Paris",
                    "Paris",
                    "Paris",
                    "Amiens",
                    "Amiens",
                    "Amiens",
                    "Amiens",
                    "Amiens",
                    "Amiens",
                    "Amiens",
                    "Lille",
                    "Lille",
                    "Lille",
                    "Lille",
                    "Lille",
                    "Lille",
                    "Lille",
                    "Strasbourg",
                    "Strasbourg",
                    "Strasbourg",
                    "Strasbourg",
                    "Strasbourg",
                    "Strasbourg",
                    "Strasbourg",
                    "Chateau du Haut Koenigsbourg",
                    "Chateau du Haut Koenigsbourg",
                    "Chateau du Haut Koenigsbourg",
                    "Chateau du Haut Koenigsbourg",
                    "Chateau du Haut Koenigsbourg",
                    "Chateau du Haut Koenigsbourg",
                    "Chateau du Haut Koenigsbourg",
                    "Colmar",
                    "Colmar",
                    "Colmar",
                    "Colmar",
                    "Colmar",
                    "Colmar",
                    "Colmar",
                    "Eguisheim",
                    "Eguisheim",
                    "Eguisheim",
                    "Eguisheim",
                    "Eguisheim",
                    "Eguisheim",
                    "Eguisheim",
                    "Besancon",
                    "Besancon",
                    "Besancon",
                    "Besancon",
                    "Besancon",
                    "Besancon",
                    "Besancon",
                    "Dijon",
                    "Dijon",
                    "Dijon",
                    "Dijon",
                    "Dijon",
                    "Dijon",
                    "Dijon",
                    "Annecy",
                    "Annecy",
                    "Annecy",
                    "Annecy",
                    "Annecy",
                    "Annecy",
                    "Annecy",
                    "Grenoble",
                    "Grenoble",
                    "Grenoble",
                    "Grenoble",
                    "Grenoble",
                    "Grenoble",
                    "Grenoble",
                    "Lyon",
                    "Lyon",
                    "Lyon",
                    "Lyon",
                    "Lyon",
                    "Lyon",
                    "Lyon",
                    "Gorges du Verdon",
                    "Gorges du Verdon",
                    "Gorges du Verdon",
                    "Gorges du Verdon",
                    "Gorges du Verdon",
                    "Gorges du Verdon",
                    "Gorges du Verdon",
                    "Bormes les Mimosas",
                    "Bormes les Mimosas",
                    "Bormes les Mimosas",
                    "Bormes les Mimosas",
                    "Bormes les Mimosas",
                    "Bormes les Mimosas",
                    "Bormes les Mimosas",
                    "Cassis",
                    "Cassis",
                    "Cassis",
                    "Cassis",
                    "Cassis",
                    "Cassis",
                    "Cassis",
                    "Marseille",
                    "Marseille",
                    "Marseille",
                    "Marseille",
                    "Marseille",
                    "Marseille",
                    "Marseille",
                    "Aix en Provence",
                    "Aix en Provence",
                    "Aix en Provence",
                    "Aix en Provence",
                    "Aix en Provence",
                    "Aix en Provence",
                    "Aix en Provence",
                    "Avignon",
                    "Avignon",
                    "Avignon",
                    "Avignon",
                    "Avignon",
                    "Avignon",
                    "Avignon",
                    "Uzes",
                    "Uzes",
                    "Uzes",
                    "Uzes",
                    "Uzes",
                    "Uzes",
                    "Uzes",
                    "Nimes",
                    "Nimes",
                    "Nimes",
                    "Nimes",
                    "Nimes",
                    "Nimes",
                    "Nimes",
                    "Aigues Mortes",
                    "Aigues Mortes",
                    "Aigues Mortes",
                    "Aigues Mortes",
                    "Aigues Mortes",
                    "Aigues Mortes",
                    "Aigues Mortes",
                    "Saintes Maries de la mer",
                    "Saintes Maries de la mer",
                    "Saintes Maries de la mer",
                    "Saintes Maries de la mer",
                    "Saintes Maries de la mer",
                    "Saintes Maries de la mer",
                    "Saintes Maries de la mer",
                    "Collioure",
                    "Collioure",
                    "Collioure",
                    "Collioure",
                    "Collioure",
                    "Collioure",
                    "Collioure",
                    "Carcassonne",
                    "Carcassonne",
                    "Carcassonne",
                    "Carcassonne",
                    "Carcassonne",
                    "Carcassonne",
                    "Carcassonne",
                    "Ariege",
                    "Ariege",
                    "Ariege",
                    "Ariege",
                    "Ariege",
                    "Ariege",
                    "Ariege",
                    "Toulouse",
                    "Toulouse",
                    "Toulouse",
                    "Toulouse",
                    "Toulouse",
                    "Toulouse",
                    "Toulouse",
                    "Montauban",
                    "Montauban",
                    "Montauban",
                    "Montauban",
                    "Montauban",
                    "Montauban",
                    "Montauban",
                    "Biarritz",
                    "Biarritz",
                    "Biarritz",
                    "Biarritz",
                    "Biarritz",
                    "Biarritz",
                    "Biarritz",
                    "Bayonne",
                    "Bayonne",
                    "Bayonne",
                    "Bayonne",
                    "Bayonne",
                    "Bayonne",
                    "Bayonne",
                    "La Rochelle",
                    "La Rochelle",
                    "La Rochelle",
                    "La Rochelle",
                    "La Rochelle",
                    "La Rochelle",
                    "La Rochelle"
                  ],
                  "lat": [
                    48.6359541,
                    48.6359541,
                    48.6359541,
                    48.6359541,
                    48.6359541,
                    48.6359541,
                    48.6359541,
                    48.649518,
                    48.649518,
                    48.649518,
                    48.649518,
                    48.649518,
                    48.649518,
                    48.649518,
                    49.2764624,
                    49.2764624,
                    49.2764624,
                    49.2764624,
                    49.2764624,
                    49.2764624,
                    49.2764624,
                    49.4938975,
                    49.4938975,
                    49.4938975,
                    49.4938975,
                    49.4938975,
                    49.4938975,
                    49.4938975,
                    49.4404591,
                    49.4404591,
                    49.4404591,
                    49.4404591,
                    49.4404591,
                    49.4404591,
                    49.4404591,
                    48.8534951,
                    48.8534951,
                    48.8534951,
                    48.8534951,
                    48.8534951,
                    48.8534951,
                    48.8534951,
                    49.8941708,
                    49.8941708,
                    49.8941708,
                    49.8941708,
                    49.8941708,
                    49.8941708,
                    49.8941708,
                    50.6365654,
                    50.6365654,
                    50.6365654,
                    50.6365654,
                    50.6365654,
                    50.6365654,
                    50.6365654,
                    48.584614,
                    48.584614,
                    48.584614,
                    48.584614,
                    48.584614,
                    48.584614,
                    48.584614,
                    48.24941075,
                    48.24941075,
                    48.24941075,
                    48.24941075,
                    48.24941075,
                    48.24941075,
                    48.24941075,
                    48.0777517,
                    48.0777517,
                    48.0777517,
                    48.0777517,
                    48.0777517,
                    48.0777517,
                    48.0777517,
                    48.0447968,
                    48.0447968,
                    48.0447968,
                    48.0447968,
                    48.0447968,
                    48.0447968,
                    48.0447968,
                    47.2380222,
                    47.2380222,
                    47.2380222,
                    47.2380222,
                    47.2380222,
                    47.2380222,
                    47.2380222,
                    47.3215806,
                    47.3215806,
                    47.3215806,
                    47.3215806,
                    47.3215806,
                    47.3215806,
                    47.3215806,
                    45.8992348,
                    45.8992348,
                    45.8992348,
                    45.8992348,
                    45.8992348,
                    45.8992348,
                    45.8992348,
                    45.1875602,
                    45.1875602,
                    45.1875602,
                    45.1875602,
                    45.1875602,
                    45.1875602,
                    45.1875602,
                    45.7578137,
                    45.7578137,
                    45.7578137,
                    45.7578137,
                    45.7578137,
                    45.7578137,
                    45.7578137,
                    43.7496562,
                    43.7496562,
                    43.7496562,
                    43.7496562,
                    43.7496562,
                    43.7496562,
                    43.7496562,
                    43.1506968,
                    43.1506968,
                    43.1506968,
                    43.1506968,
                    43.1506968,
                    43.1506968,
                    43.1506968,
                    43.2140359,
                    43.2140359,
                    43.2140359,
                    43.2140359,
                    43.2140359,
                    43.2140359,
                    43.2140359,
                    43.2961743,
                    43.2961743,
                    43.2961743,
                    43.2961743,
                    43.2961743,
                    43.2961743,
                    43.2961743,
                    43.5298424,
                    43.5298424,
                    43.5298424,
                    43.5298424,
                    43.5298424,
                    43.5298424,
                    43.5298424,
                    43.9492493,
                    43.9492493,
                    43.9492493,
                    43.9492493,
                    43.9492493,
                    43.9492493,
                    43.9492493,
                    44.0121279,
                    44.0121279,
                    44.0121279,
                    44.0121279,
                    44.0121279,
                    44.0121279,
                    44.0121279,
                    43.8374249,
                    43.8374249,
                    43.8374249,
                    43.8374249,
                    43.8374249,
                    43.8374249,
                    43.8374249,
                    43.5661521,
                    43.5661521,
                    43.5661521,
                    43.5661521,
                    43.5661521,
                    43.5661521,
                    43.5661521,
                    43.4515922,
                    43.4515922,
                    43.4515922,
                    43.4515922,
                    43.4515922,
                    43.4515922,
                    43.4515922,
                    42.52505,
                    42.52505,
                    42.52505,
                    42.52505,
                    42.52505,
                    42.52505,
                    42.52505,
                    43.2130358,
                    43.2130358,
                    43.2130358,
                    43.2130358,
                    43.2130358,
                    43.2130358,
                    43.2130358,
                    42.9455368,
                    42.9455368,
                    42.9455368,
                    42.9455368,
                    42.9455368,
                    42.9455368,
                    42.9455368,
                    43.6044622,
                    43.6044622,
                    43.6044622,
                    43.6044622,
                    43.6044622,
                    43.6044622,
                    43.6044622,
                    44.0175835,
                    44.0175835,
                    44.0175835,
                    44.0175835,
                    44.0175835,
                    44.0175835,
                    44.0175835,
                    43.47114375,
                    43.47114375,
                    43.47114375,
                    43.47114375,
                    43.47114375,
                    43.47114375,
                    43.47114375,
                    43.4945144,
                    43.4945144,
                    43.4945144,
                    43.4945144,
                    43.4945144,
                    43.4945144,
                    43.4945144,
                    46.159732,
                    46.159732,
                    46.159732,
                    46.159732,
                    46.159732,
                    46.159732,
                    46.159732
                  ],
                  "legendgroup": "",
                  "lon": [
                    -1.511459954959514,
                    -1.511459954959514,
                    -1.511459954959514,
                    -1.511459954959514,
                    -1.511459954959514,
                    -1.511459954959514,
                    -1.511459954959514,
                    -2.0260409,
                    -2.0260409,
                    -2.0260409,
                    -2.0260409,
                    -2.0260409,
                    -2.0260409,
                    -2.0260409,
                    -0.7024738,
                    -0.7024738,
                    -0.7024738,
                    -0.7024738,
                    -0.7024738,
                    -0.7024738,
                    -0.7024738,
                    0.1079732,
                    0.1079732,
                    0.1079732,
                    0.1079732,
                    0.1079732,
                    0.1079732,
                    0.1079732,
                    1.0939658,
                    1.0939658,
                    1.0939658,
                    1.0939658,
                    1.0939658,
                    1.0939658,
                    1.0939658,
                    2.3483915,
                    2.3483915,
                    2.3483915,
                    2.3483915,
                    2.3483915,
                    2.3483915,
                    2.3483915,
                    2.2956951,
                    2.2956951,
                    2.2956951,
                    2.2956951,
                    2.2956951,
                    2.2956951,
                    2.2956951,
                    3.0635282,
                    3.0635282,
                    3.0635282,
                    3.0635282,
                    3.0635282,
                    3.0635282,
                    3.0635282,
                    7.7507127,
                    7.7507127,
                    7.7507127,
                    7.7507127,
                    7.7507127,
                    7.7507127,
                    7.7507127,
                    7.344320233724503,
                    7.344320233724503,
                    7.344320233724503,
                    7.344320233724503,
                    7.344320233724503,
                    7.344320233724503,
                    7.344320233724503,
                    7.3579641,
                    7.3579641,
                    7.3579641,
                    7.3579641,
                    7.3579641,
                    7.3579641,
                    7.3579641,
                    7.3079618,
                    7.3079618,
                    7.3079618,
                    7.3079618,
                    7.3079618,
                    7.3079618,
                    7.3079618,
                    6.0243622,
                    6.0243622,
                    6.0243622,
                    6.0243622,
                    6.0243622,
                    6.0243622,
                    6.0243622,
                    5.0414701,
                    5.0414701,
                    5.0414701,
                    5.0414701,
                    5.0414701,
                    5.0414701,
                    5.0414701,
                    6.1288847,
                    6.1288847,
                    6.1288847,
                    6.1288847,
                    6.1288847,
                    6.1288847,
                    6.1288847,
                    5.7357819,
                    5.7357819,
                    5.7357819,
                    5.7357819,
                    5.7357819,
                    5.7357819,
                    5.7357819,
                    4.8320114,
                    4.8320114,
                    4.8320114,
                    4.8320114,
                    4.8320114,
                    4.8320114,
                    4.8320114,
                    6.3285616,
                    6.3285616,
                    6.3285616,
                    6.3285616,
                    6.3285616,
                    6.3285616,
                    6.3285616,
                    6.3419285,
                    6.3419285,
                    6.3419285,
                    6.3419285,
                    6.3419285,
                    6.3419285,
                    6.3419285,
                    5.5396318,
                    5.5396318,
                    5.5396318,
                    5.5396318,
                    5.5396318,
                    5.5396318,
                    5.5396318,
                    5.3699525,
                    5.3699525,
                    5.3699525,
                    5.3699525,
                    5.3699525,
                    5.3699525,
                    5.3699525,
                    5.4474738,
                    5.4474738,
                    5.4474738,
                    5.4474738,
                    5.4474738,
                    5.4474738,
                    5.4474738,
                    4.8059012,
                    4.8059012,
                    4.8059012,
                    4.8059012,
                    4.8059012,
                    4.8059012,
                    4.8059012,
                    4.4196718,
                    4.4196718,
                    4.4196718,
                    4.4196718,
                    4.4196718,
                    4.4196718,
                    4.4196718,
                    4.3600687,
                    4.3600687,
                    4.3600687,
                    4.3600687,
                    4.3600687,
                    4.3600687,
                    4.3600687,
                    4.19154,
                    4.19154,
                    4.19154,
                    4.19154,
                    4.19154,
                    4.19154,
                    4.19154,
                    4.4277202,
                    4.4277202,
                    4.4277202,
                    4.4277202,
                    4.4277202,
                    4.4277202,
                    4.4277202,
                    3.0831554,
                    3.0831554,
                    3.0831554,
                    3.0831554,
                    3.0831554,
                    3.0831554,
                    3.0831554,
                    2.3491069,
                    2.3491069,
                    2.3491069,
                    2.3491069,
                    2.3491069,
                    2.3491069,
                    2.3491069,
                    1.4065544156065486,
                    1.4065544156065486,
                    1.4065544156065486,
                    1.4065544156065486,
                    1.4065544156065486,
                    1.4065544156065486,
                    1.4065544156065486,
                    1.4442469,
                    1.4442469,
                    1.4442469,
                    1.4442469,
                    1.4442469,
                    1.4442469,
                    1.4442469,
                    1.3549991,
                    1.3549991,
                    1.3549991,
                    1.3549991,
                    1.3549991,
                    1.3549991,
                    1.3549991,
                    -1.552726590666314,
                    -1.552726590666314,
                    -1.552726590666314,
                    -1.552726590666314,
                    -1.552726590666314,
                    -1.552726590666314,
                    -1.552726590666314,
                    -1.4736657,
                    -1.4736657,
                    -1.4736657,
                    -1.4736657,
                    -1.4736657,
                    -1.4736657,
                    -1.4736657,
                    -1.1515951,
                    -1.1515951,
                    -1.1515951,
                    -1.1515951,
                    -1.1515951,
                    -1.1515951,
                    -1.1515951
                  ],
                  "marker": {
                    "color": [
                      5.435814285714286,
                      5.435814285714286,
                      5.435814285714286,
                      5.435814285714286,
                      5.435814285714286,
                      5.435814285714286,
                      5.435814285714286,
                      4.9696,
                      4.9696,
                      4.9696,
                      4.9696,
                      4.9696,
                      4.9696,
                      4.9696,
                      3.8114285714285714,
                      3.8114285714285714,
                      3.8114285714285714,
                      3.8114285714285714,
                      3.8114285714285714,
                      3.8114285714285714,
                      3.8114285714285714,
                      5.3158,
                      5.3158,
                      5.3158,
                      5.3158,
                      5.3158,
                      5.3158,
                      5.3158,
                      2.7838571428571433,
                      2.7838571428571433,
                      2.7838571428571433,
                      2.7838571428571433,
                      2.7838571428571433,
                      2.7838571428571433,
                      2.7838571428571433,
                      3.6413714285714285,
                      3.6413714285714285,
                      3.6413714285714285,
                      3.6413714285714285,
                      3.6413714285714285,
                      3.6413714285714285,
                      3.6413714285714285,
                      0.9885714285714285,
                      0.9885714285714285,
                      0.9885714285714285,
                      0.9885714285714285,
                      0.9885714285714285,
                      0.9885714285714285,
                      0.9885714285714285,
                      2.0057,
                      2.0057,
                      2.0057,
                      2.0057,
                      2.0057,
                      2.0057,
                      2.0057,
                      3.1496,
                      3.1496,
                      3.1496,
                      3.1496,
                      3.1496,
                      3.1496,
                      3.1496,
                      4.255057142857143,
                      4.255057142857143,
                      4.255057142857143,
                      4.255057142857143,
                      4.255057142857143,
                      4.255057142857143,
                      4.255057142857143,
                      7.036371428571429,
                      7.036371428571429,
                      7.036371428571429,
                      7.036371428571429,
                      7.036371428571429,
                      7.036371428571429,
                      7.036371428571429,
                      7.594285714285715,
                      7.594285714285715,
                      7.594285714285715,
                      7.594285714285715,
                      7.594285714285715,
                      7.594285714285715,
                      7.594285714285715,
                      4.452857142857143,
                      4.452857142857143,
                      4.452857142857143,
                      4.452857142857143,
                      4.452857142857143,
                      4.452857142857143,
                      4.452857142857143,
                      3.1660714285714286,
                      3.1660714285714286,
                      3.1660714285714286,
                      3.1660714285714286,
                      3.1660714285714286,
                      3.1660714285714286,
                      3.1660714285714286,
                      11.394285714285713,
                      11.394285714285713,
                      11.394285714285713,
                      11.394285714285713,
                      11.394285714285713,
                      11.394285714285713,
                      11.394285714285713,
                      6.569999999999999,
                      6.569999999999999,
                      6.569999999999999,
                      6.569999999999999,
                      6.569999999999999,
                      6.569999999999999,
                      6.569999999999999,
                      2.835142857142857,
                      2.835142857142857,
                      2.835142857142857,
                      2.835142857142857,
                      2.835142857142857,
                      2.835142857142857,
                      2.835142857142857,
                      2.0416,
                      2.0416,
                      2.0416,
                      2.0416,
                      2.0416,
                      2.0416,
                      2.0416,
                      1.2508,
                      1.2508,
                      1.2508,
                      1.2508,
                      1.2508,
                      1.2508,
                      1.2508,
                      0.9712142857142858,
                      0.9712142857142858,
                      0.9712142857142858,
                      0.9712142857142858,
                      0.9712142857142858,
                      0.9712142857142858,
                      0.9712142857142858,
                      0.8552857142857143,
                      0.8552857142857143,
                      0.8552857142857143,
                      0.8552857142857143,
                      0.8552857142857143,
                      0.8552857142857143,
                      0.8552857142857143,
                      0.7366571428571429,
                      0.7366571428571429,
                      0.7366571428571429,
                      0.7366571428571429,
                      0.7366571428571429,
                      0.7366571428571429,
                      0.7366571428571429,
                      0.8771571428571429,
                      0.8771571428571429,
                      0.8771571428571429,
                      0.8771571428571429,
                      0.8771571428571429,
                      0.8771571428571429,
                      0.8771571428571429,
                      0.8166857142857143,
                      0.8166857142857143,
                      0.8166857142857143,
                      0.8166857142857143,
                      0.8166857142857143,
                      0.8166857142857143,
                      0.8166857142857143,
                      0.36660000000000004,
                      0.36660000000000004,
                      0.36660000000000004,
                      0.36660000000000004,
                      0.36660000000000004,
                      0.36660000000000004,
                      0.36660000000000004,
                      0.017714285714285714,
                      0.017714285714285714,
                      0.017714285714285714,
                      0.017714285714285714,
                      0.017714285714285714,
                      0.017714285714285714,
                      0.017714285714285714,
                      0.01002857142857143,
                      0.01002857142857143,
                      0.01002857142857143,
                      0.01002857142857143,
                      0.01002857142857143,
                      0.01002857142857143,
                      0.01002857142857143,
                      0.4572,
                      0.4572,
                      0.4572,
                      0.4572,
                      0.4572,
                      0.4572,
                      0.4572,
                      2.7858857142857145,
                      2.7858857142857145,
                      2.7858857142857145,
                      2.7858857142857145,
                      2.7858857142857145,
                      2.7858857142857145,
                      2.7858857142857145,
                      9.670857142857143,
                      9.670857142857143,
                      9.670857142857143,
                      9.670857142857143,
                      9.670857142857143,
                      9.670857142857143,
                      9.670857142857143,
                      3.488571428571429,
                      3.488571428571429,
                      3.488571428571429,
                      3.488571428571429,
                      3.488571428571429,
                      3.488571428571429,
                      3.488571428571429,
                      2.378,
                      2.378,
                      2.378,
                      2.378,
                      2.378,
                      2.378,
                      2.378,
                      7.912985714285715,
                      7.912985714285715,
                      7.912985714285715,
                      7.912985714285715,
                      7.912985714285715,
                      7.912985714285715,
                      7.912985714285715,
                      7.631914285714286,
                      7.631914285714286,
                      7.631914285714286,
                      7.631914285714286,
                      7.631914285714286,
                      7.631914285714286,
                      7.631914285714286,
                      5.5,
                      5.5,
                      5.5,
                      5.5,
                      5.5,
                      5.5,
                      5.5
                    ],
                    "coloraxis": "coloraxis"
                  },
                  "mode": "markers",
                  "name": "",
                  "showlegend": false,
                  "subplot": "mapbox",
                  "type": "scattermapbox"
                }
              ],
              "layout": {
                "coloraxis": {
                  "colorbar": {
                    "title": {
                      "text": "rain_mean"
                    }
                  },
                  "colorscale": [
                    [
                      0,
                      "#0d0887"
                    ],
                    [
                      0.1111111111111111,
                      "#46039f"
                    ],
                    [
                      0.2222222222222222,
                      "#7201a8"
                    ],
                    [
                      0.3333333333333333,
                      "#9c179e"
                    ],
                    [
                      0.4444444444444444,
                      "#bd3786"
                    ],
                    [
                      0.5555555555555556,
                      "#d8576b"
                    ],
                    [
                      0.6666666666666666,
                      "#ed7953"
                    ],
                    [
                      0.7777777777777778,
                      "#fb9f3a"
                    ],
                    [
                      0.8888888888888888,
                      "#fdca26"
                    ],
                    [
                      1,
                      "#f0f921"
                    ]
                  ]
                },
                "legend": {
                  "tracegroupgap": 0
                },
                "mapbox": {
                  "center": {
                    "lat": 45.84083764571429,
                    "lon": 3.396730677248721
                  },
                  "domain": {
                    "x": [
                      0,
                      1
                    ],
                    "y": [
                      0,
                      1
                    ]
                  },
                  "style": "carto-positron",
                  "zoom": 4
                },
                "margin": {
                  "t": 60
                },
                "template": {
                  "data": {
                    "bar": [
                      {
                        "error_x": {
                          "color": "#2a3f5f"
                        },
                        "error_y": {
                          "color": "#2a3f5f"
                        },
                        "marker": {
                          "line": {
                            "color": "#E5ECF6",
                            "width": 0.5
                          },
                          "pattern": {
                            "fillmode": "overlay",
                            "size": 10,
                            "solidity": 0.2
                          }
                        },
                        "type": "bar"
                      }
                    ],
                    "barpolar": [
                      {
                        "marker": {
                          "line": {
                            "color": "#E5ECF6",
                            "width": 0.5
                          },
                          "pattern": {
                            "fillmode": "overlay",
                            "size": 10,
                            "solidity": 0.2
                          }
                        },
                        "type": "barpolar"
                      }
                    ],
                    "carpet": [
                      {
                        "aaxis": {
                          "endlinecolor": "#2a3f5f",
                          "gridcolor": "white",
                          "linecolor": "white",
                          "minorgridcolor": "white",
                          "startlinecolor": "#2a3f5f"
                        },
                        "baxis": {
                          "endlinecolor": "#2a3f5f",
                          "gridcolor": "white",
                          "linecolor": "white",
                          "minorgridcolor": "white",
                          "startlinecolor": "#2a3f5f"
                        },
                        "type": "carpet"
                      }
                    ],
                    "choropleth": [
                      {
                        "colorbar": {
                          "outlinewidth": 0,
                          "ticks": ""
                        },
                        "type": "choropleth"
                      }
                    ],
                    "contour": [
                      {
                        "colorbar": {
                          "outlinewidth": 0,
                          "ticks": ""
                        },
                        "colorscale": [
                          [
                            0,
                            "#0d0887"
                          ],
                          [
                            0.1111111111111111,
                            "#46039f"
                          ],
                          [
                            0.2222222222222222,
                            "#7201a8"
                          ],
                          [
                            0.3333333333333333,
                            "#9c179e"
                          ],
                          [
                            0.4444444444444444,
                            "#bd3786"
                          ],
                          [
                            0.5555555555555556,
                            "#d8576b"
                          ],
                          [
                            0.6666666666666666,
                            "#ed7953"
                          ],
                          [
                            0.7777777777777778,
                            "#fb9f3a"
                          ],
                          [
                            0.8888888888888888,
                            "#fdca26"
                          ],
                          [
                            1,
                            "#f0f921"
                          ]
                        ],
                        "type": "contour"
                      }
                    ],
                    "contourcarpet": [
                      {
                        "colorbar": {
                          "outlinewidth": 0,
                          "ticks": ""
                        },
                        "type": "contourcarpet"
                      }
                    ],
                    "heatmap": [
                      {
                        "colorbar": {
                          "outlinewidth": 0,
                          "ticks": ""
                        },
                        "colorscale": [
                          [
                            0,
                            "#0d0887"
                          ],
                          [
                            0.1111111111111111,
                            "#46039f"
                          ],
                          [
                            0.2222222222222222,
                            "#7201a8"
                          ],
                          [
                            0.3333333333333333,
                            "#9c179e"
                          ],
                          [
                            0.4444444444444444,
                            "#bd3786"
                          ],
                          [
                            0.5555555555555556,
                            "#d8576b"
                          ],
                          [
                            0.6666666666666666,
                            "#ed7953"
                          ],
                          [
                            0.7777777777777778,
                            "#fb9f3a"
                          ],
                          [
                            0.8888888888888888,
                            "#fdca26"
                          ],
                          [
                            1,
                            "#f0f921"
                          ]
                        ],
                        "type": "heatmap"
                      }
                    ],
                    "heatmapgl": [
                      {
                        "colorbar": {
                          "outlinewidth": 0,
                          "ticks": ""
                        },
                        "colorscale": [
                          [
                            0,
                            "#0d0887"
                          ],
                          [
                            0.1111111111111111,
                            "#46039f"
                          ],
                          [
                            0.2222222222222222,
                            "#7201a8"
                          ],
                          [
                            0.3333333333333333,
                            "#9c179e"
                          ],
                          [
                            0.4444444444444444,
                            "#bd3786"
                          ],
                          [
                            0.5555555555555556,
                            "#d8576b"
                          ],
                          [
                            0.6666666666666666,
                            "#ed7953"
                          ],
                          [
                            0.7777777777777778,
                            "#fb9f3a"
                          ],
                          [
                            0.8888888888888888,
                            "#fdca26"
                          ],
                          [
                            1,
                            "#f0f921"
                          ]
                        ],
                        "type": "heatmapgl"
                      }
                    ],
                    "histogram": [
                      {
                        "marker": {
                          "pattern": {
                            "fillmode": "overlay",
                            "size": 10,
                            "solidity": 0.2
                          }
                        },
                        "type": "histogram"
                      }
                    ],
                    "histogram2d": [
                      {
                        "colorbar": {
                          "outlinewidth": 0,
                          "ticks": ""
                        },
                        "colorscale": [
                          [
                            0,
                            "#0d0887"
                          ],
                          [
                            0.1111111111111111,
                            "#46039f"
                          ],
                          [
                            0.2222222222222222,
                            "#7201a8"
                          ],
                          [
                            0.3333333333333333,
                            "#9c179e"
                          ],
                          [
                            0.4444444444444444,
                            "#bd3786"
                          ],
                          [
                            0.5555555555555556,
                            "#d8576b"
                          ],
                          [
                            0.6666666666666666,
                            "#ed7953"
                          ],
                          [
                            0.7777777777777778,
                            "#fb9f3a"
                          ],
                          [
                            0.8888888888888888,
                            "#fdca26"
                          ],
                          [
                            1,
                            "#f0f921"
                          ]
                        ],
                        "type": "histogram2d"
                      }
                    ],
                    "histogram2dcontour": [
                      {
                        "colorbar": {
                          "outlinewidth": 0,
                          "ticks": ""
                        },
                        "colorscale": [
                          [
                            0,
                            "#0d0887"
                          ],
                          [
                            0.1111111111111111,
                            "#46039f"
                          ],
                          [
                            0.2222222222222222,
                            "#7201a8"
                          ],
                          [
                            0.3333333333333333,
                            "#9c179e"
                          ],
                          [
                            0.4444444444444444,
                            "#bd3786"
                          ],
                          [
                            0.5555555555555556,
                            "#d8576b"
                          ],
                          [
                            0.6666666666666666,
                            "#ed7953"
                          ],
                          [
                            0.7777777777777778,
                            "#fb9f3a"
                          ],
                          [
                            0.8888888888888888,
                            "#fdca26"
                          ],
                          [
                            1,
                            "#f0f921"
                          ]
                        ],
                        "type": "histogram2dcontour"
                      }
                    ],
                    "mesh3d": [
                      {
                        "colorbar": {
                          "outlinewidth": 0,
                          "ticks": ""
                        },
                        "type": "mesh3d"
                      }
                    ],
                    "parcoords": [
                      {
                        "line": {
                          "colorbar": {
                            "outlinewidth": 0,
                            "ticks": ""
                          }
                        },
                        "type": "parcoords"
                      }
                    ],
                    "pie": [
                      {
                        "automargin": true,
                        "type": "pie"
                      }
                    ],
                    "scatter": [
                      {
                        "fillpattern": {
                          "fillmode": "overlay",
                          "size": 10,
                          "solidity": 0.2
                        },
                        "type": "scatter"
                      }
                    ],
                    "scatter3d": [
                      {
                        "line": {
                          "colorbar": {
                            "outlinewidth": 0,
                            "ticks": ""
                          }
                        },
                        "marker": {
                          "colorbar": {
                            "outlinewidth": 0,
                            "ticks": ""
                          }
                        },
                        "type": "scatter3d"
                      }
                    ],
                    "scattercarpet": [
                      {
                        "marker": {
                          "colorbar": {
                            "outlinewidth": 0,
                            "ticks": ""
                          }
                        },
                        "type": "scattercarpet"
                      }
                    ],
                    "scattergeo": [
                      {
                        "marker": {
                          "colorbar": {
                            "outlinewidth": 0,
                            "ticks": ""
                          }
                        },
                        "type": "scattergeo"
                      }
                    ],
                    "scattergl": [
                      {
                        "marker": {
                          "colorbar": {
                            "outlinewidth": 0,
                            "ticks": ""
                          }
                        },
                        "type": "scattergl"
                      }
                    ],
                    "scattermapbox": [
                      {
                        "marker": {
                          "colorbar": {
                            "outlinewidth": 0,
                            "ticks": ""
                          }
                        },
                        "type": "scattermapbox"
                      }
                    ],
                    "scatterpolar": [
                      {
                        "marker": {
                          "colorbar": {
                            "outlinewidth": 0,
                            "ticks": ""
                          }
                        },
                        "type": "scatterpolar"
                      }
                    ],
                    "scatterpolargl": [
                      {
                        "marker": {
                          "colorbar": {
                            "outlinewidth": 0,
                            "ticks": ""
                          }
                        },
                        "type": "scatterpolargl"
                      }
                    ],
                    "scatterternary": [
                      {
                        "marker": {
                          "colorbar": {
                            "outlinewidth": 0,
                            "ticks": ""
                          }
                        },
                        "type": "scatterternary"
                      }
                    ],
                    "surface": [
                      {
                        "colorbar": {
                          "outlinewidth": 0,
                          "ticks": ""
                        },
                        "colorscale": [
                          [
                            0,
                            "#0d0887"
                          ],
                          [
                            0.1111111111111111,
                            "#46039f"
                          ],
                          [
                            0.2222222222222222,
                            "#7201a8"
                          ],
                          [
                            0.3333333333333333,
                            "#9c179e"
                          ],
                          [
                            0.4444444444444444,
                            "#bd3786"
                          ],
                          [
                            0.5555555555555556,
                            "#d8576b"
                          ],
                          [
                            0.6666666666666666,
                            "#ed7953"
                          ],
                          [
                            0.7777777777777778,
                            "#fb9f3a"
                          ],
                          [
                            0.8888888888888888,
                            "#fdca26"
                          ],
                          [
                            1,
                            "#f0f921"
                          ]
                        ],
                        "type": "surface"
                      }
                    ],
                    "table": [
                      {
                        "cells": {
                          "fill": {
                            "color": "#EBF0F8"
                          },
                          "line": {
                            "color": "white"
                          }
                        },
                        "header": {
                          "fill": {
                            "color": "#C8D4E3"
                          },
                          "line": {
                            "color": "white"
                          }
                        },
                        "type": "table"
                      }
                    ]
                  },
                  "layout": {
                    "annotationdefaults": {
                      "arrowcolor": "#2a3f5f",
                      "arrowhead": 0,
                      "arrowwidth": 1
                    },
                    "autotypenumbers": "strict",
                    "coloraxis": {
                      "colorbar": {
                        "outlinewidth": 0,
                        "ticks": ""
                      }
                    },
                    "colorscale": {
                      "diverging": [
                        [
                          0,
                          "#8e0152"
                        ],
                        [
                          0.1,
                          "#c51b7d"
                        ],
                        [
                          0.2,
                          "#de77ae"
                        ],
                        [
                          0.3,
                          "#f1b6da"
                        ],
                        [
                          0.4,
                          "#fde0ef"
                        ],
                        [
                          0.5,
                          "#f7f7f7"
                        ],
                        [
                          0.6,
                          "#e6f5d0"
                        ],
                        [
                          0.7,
                          "#b8e186"
                        ],
                        [
                          0.8,
                          "#7fbc41"
                        ],
                        [
                          0.9,
                          "#4d9221"
                        ],
                        [
                          1,
                          "#276419"
                        ]
                      ],
                      "sequential": [
                        [
                          0,
                          "#0d0887"
                        ],
                        [
                          0.1111111111111111,
                          "#46039f"
                        ],
                        [
                          0.2222222222222222,
                          "#7201a8"
                        ],
                        [
                          0.3333333333333333,
                          "#9c179e"
                        ],
                        [
                          0.4444444444444444,
                          "#bd3786"
                        ],
                        [
                          0.5555555555555556,
                          "#d8576b"
                        ],
                        [
                          0.6666666666666666,
                          "#ed7953"
                        ],
                        [
                          0.7777777777777778,
                          "#fb9f3a"
                        ],
                        [
                          0.8888888888888888,
                          "#fdca26"
                        ],
                        [
                          1,
                          "#f0f921"
                        ]
                      ],
                      "sequentialminus": [
                        [
                          0,
                          "#0d0887"
                        ],
                        [
                          0.1111111111111111,
                          "#46039f"
                        ],
                        [
                          0.2222222222222222,
                          "#7201a8"
                        ],
                        [
                          0.3333333333333333,
                          "#9c179e"
                        ],
                        [
                          0.4444444444444444,
                          "#bd3786"
                        ],
                        [
                          0.5555555555555556,
                          "#d8576b"
                        ],
                        [
                          0.6666666666666666,
                          "#ed7953"
                        ],
                        [
                          0.7777777777777778,
                          "#fb9f3a"
                        ],
                        [
                          0.8888888888888888,
                          "#fdca26"
                        ],
                        [
                          1,
                          "#f0f921"
                        ]
                      ]
                    },
                    "colorway": [
                      "#636efa",
                      "#EF553B",
                      "#00cc96",
                      "#ab63fa",
                      "#FFA15A",
                      "#19d3f3",
                      "#FF6692",
                      "#B6E880",
                      "#FF97FF",
                      "#FECB52"
                    ],
                    "font": {
                      "color": "#2a3f5f"
                    },
                    "geo": {
                      "bgcolor": "white",
                      "lakecolor": "white",
                      "landcolor": "#E5ECF6",
                      "showlakes": true,
                      "showland": true,
                      "subunitcolor": "white"
                    },
                    "hoverlabel": {
                      "align": "left"
                    },
                    "hovermode": "closest",
                    "mapbox": {
                      "style": "light"
                    },
                    "paper_bgcolor": "white",
                    "plot_bgcolor": "#E5ECF6",
                    "polar": {
                      "angularaxis": {
                        "gridcolor": "white",
                        "linecolor": "white",
                        "ticks": ""
                      },
                      "bgcolor": "#E5ECF6",
                      "radialaxis": {
                        "gridcolor": "white",
                        "linecolor": "white",
                        "ticks": ""
                      }
                    },
                    "scene": {
                      "xaxis": {
                        "backgroundcolor": "#E5ECF6",
                        "gridcolor": "white",
                        "gridwidth": 2,
                        "linecolor": "white",
                        "showbackground": true,
                        "ticks": "",
                        "zerolinecolor": "white"
                      },
                      "yaxis": {
                        "backgroundcolor": "#E5ECF6",
                        "gridcolor": "white",
                        "gridwidth": 2,
                        "linecolor": "white",
                        "showbackground": true,
                        "ticks": "",
                        "zerolinecolor": "white"
                      },
                      "zaxis": {
                        "backgroundcolor": "#E5ECF6",
                        "gridcolor": "white",
                        "gridwidth": 2,
                        "linecolor": "white",
                        "showbackground": true,
                        "ticks": "",
                        "zerolinecolor": "white"
                      }
                    },
                    "shapedefaults": {
                      "line": {
                        "color": "#2a3f5f"
                      }
                    },
                    "ternary": {
                      "aaxis": {
                        "gridcolor": "white",
                        "linecolor": "white",
                        "ticks": ""
                      },
                      "baxis": {
                        "gridcolor": "white",
                        "linecolor": "white",
                        "ticks": ""
                      },
                      "bgcolor": "#E5ECF6",
                      "caxis": {
                        "gridcolor": "white",
                        "linecolor": "white",
                        "ticks": ""
                      }
                    },
                    "title": {
                      "x": 0.05
                    },
                    "xaxis": {
                      "automargin": true,
                      "gridcolor": "white",
                      "linecolor": "white",
                      "ticks": "",
                      "title": {
                        "standoff": 15
                      },
                      "zerolinecolor": "white",
                      "zerolinewidth": 2
                    },
                    "yaxis": {
                      "automargin": true,
                      "gridcolor": "white",
                      "linecolor": "white",
                      "ticks": "",
                      "title": {
                        "standoff": 15
                      },
                      "zerolinecolor": "white",
                      "zerolinewidth": 2
                    }
                  }
                }
              }
            }
          },
          "metadata": {},
          "output_type": "display_data"
        }
      ],
      "source": [
        "df_cities_weather[\"rain_mean\"] = df_cities_weather[\"rain\"].groupby(df_cities_weather[\"city\"]).transform(\"mean\")\n",
        "\n",
        "fig = px.scatter_mapbox(df_cities_weather, lat=\"lat\", lon=\"lon\", color=\"rain_mean\",\n",
        "                        zoom=4, mapbox_style=\"carto-positron\",\n",
        "                        hover_name='city'\n",
        "                        )\n",
        "fig.write_html('data/rain_mean.html')\n",
        "fig.show()"
      ]
    },
    {
      "cell_type": "code",
      "execution_count": 24,
      "metadata": {
        "colab": {
          "base_uri": "https://localhost:8080/",
          "height": 206
        },
        "id": "AtsY0AlYMvTS",
        "outputId": "43fa62ad-7153-4d91-b9ca-e5d8b70882cf"
      },
      "outputs": [
        {
          "data": {
            "text/html": [
              "<div>\n",
              "<style scoped>\n",
              "    .dataframe tbody tr th:only-of-type {\n",
              "        vertical-align: middle;\n",
              "    }\n",
              "\n",
              "    .dataframe tbody tr th {\n",
              "        vertical-align: top;\n",
              "    }\n",
              "\n",
              "    .dataframe thead th {\n",
              "        text-align: right;\n",
              "    }\n",
              "</style>\n",
              "<table border=\"1\" class=\"dataframe\">\n",
              "  <thead>\n",
              "    <tr style=\"text-align: right;\">\n",
              "      <th></th>\n",
              "      <th>city</th>\n",
              "      <th>lat</th>\n",
              "      <th>lon</th>\n",
              "      <th>place_id</th>\n",
              "      <th>rain_mean</th>\n",
              "      <th>feels_like_mean</th>\n",
              "    </tr>\n",
              "  </thead>\n",
              "  <tbody>\n",
              "    <tr>\n",
              "      <th>0</th>\n",
              "      <td>Saintes Maries de la mer</td>\n",
              "      <td>43.451592</td>\n",
              "      <td>4.427720</td>\n",
              "      <td>74989696.0</td>\n",
              "      <td>0.010029</td>\n",
              "      <td>7.824286</td>\n",
              "    </tr>\n",
              "    <tr>\n",
              "      <th>1</th>\n",
              "      <td>Aigues Mortes</td>\n",
              "      <td>43.566152</td>\n",
              "      <td>4.191540</td>\n",
              "      <td>74835274.0</td>\n",
              "      <td>0.017714</td>\n",
              "      <td>8.348571</td>\n",
              "    </tr>\n",
              "    <tr>\n",
              "      <th>2</th>\n",
              "      <td>Nimes</td>\n",
              "      <td>43.837425</td>\n",
              "      <td>4.360069</td>\n",
              "      <td>75374635.0</td>\n",
              "      <td>0.366600</td>\n",
              "      <td>7.335714</td>\n",
              "    </tr>\n",
              "    <tr>\n",
              "      <th>3</th>\n",
              "      <td>Collioure</td>\n",
              "      <td>42.525050</td>\n",
              "      <td>3.083155</td>\n",
              "      <td>76480430.0</td>\n",
              "      <td>0.457200</td>\n",
              "      <td>10.118571</td>\n",
              "    </tr>\n",
              "    <tr>\n",
              "      <th>4</th>\n",
              "      <td>Aix en Provence</td>\n",
              "      <td>43.529842</td>\n",
              "      <td>5.447474</td>\n",
              "      <td>74605205.0</td>\n",
              "      <td>0.736657</td>\n",
              "      <td>6.970000</td>\n",
              "    </tr>\n",
              "  </tbody>\n",
              "</table>\n",
              "</div>"
            ],
            "text/plain": [
              "                       city        lat       lon    place_id  rain_mean  \\\n",
              "0  Saintes Maries de la mer  43.451592  4.427720  74989696.0   0.010029   \n",
              "1             Aigues Mortes  43.566152  4.191540  74835274.0   0.017714   \n",
              "2                     Nimes  43.837425  4.360069  75374635.0   0.366600   \n",
              "3                 Collioure  42.525050  3.083155  76480430.0   0.457200   \n",
              "4           Aix en Provence  43.529842  5.447474  74605205.0   0.736657   \n",
              "\n",
              "   feels_like_mean  \n",
              "0         7.824286  \n",
              "1         8.348571  \n",
              "2         7.335714  \n",
              "3        10.118571  \n",
              "4         6.970000  "
            ]
          },
          "execution_count": 24,
          "metadata": {},
          "output_type": "execute_result"
        }
      ],
      "source": [
        "df_best_cities = df_cities_weather[[\"city\", \"lat\", \"lon\", \"place_id\", \"rain_mean\", \"feels_like_mean\"]].drop_duplicates().sort_values(by=[\"rain_mean\", \"feels_like_mean\"], ascending=[True, False]).reset_index(drop=True).head(5)\n",
        "df_best_cities.head(10)"
      ]
    },
    {
      "cell_type": "code",
      "execution_count": 25,
      "metadata": {
        "id": "xGYAQ07tC0f4"
      },
      "outputs": [],
      "source": [
        "id_booking = ['-1465138', '-1406800', '-1455068', '-1421032', \"-1406939\"]\n",
        "\n",
        "df_best_cities['id_booking'] = id_booking"
      ]
    },
    {
      "cell_type": "code",
      "execution_count": 26,
      "metadata": {
        "id": "q1mcYizQERRL"
      },
      "outputs": [],
      "source": [
        "df_cities_weather.to_csv(\"data/cities_weather.csv\", index=False)\n",
        "df_best_cities.to_csv(\"data/best_cities.csv\", index=False)"
      ]
    },
    {
      "cell_type": "code",
      "execution_count": 27,
      "metadata": {
        "colab": {
          "base_uri": "https://localhost:8080/",
          "height": 206
        },
        "id": "n0PBkSCRELaE",
        "outputId": "e60d3a95-560a-44b8-b00b-f2e90828bf03"
      },
      "outputs": [
        {
          "data": {
            "text/html": [
              "<div>\n",
              "<style scoped>\n",
              "    .dataframe tbody tr th:only-of-type {\n",
              "        vertical-align: middle;\n",
              "    }\n",
              "\n",
              "    .dataframe tbody tr th {\n",
              "        vertical-align: top;\n",
              "    }\n",
              "\n",
              "    .dataframe thead th {\n",
              "        text-align: right;\n",
              "    }\n",
              "</style>\n",
              "<table border=\"1\" class=\"dataframe\">\n",
              "  <thead>\n",
              "    <tr style=\"text-align: right;\">\n",
              "      <th></th>\n",
              "      <th>city</th>\n",
              "      <th>lat</th>\n",
              "      <th>lon</th>\n",
              "      <th>place_id</th>\n",
              "      <th>rain_mean</th>\n",
              "      <th>feels_like_mean</th>\n",
              "      <th>id_booking</th>\n",
              "    </tr>\n",
              "  </thead>\n",
              "  <tbody>\n",
              "    <tr>\n",
              "      <th>0</th>\n",
              "      <td>Saintes Maries de la mer</td>\n",
              "      <td>43.451592</td>\n",
              "      <td>4.427720</td>\n",
              "      <td>74989696.0</td>\n",
              "      <td>0.010029</td>\n",
              "      <td>7.824286</td>\n",
              "      <td>-1465138</td>\n",
              "    </tr>\n",
              "    <tr>\n",
              "      <th>1</th>\n",
              "      <td>Aigues Mortes</td>\n",
              "      <td>43.566152</td>\n",
              "      <td>4.191540</td>\n",
              "      <td>74835274.0</td>\n",
              "      <td>0.017714</td>\n",
              "      <td>8.348571</td>\n",
              "      <td>-1406800</td>\n",
              "    </tr>\n",
              "    <tr>\n",
              "      <th>2</th>\n",
              "      <td>Nimes</td>\n",
              "      <td>43.837425</td>\n",
              "      <td>4.360069</td>\n",
              "      <td>75374635.0</td>\n",
              "      <td>0.366600</td>\n",
              "      <td>7.335714</td>\n",
              "      <td>-1455068</td>\n",
              "    </tr>\n",
              "    <tr>\n",
              "      <th>3</th>\n",
              "      <td>Collioure</td>\n",
              "      <td>42.525050</td>\n",
              "      <td>3.083155</td>\n",
              "      <td>76480430.0</td>\n",
              "      <td>0.457200</td>\n",
              "      <td>10.118571</td>\n",
              "      <td>-1421032</td>\n",
              "    </tr>\n",
              "    <tr>\n",
              "      <th>4</th>\n",
              "      <td>Aix en Provence</td>\n",
              "      <td>43.529842</td>\n",
              "      <td>5.447474</td>\n",
              "      <td>74605205.0</td>\n",
              "      <td>0.736657</td>\n",
              "      <td>6.970000</td>\n",
              "      <td>-1406939</td>\n",
              "    </tr>\n",
              "  </tbody>\n",
              "</table>\n",
              "</div>"
            ],
            "text/plain": [
              "                       city        lat       lon    place_id  rain_mean  \\\n",
              "0  Saintes Maries de la mer  43.451592  4.427720  74989696.0   0.010029   \n",
              "1             Aigues Mortes  43.566152  4.191540  74835274.0   0.017714   \n",
              "2                     Nimes  43.837425  4.360069  75374635.0   0.366600   \n",
              "3                 Collioure  42.525050  3.083155  76480430.0   0.457200   \n",
              "4           Aix en Provence  43.529842  5.447474  74605205.0   0.736657   \n",
              "\n",
              "   feels_like_mean  id_booking  \n",
              "0         7.824286    -1465138  \n",
              "1         8.348571    -1406800  \n",
              "2         7.335714    -1455068  \n",
              "3        10.118571    -1421032  \n",
              "4         6.970000    -1406939  "
            ]
          },
          "execution_count": 27,
          "metadata": {},
          "output_type": "execute_result"
        }
      ],
      "source": [
        "df_best_cities = pd.read_csv(\"data/best_cities.csv\", )\n",
        "df_best_cities.head()"
      ]
    },
    {
      "cell_type": "markdown",
      "metadata": {
        "id": "8z_ovibS_Suc"
      },
      "source": [
        "Get Hotels"
      ]
    },
    {
      "cell_type": "code",
      "execution_count": 66,
      "metadata": {
        "colab": {
          "base_uri": "https://localhost:8080/"
        },
        "id": "da1rQfO7ubTU",
        "outputId": "6bcf2f1a-492a-42b6-de03-c7bbfcf84b21"
      },
      "outputs": [
        {
          "name": "stdout",
          "output_type": "stream",
          "text": [
            "2025-01-05 15:33:48 [scrapy.utils.log] INFO: Scrapy 2.12.0 started (bot: scrapybot)\n",
            "2025-01-05 15:33:48 [scrapy.utils.log] INFO: Versions: lxml 5.3.0.0, libxml2 2.12.9, cssselect 1.2.0, parsel 1.9.1, w3lib 2.2.1, Twisted 24.11.0, Python 3.10.12 (main, Nov  6 2024, 20:22:13) [GCC 11.4.0], pyOpenSSL 24.2.1 (OpenSSL 3.3.2 3 Sep 2024), cryptography 43.0.3, Platform Linux-6.1.85+-x86_64-with-glibc2.35\n",
            "2025-01-05 15:33:48 [scrapy.addons] INFO: Enabled addons:\n",
            "[]\n",
            "2025-01-05 15:33:48 [scrapy.extensions.telnet] INFO: Telnet Password: 00e8d3d515e53c58\n",
            "2025-01-05 15:33:48 [scrapy.middleware] INFO: Enabled extensions:\n",
            "['scrapy.extensions.corestats.CoreStats',\n",
            " 'scrapy.extensions.telnet.TelnetConsole',\n",
            " 'scrapy.extensions.memusage.MemoryUsage',\n",
            " 'scrapy.extensions.feedexport.FeedExporter',\n",
            " 'scrapy.extensions.logstats.LogStats']\n",
            "2025-01-05 15:33:48 [scrapy.crawler] INFO: Overridden settings:\n",
            "{'LOG_LEVEL': 20,\n",
            " 'USER_AGENT': 'Mozilla/5.0 (Windows NT 10.0; Win64; x64) AppleWebKit/537.36 '\n",
            "               '(KHTML, like Gecko) Chrome/131.0.0.0 Safari/537.36'}\n",
            "2025-01-05 15:33:49 [scrapy.middleware] INFO: Enabled downloader middlewares:\n",
            "['scrapy.downloadermiddlewares.offsite.OffsiteMiddleware',\n",
            " 'scrapy.downloadermiddlewares.httpauth.HttpAuthMiddleware',\n",
            " 'scrapy.downloadermiddlewares.downloadtimeout.DownloadTimeoutMiddleware',\n",
            " 'scrapy.downloadermiddlewares.defaultheaders.DefaultHeadersMiddleware',\n",
            " 'scrapy.downloadermiddlewares.useragent.UserAgentMiddleware',\n",
            " 'scrapy.downloadermiddlewares.retry.RetryMiddleware',\n",
            " 'scrapy.downloadermiddlewares.redirect.MetaRefreshMiddleware',\n",
            " 'scrapy.downloadermiddlewares.httpcompression.HttpCompressionMiddleware',\n",
            " 'scrapy.downloadermiddlewares.redirect.RedirectMiddleware',\n",
            " 'scrapy.downloadermiddlewares.cookies.CookiesMiddleware',\n",
            " 'scrapy.downloadermiddlewares.httpproxy.HttpProxyMiddleware',\n",
            " 'scrapy.downloadermiddlewares.stats.DownloaderStats']\n",
            "2025-01-05 15:33:49 [scrapy.middleware] INFO: Enabled spider middlewares:\n",
            "['scrapy.spidermiddlewares.httperror.HttpErrorMiddleware',\n",
            " 'scrapy.spidermiddlewares.referer.RefererMiddleware',\n",
            " 'scrapy.spidermiddlewares.urllength.UrlLengthMiddleware',\n",
            " 'scrapy.spidermiddlewares.depth.DepthMiddleware']\n",
            "2025-01-05 15:33:49 [scrapy.middleware] INFO: Enabled item pipelines:\n",
            "[]\n",
            "2025-01-05 15:33:49 [scrapy.core.engine] INFO: Spider opened\n",
            "2025-01-05 15:33:49 [scrapy.extensions.logstats] INFO: Crawled 0 pages (at 0 pages/min), scraped 0 items (at 0 items/min)\n",
            "2025-01-05 15:33:49 [scrapy.extensions.telnet] INFO: Telnet console listening on 127.0.0.1:6023\n",
            "2025-01-05 15:34:17 [scrapy.core.engine] INFO: Closing spider (finished)\n",
            "2025-01-05 15:34:17 [scrapy.extensions.feedexport] INFO: Stored json feed (125 items) in: src/list_hotels.json\n",
            "2025-01-05 15:34:17 [scrapy.statscollectors] INFO: Dumping Scrapy stats:\n",
            "{'downloader/request_bytes': 197216,\n",
            " 'downloader/request_count': 130,\n",
            " 'downloader/request_method_count/GET': 130,\n",
            " 'downloader/response_bytes': 43328934,\n",
            " 'downloader/response_count': 130,\n",
            " 'downloader/response_status_count/200': 130,\n",
            " 'elapsed_time_seconds': 28.706401,\n",
            " 'feedexport/success_count/FileFeedStorage': 1,\n",
            " 'finish_reason': 'finished',\n",
            " 'finish_time': datetime.datetime(2025, 1, 5, 15, 34, 17, 893368, tzinfo=datetime.timezone.utc),\n",
            " 'httpcompression/response_bytes': 167472019,\n",
            " 'httpcompression/response_count': 130,\n",
            " 'item_scraped_count': 125,\n",
            " 'items_per_minute': None,\n",
            " 'log_count/INFO': 11,\n",
            " 'memusage/max': 406540288,\n",
            " 'memusage/startup': 406540288,\n",
            " 'request_depth_max': 1,\n",
            " 'response_received_count': 130,\n",
            " 'responses_per_minute': None,\n",
            " 'scheduler/dequeued': 130,\n",
            " 'scheduler/dequeued/memory': 130,\n",
            " 'scheduler/enqueued': 130,\n",
            " 'scheduler/enqueued/memory': 130,\n",
            " 'start_time': datetime.datetime(2025, 1, 5, 15, 33, 49, 186967, tzinfo=datetime.timezone.utc)}\n",
            "2025-01-05 15:34:17 [scrapy.core.engine] INFO: Spider closed (finished)\n"
          ]
        }
      ],
      "source": [
        "!python src/scraping_booking_ok.py"
      ]
    },
    {
      "cell_type": "code",
      "execution_count": 30,
      "metadata": {},
      "outputs": [
        {
          "data": {
            "text/plain": [
              "'2.11.1'"
            ]
          },
          "execution_count": 30,
          "metadata": {},
          "output_type": "execute_result"
        }
      ],
      "source": [
        "scrapy.__version__"
      ]
    },
    {
      "cell_type": "code",
      "execution_count": 31,
      "metadata": {
        "colab": {
          "base_uri": "https://localhost:8080/"
        },
        "id": "asU-71cFHp9A",
        "outputId": "b5d89fa0-7f1d-4c36-eff5-2c4563127e92"
      },
      "outputs": [
        {
          "name": "stderr",
          "output_type": "stream",
          "text": [
            "2025-01-05 17:03:50 [scrapy.utils.log] INFO: Scrapy 2.11.1 started (bot: scrapybot)\n",
            "2025-01-05 17:03:50 [scrapy.utils.log] INFO: Versions: lxml 5.2.1.0, libxml2 2.10.4, cssselect 1.2.0, parsel 1.8.1, w3lib 2.1.2, Twisted 23.10.0, Python 3.12.4 | packaged by Anaconda, Inc. | (main, Jun 18 2024, 15:03:56) [MSC v.1929 64 bit (AMD64)], pyOpenSSL 24.0.0 (OpenSSL 3.0.15 3 Sep 2024), cryptography 42.0.5, Platform Windows-11-10.0.22000-SP0\n",
            "2025-01-05 17:03:50 [scrapy.addons] INFO: Enabled addons:\n",
            "[]\n",
            "2025-01-05 17:03:50 [scrapy.extensions.telnet] INFO: Telnet Password: 9f3e9e7535613075\n",
            "2025-01-05 17:03:50 [scrapy.middleware] INFO: Enabled extensions:\n",
            "['scrapy.extensions.corestats.CoreStats',\n",
            " 'scrapy.extensions.telnet.TelnetConsole',\n",
            " 'scrapy.extensions.feedexport.FeedExporter',\n",
            " 'scrapy.extensions.logstats.LogStats']\n",
            "2025-01-05 17:03:50 [scrapy.crawler] INFO: Overridden settings:\n",
            "{'LOG_LEVEL': 20,\n",
            " 'REQUEST_FINGERPRINTER_IMPLEMENTATION': '2.7',\n",
            " 'USER_AGENT': 'Mozilla/5.0 (Windows NT 10.0; Win64; x64) AppleWebKit/537.36 '\n",
            "               '(KHTML, like Gecko) Chrome/131.0.0.0 Safari/537.36'}\n",
            "2025-01-05 17:03:50 [scrapy.middleware] INFO: Enabled downloader middlewares:\n",
            "['scrapy.downloadermiddlewares.httpauth.HttpAuthMiddleware',\n",
            " 'scrapy.downloadermiddlewares.downloadtimeout.DownloadTimeoutMiddleware',\n",
            " 'scrapy.downloadermiddlewares.defaultheaders.DefaultHeadersMiddleware',\n",
            " 'scrapy.downloadermiddlewares.useragent.UserAgentMiddleware',\n",
            " 'scrapy.downloadermiddlewares.retry.RetryMiddleware',\n",
            " 'scrapy.downloadermiddlewares.redirect.MetaRefreshMiddleware',\n",
            " 'scrapy.downloadermiddlewares.httpcompression.HttpCompressionMiddleware',\n",
            " 'scrapy.downloadermiddlewares.redirect.RedirectMiddleware',\n",
            " 'scrapy.downloadermiddlewares.cookies.CookiesMiddleware',\n",
            " 'scrapy.downloadermiddlewares.httpproxy.HttpProxyMiddleware',\n",
            " 'scrapy.downloadermiddlewares.stats.DownloaderStats']\n",
            "2025-01-05 17:03:50 [scrapy.middleware] INFO: Enabled spider middlewares:\n",
            "['scrapy.spidermiddlewares.httperror.HttpErrorMiddleware',\n",
            " 'scrapy.spidermiddlewares.offsite.OffsiteMiddleware',\n",
            " 'scrapy.spidermiddlewares.referer.RefererMiddleware',\n",
            " 'scrapy.spidermiddlewares.urllength.UrlLengthMiddleware',\n",
            " 'scrapy.spidermiddlewares.depth.DepthMiddleware']\n",
            "2025-01-05 17:03:50 [scrapy.middleware] INFO: Enabled item pipelines:\n",
            "[]\n",
            "2025-01-05 17:03:50 [scrapy.core.engine] INFO: Spider opened\n",
            "2025-01-05 17:03:50 [scrapy.extensions.logstats] INFO: Crawled 0 pages (at 0 pages/min), scraped 0 items (at 0 items/min)\n",
            "2025-01-05 17:03:50 [scrapy.extensions.telnet] INFO: Telnet console listening on 127.0.0.1:6024\n"
          ]
        },
        {
          "ename": "ReactorNotRestartable",
          "evalue": "",
          "output_type": "error",
          "traceback": [
            "\u001b[1;31m---------------------------------------------------------------------------\u001b[0m",
            "\u001b[1;31mReactorNotRestartable\u001b[0m                     Traceback (most recent call last)",
            "Cell \u001b[1;32mIn[31], line 68\u001b[0m\n\u001b[0;32m     58\u001b[0m process \u001b[38;5;241m=\u001b[39m CrawlerProcess(settings\u001b[38;5;241m=\u001b[39m{\n\u001b[0;32m     59\u001b[0m     \u001b[38;5;124m'\u001b[39m\u001b[38;5;124mUSER_AGENT\u001b[39m\u001b[38;5;124m'\u001b[39m: \u001b[38;5;124m'\u001b[39m\u001b[38;5;124mMozilla/5.0 (Windows NT 10.0; Win64; x64) AppleWebKit/537.36 (KHTML, like Gecko) Chrome/131.0.0.0 Safari/537.36\u001b[39m\u001b[38;5;124m'\u001b[39m,\n\u001b[0;32m     60\u001b[0m     \u001b[38;5;124m'\u001b[39m\u001b[38;5;124mLOG_LEVEL\u001b[39m\u001b[38;5;124m'\u001b[39m: logging\u001b[38;5;241m.\u001b[39mINFO,\n\u001b[1;32m   (...)\u001b[0m\n\u001b[0;32m     64\u001b[0m     \u001b[38;5;124m\"\u001b[39m\u001b[38;5;124mREQUEST_FINGERPRINTER_IMPLEMENTATION\u001b[39m\u001b[38;5;124m\"\u001b[39m: \u001b[38;5;124m\"\u001b[39m\u001b[38;5;124m2.7\u001b[39m\u001b[38;5;124m\"\u001b[39m\n\u001b[0;32m     65\u001b[0m })\n\u001b[0;32m     67\u001b[0m process\u001b[38;5;241m.\u001b[39mcrawl(BookingSpider)\n\u001b[1;32m---> 68\u001b[0m process\u001b[38;5;241m.\u001b[39mstart()\n",
            "File \u001b[1;32mc:\\Users\\DELL\\anaconda3\\Lib\\site-packages\\scrapy\\crawler.py:429\u001b[0m, in \u001b[0;36mCrawlerProcess.start\u001b[1;34m(self, stop_after_crawl, install_signal_handlers)\u001b[0m\n\u001b[0;32m    425\u001b[0m \u001b[38;5;28;01mif\u001b[39;00m install_signal_handlers:\n\u001b[0;32m    426\u001b[0m     reactor\u001b[38;5;241m.\u001b[39maddSystemEventTrigger(\n\u001b[0;32m    427\u001b[0m         \u001b[38;5;124m\"\u001b[39m\u001b[38;5;124mafter\u001b[39m\u001b[38;5;124m\"\u001b[39m, \u001b[38;5;124m\"\u001b[39m\u001b[38;5;124mstartup\u001b[39m\u001b[38;5;124m\"\u001b[39m, install_shutdown_handlers, \u001b[38;5;28mself\u001b[39m\u001b[38;5;241m.\u001b[39m_signal_shutdown\n\u001b[0;32m    428\u001b[0m     )\n\u001b[1;32m--> 429\u001b[0m reactor\u001b[38;5;241m.\u001b[39mrun(installSignalHandlers\u001b[38;5;241m=\u001b[39minstall_signal_handlers)\n",
            "File \u001b[1;32mc:\\Users\\DELL\\anaconda3\\Lib\\site-packages\\twisted\\internet\\base.py:693\u001b[0m, in \u001b[0;36mReactorBase.run\u001b[1;34m(self, installSignalHandlers)\u001b[0m\n\u001b[0;32m    692\u001b[0m \u001b[38;5;28;01mdef\u001b[39;00m \u001b[38;5;21mrun\u001b[39m(\u001b[38;5;28mself\u001b[39m, installSignalHandlers: \u001b[38;5;28mbool\u001b[39m \u001b[38;5;241m=\u001b[39m \u001b[38;5;28;01mTrue\u001b[39;00m) \u001b[38;5;241m-\u001b[39m\u001b[38;5;241m>\u001b[39m \u001b[38;5;28;01mNone\u001b[39;00m:\n\u001b[1;32m--> 693\u001b[0m     \u001b[38;5;28mself\u001b[39m\u001b[38;5;241m.\u001b[39mstartRunning(installSignalHandlers\u001b[38;5;241m=\u001b[39minstallSignalHandlers)\n\u001b[0;32m    694\u001b[0m     \u001b[38;5;28;01mtry\u001b[39;00m:\n\u001b[0;32m    695\u001b[0m         \u001b[38;5;28mself\u001b[39m\u001b[38;5;241m.\u001b[39mmainLoop()\n",
            "File \u001b[1;32mc:\\Users\\DELL\\anaconda3\\Lib\\site-packages\\twisted\\internet\\base.py:930\u001b[0m, in \u001b[0;36mReactorBase.startRunning\u001b[1;34m(self, installSignalHandlers)\u001b[0m\n\u001b[0;32m    928\u001b[0m     \u001b[38;5;28;01mraise\u001b[39;00m error\u001b[38;5;241m.\u001b[39mReactorAlreadyRunning()\n\u001b[0;32m    929\u001b[0m \u001b[38;5;28;01mif\u001b[39;00m \u001b[38;5;28mself\u001b[39m\u001b[38;5;241m.\u001b[39m_startedBefore:\n\u001b[1;32m--> 930\u001b[0m     \u001b[38;5;28;01mraise\u001b[39;00m error\u001b[38;5;241m.\u001b[39mReactorNotRestartable()\n\u001b[0;32m    932\u001b[0m \u001b[38;5;28mself\u001b[39m\u001b[38;5;241m.\u001b[39m_signals\u001b[38;5;241m.\u001b[39muninstall()\n\u001b[0;32m    933\u001b[0m \u001b[38;5;28mself\u001b[39m\u001b[38;5;241m.\u001b[39m_installSignalHandlers \u001b[38;5;241m=\u001b[39m installSignalHandlers\n",
            "\u001b[1;31mReactorNotRestartable\u001b[0m: "
          ]
        }
      ],
      "source": [
        "import scrapy\n",
        "from scrapy.crawler import CrawlerProcess\n",
        "\n",
        "import logging\n",
        "from urllib.parse import urlencode\n",
        "import pandas as pd\n",
        "\n",
        "class BookingSpider(scrapy.Spider):\n",
        "  name = \"booking\"\n",
        "\n",
        "  custom_settings = {\n",
        "            \"REQUEST_FINGERPRINTER_IMPLEMENTATION\": \"2.7\"\n",
        "  }\n",
        "\n",
        "  def start_requests(self):\n",
        "    df_best_cities = pd.read_csv(\"best_cities.csv\", )\n",
        "\n",
        "    for index, row in df_best_cities.iterrows():\n",
        "      url = 'https://www.booking.com/searchresults.fr.html'\n",
        "      params = {'ss': row.city, 'lang': 'fr', 'dest_id': row.id_booking, 'dest_type': 'city'}\n",
        "      full_url = f'{url}?{urlencode(params)}'\n",
        "\n",
        "      yield scrapy.Request(url=full_url, callback=self.parse, cb_kwargs={'city': row.city})\n",
        "\n",
        "  def parse(self, response, city):\n",
        "    hotels = response.xpath('//div[@class=\"d4924c9e74\"]/div[@class=\"c82435a4b8 a178069f51 a6ae3c2b40 a18aeea94d d794b7a0f7 f53e278e95 c6710787a4\"]')\n",
        "\n",
        "    for hotel in hotels:\n",
        "      url = hotel.xpath('div[1]/div[2]/div/div[1]/div[1]/div/div[1]/div/h3/a/@href').get()\n",
        "      if url:\n",
        "        yield response.follow(url, callback=self.parse_hotel, cb_kwargs={'city': city, 'url': url})\n",
        "\n",
        "  def parse_hotel(self, response, city, url):\n",
        "\n",
        "    try:\n",
        "      score = response.xpath('//div[@id=\"js--hp-gallery-scorecard\"]').attrib['data-review-score']\n",
        "    except KeyError:\n",
        "      score = None\n",
        "\n",
        "    highlights = []\n",
        "\n",
        "    highlights_path = response.xpath('/html/body/div[4]/div/div[5]/div[1]/div[1]/div[2]/div/div[1]/div[2]/div[2]/div/div/ul/li')\n",
        "\n",
        "    for highlight in highlights_path:\n",
        "      highlights.append(highlight.xpath('div/div/div/span/div/span/text()').get())\n",
        "\n",
        "    yield {\n",
        "      'city': city,\n",
        "      'name': response.xpath('//h2[@class=\"d2fee87262 pp-header__title\"]/text()').get(),\n",
        "      'url': url,\n",
        "      'score': score,\n",
        "      'description': response.xpath('/html/body/div[4]/div/div[5]/div[1]/div[1]/div[2]/div/div[1]/div[1]/div[1]/div/div/p[1]/text()').get(),\n",
        "      'contact_details': response.xpath('//a[@id=\"map_trigger_header_pin\"]').attrib['data-atlas-latlng'],\n",
        "      'highlights': highlights\n",
        "    }\n",
        "\n",
        "\n",
        "filename = \"list_hotels.json\"\n",
        "\n",
        "process = CrawlerProcess(settings={\n",
        "    'USER_AGENT': 'Mozilla/5.0 (Windows NT 10.0; Win64; x64) AppleWebKit/537.36 (KHTML, like Gecko) Chrome/131.0.0.0 Safari/537.36',\n",
        "    'LOG_LEVEL': logging.INFO,\n",
        "    \"FEEDS\": {\n",
        "        'data/' + filename: {\"format\": \"json\"},\n",
        "    }\n",
        "})\n",
        "\n",
        "process.crawl(BookingSpider)\n",
        "process.start()"
      ]
    },
    {
      "cell_type": "markdown",
      "metadata": {
        "id": "3-At1bkswtxm"
      },
      "source": [
        "Store in data lake"
      ]
    },
    {
      "cell_type": "code",
      "execution_count": 25,
      "metadata": {
        "id": "ApB2uuSVwtUH"
      },
      "outputs": [],
      "source": [
        "aws_settings = open(\"data/aws_settings.txt\", \"r\").readlines()\n",
        "\n",
        "session = boto3.Session(\n",
        "    aws_access_key_id= aws_settings[0].strip(),\n",
        "    aws_secret_access_key= aws_settings[1]\n",
        ")\n",
        "\n",
        "s3 = session.resource(\"s3\")\n",
        "\n",
        "bucketname = 'bucket-kayak-nico'\n",
        "\n",
        "bucket = s3.Bucket(bucketname)\n",
        "\n",
        "# Check si le bucket existe, création sinon\n",
        "if bucket.creation_date == None:\n",
        "  bucket = s3.create_bucket(\n",
        "      Bucket=bucketname,\n",
        "      CreateBucketConfiguration={\n",
        "          'LocationConstraint': 'eu-west-3',\n",
        "      },)"
      ]
    },
    {
      "cell_type": "code",
      "execution_count": 17,
      "metadata": {
        "id": "bxb0E4gH3TSm"
      },
      "outputs": [],
      "source": [
        "# Import des fichiers\n",
        "bucket.upload_file(\"src/list_hotels.json\", \"list_hotels.json\")"
      ]
    }
  ],
  "metadata": {
    "colab": {
      "provenance": []
    },
    "kernelspec": {
      "display_name": "base",
      "language": "python",
      "name": "python3"
    },
    "language_info": {
      "codemirror_mode": {
        "name": "ipython",
        "version": 3
      },
      "file_extension": ".py",
      "mimetype": "text/x-python",
      "name": "python",
      "nbconvert_exporter": "python",
      "pygments_lexer": "ipython3",
      "version": "3.12.4"
    }
  },
  "nbformat": 4,
  "nbformat_minor": 0
}
